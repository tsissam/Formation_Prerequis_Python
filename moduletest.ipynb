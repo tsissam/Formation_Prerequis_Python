{
 "cells": [
  {
   "cell_type": "code",
   "execution_count": null,
   "id": "72d95ef4-de5a-4c87-9e05-9b5f4cab9a94",
   "metadata": {},
   "outputs": [],
   "source": [
    "### EXAMPLE PYTHON MODULE\n",
    "# Define some variables:\n",
    "numberone = 1\n",
    "nameOfJames = \"James\"\n",
    "\n",
    "# define some functions\n",
    "def printhello():\n",
    "    print(\"Hello\")\n",
    "\n",
    "def timesfour(input):\n",
    "    print(input * 4)\n",
    "\n",
    "# define a class\n",
    "class Piano:\n",
    "    def __init__(self):\n",
    "        self.type = input(\"Quel type de piano ? \")\n",
    "        self.height = input(\"Quelle hauteur (en pieds) ? \")\n",
    "        self.price = input(\"Combien a-t-il coûté ? \")\n",
    "        self.age = input(\"Quel âge a-t-il (en années) ? \")\n",
    "    \n",
    "    def printdetails(self):\n",
    "        print(\"Ce piano mesure \" + self.height + \" pieds de haut,\")\n",
    "        print(\"c'est un piano \" + self.type + \", âgé de \" + self.age + \" ans et ayant coûté \" + self.price + \" dollars.\")"
   ]
  }
 ],
 "metadata": {
  "kernelspec": {
   "display_name": "Python [conda env:base] *",
   "language": "python",
   "name": "conda-base-py"
  },
  "language_info": {
   "codemirror_mode": {
    "name": "ipython",
    "version": 3
   },
   "file_extension": ".py",
   "mimetype": "text/x-python",
   "name": "python",
   "nbconvert_exporter": "python",
   "pygments_lexer": "ipython3",
   "version": "3.12.7"
  }
 },
 "nbformat": 4,
 "nbformat_minor": 5
}
