{
 "cells": [
  {
   "cell_type": "markdown",
   "id": "f1179b87-e1e3-4a95-b9f9-59ddb901f1ab",
   "metadata": {},
   "source": [
    "# 4 Prérequis Python - Programmation"
   ]
  },
  {
   "cell_type": "markdown",
   "id": "16f88c66-b278-4ed3-825f-4ee5a0b67720",
   "metadata": {},
   "source": [
    "### Premier test (Texte \"Hello World\")"
   ]
  },
  {
   "cell_type": "code",
   "execution_count": 160,
   "id": "b53be05b-f978-4d55-b2a5-7f639af35cf9",
   "metadata": {},
   "outputs": [
    {
     "data": {
      "text/plain": [
       "'Hello World'"
      ]
     },
     "execution_count": 160,
     "metadata": {},
     "output_type": "execute_result"
    }
   ],
   "source": [
    "\"Hello World\""
   ]
  },
  {
   "cell_type": "markdown",
   "id": "513b3ed5-0d7e-4f98-b5fb-8ff7c35342e8",
   "metadata": {},
   "source": [
    "## 4.1 Varibales\n",
    "### 4.1.1 Définition d'une variable\n",
    "\n",
    "Les variables est l'un des concepts qui se retrouve dans la majorité des langages de programmation. Elles sont des symboles qui associent un nom (identifiant) à une valeur. Une variable est une donnée du programme, stockée dans l'ordinateur. C'est un code alpha-numérique qu'on lie à une donnée du programme, afin de pouvoir l'utiliser à plusieurs reprises et faire des calculs avec.\n",
    "\n",
    "Une variable doit respecter quelques règles de syntaxe chez Python:\n",
    "\n",
    "* Un nom de variable doit commencer par une lettre ou le caractère de soulignement\n",
    "* Un nom de variable ne peut commencer par un nombre\n",
    "* Un nom de variable ne peut contenir que des caractères alphanumériques et des traits de soulignement (A-Z, 0-9, et _ )\n",
    "* Les noms des variables sont sensibles à la casse (age, Age, et AGE sont trois variables différentes)"
   ]
  },
  {
   "cell_type": "markdown",
   "id": "11172cc8-e759-411b-855d-f253148b8162",
   "metadata": {},
   "source": [
    "Exemple\n",
    "\n",
    "x = 1\n",
    "\n",
    "y = \"James\"\n",
    "\n",
    "print(x)\n",
    "\n",
    "print(y)"
   ]
  },
  {
   "cell_type": "code",
   "execution_count": 164,
   "id": "5073cf5e-c547-4094-a9d4-2c2aaa4fd7bc",
   "metadata": {},
   "outputs": [
    {
     "name": "stdout",
     "output_type": "stream",
     "text": [
      "1\n",
      "James\n"
     ]
    }
   ],
   "source": [
    "x = 1\n",
    "y = \"James\"\n",
    "print(x)\n",
    "print(y)"
   ]
  },
  {
   "cell_type": "markdown",
   "id": "830d105d-f0ba-40dc-96bc-81afe1b5f460",
   "metadata": {},
   "source": [
    "### 4.1.2 Les opérations sur une variable\n",
    "\n",
    "#### 4.1.2.1 Addition, soustraction, multiplication, division\n",
    "\n",
    "Nous vous présentons les principaux opérateurs de Python, qui vont vous servir pour la grande majorité de vos\r\n",
    "programmes."
   ]
  },
  {
   "cell_type": "code",
   "execution_count": 167,
   "id": "d4f172c4-f04f-4824-ab11-23f88539c532",
   "metadata": {},
   "outputs": [
    {
     "data": {
      "text/plain": [
       "3"
      ]
     },
     "execution_count": 167,
     "metadata": {},
     "output_type": "execute_result"
    }
   ],
   "source": [
    "1+2"
   ]
  },
  {
   "cell_type": "code",
   "execution_count": 93,
   "id": "ac405a40-e9fa-41c1-b84d-aa8627d662e2",
   "metadata": {},
   "outputs": [
    {
     "data": {
      "text/plain": [
       "2"
      ]
     },
     "execution_count": 93,
     "metadata": {},
     "output_type": "execute_result"
    }
   ],
   "source": [
    "5-3"
   ]
  },
  {
   "cell_type": "code",
   "execution_count": 95,
   "id": "f5f6afe3-b801-4263-b88e-29c74a9cb40f",
   "metadata": {},
   "outputs": [
    {
     "data": {
      "text/plain": [
       "4"
      ]
     },
     "execution_count": 95,
     "metadata": {},
     "output_type": "execute_result"
    }
   ],
   "source": [
    "2*2"
   ]
  },
  {
   "cell_type": "code",
   "execution_count": 97,
   "id": "906f216a-b59b-4f3a-ba9b-6f09667c17fe",
   "metadata": {},
   "outputs": [
    {
     "data": {
      "text/plain": [
       "2.25"
      ]
     },
     "execution_count": 97,
     "metadata": {},
     "output_type": "execute_result"
    }
   ],
   "source": [
    "9/4"
   ]
  },
  {
   "cell_type": "code",
   "execution_count": 99,
   "id": "74c1f7d6-a5f1-4820-8656-b19a8dde88bb",
   "metadata": {},
   "outputs": [
    {
     "data": {
      "text/plain": [
       "17.5"
      ]
     },
     "execution_count": 99,
     "metadata": {},
     "output_type": "execute_result"
    }
   ],
   "source": [
    "5+5*(9-4)/2"
   ]
  },
  {
   "cell_type": "markdown",
   "id": "e1576a80-39fa-462d-a2f1-90bb84891aab",
   "metadata": {},
   "source": [
    "#### 4.1.2.2 Division entière et modulo\n",
    "Si vous avez testé la division, vous vous êtes rendu compte que le résultat est donné avec une virgule flottante, mais c'est le contraire avec la division entière et modulo :"
   ]
  },
  {
   "cell_type": "code",
   "execution_count": 7,
   "id": "0d833ebd-9193-4c6e-84eb-f0de86277ef2",
   "metadata": {},
   "outputs": [
    {
     "data": {
      "text/plain": [
       "2"
      ]
     },
     "execution_count": 7,
     "metadata": {},
     "output_type": "execute_result"
    }
   ],
   "source": [
    "9//4"
   ]
  },
  {
   "cell_type": "code",
   "execution_count": 46,
   "id": "edc6aad6-1054-4f48-aba2-31bf3e2fe82e",
   "metadata": {},
   "outputs": [
    {
     "data": {
      "text/plain": [
       "1"
      ]
     },
     "execution_count": 46,
     "metadata": {},
     "output_type": "execute_result"
    }
   ],
   "source": [
    "9%4 #modulo c'est le reste de la division"
   ]
  },
  {
   "cell_type": "markdown",
   "id": "80202854-a424-4eb7-8194-8b343a3d8476",
   "metadata": {},
   "source": [
    "#### 4.1.2.3 Opérations sur les variables\n",
    "Les mêmes opérations peuvent être effectuées sur les variables.\n",
    "Essayons par exemple d'augmenter de 1 la variable num_page."
   ]
  },
  {
   "cell_type": "code",
   "execution_count": 154,
   "id": "304d8840-79af-4b3a-b99c-d797de88b7a9",
   "metadata": {},
   "outputs": [
    {
     "name": "stdout",
     "output_type": "stream",
     "text": [
      "La prochaine valeur de num_page est :  29\n"
     ]
    }
   ],
   "source": [
    "# Exemple 1\n",
    "\n",
    "num_page = 28\n",
    "num_page = num_page + 1 ## ou num_page += 1\n",
    "print(\"La prochaine valeur de num_page est : \", num_page)"
   ]
  },
  {
   "cell_type": "markdown",
   "id": "2279ac9a-bc91-4550-8193-2751c0b0410d",
   "metadata": {},
   "source": [
    "#### Explication du print()\n",
    "\n",
    "La fonction print() en Python est utilisée pour afficher des informations à l’écran. Elle peut afficher du texte, des nombres, des variables et même des expressions, en les séparant par des virgules pour les concaténer automatiquement avec un espace. Par défaut, print() ajoute un retour à la ligne après l’affichage, mais ce comportement peut être modifié en utilisant l’argument end. Elle accepte également le paramètre sep pour définir le séparateur entre plusieurs éléments. Très flexible, print() est essentiel pour le débogage, l’affichage de résultats et l’interaction avec l’utilisateur.\n",
    "\n",
    "Dans notre exemple l’instruction print() a pour but d’afficher du texte et la valeur de num_page à l’écran.\n",
    "\n",
    "📌 Comment fonctionne-t-elle ?\n",
    "\n",
    "    * \"La prochaine valeur de num_page est : \" est une chaîne de caractères (texte).\n",
    "    * num_page est une variable qui contient la valeur mise à jour (ici, 29).\n",
    "    * La virgule , permet d’afficher à la fois le texte et la valeur de la variable."
   ]
  },
  {
   "cell_type": "code",
   "execution_count": 156,
   "id": "8e1397b1-1e20-4a2d-8aa1-716dc6a1ca1a",
   "metadata": {},
   "outputs": [
    {
     "name": "stdout",
     "output_type": "stream",
     "text": [
      "Bonjour-tout-le-monde\n"
     ]
    }
   ],
   "source": [
    "# exemple dub paramètre \"sep\"\n",
    "# Le paramètre sep dans la fonction print() permet de spécifier un séparateur personnalisé entre les éléments affichés.\n",
    "\n",
    "print(\"Bonjour\", \"tout\", \"le\", \"monde\", sep=\"-\")"
   ]
  },
  {
   "cell_type": "code",
   "execution_count": 158,
   "id": "9fb571b6-815f-484f-852c-d89a6a85146f",
   "metadata": {},
   "outputs": [
    {
     "name": "stdout",
     "output_type": "stream",
     "text": [
      "La valeur de c :  35\n"
     ]
    }
   ],
   "source": [
    "# Exemple 2\n",
    "\n",
    "a =  20\n",
    "b =  15\n",
    "c =  a + b\n",
    "print(\"La valeur de c : \", c)"
   ]
  },
  {
   "cell_type": "code",
   "execution_count": 160,
   "id": "fe7f0232-bc19-4e0b-a96e-de634de30f6e",
   "metadata": {},
   "outputs": [
    {
     "name": "stdout",
     "output_type": "stream",
     "text": [
      "Nom:|Serge|Âge:|24|Ville:|Kinshasa\n"
     ]
    }
   ],
   "source": [
    "# Exemple 3\n",
    "\n",
    "nom = \"Serge\"\n",
    "age = 24\n",
    "ville =  \"Kinshasa\"\n",
    "\n",
    "print(\"Nom:\", nom, \"Âge:\", age, \"Ville:\", ville, sep=\"|\")"
   ]
  },
  {
   "cell_type": "markdown",
   "id": "c8b182e0-ea25-42d0-8b72-b0ea60c4c202",
   "metadata": {},
   "source": [
    "#### Attention:\n",
    "certains mots-clés de Python sont réservés, c'est-à-dire que vous ne pouvez pas créer des variables\n",
    "portant ce nom.\n",
    "\n",
    "Vous pouvez également consulter cette liste par vous-même: keyword.kwlist"
   ]
  },
  {
   "cell_type": "code",
   "execution_count": 41,
   "id": "4a6198e8-5e0a-4f25-a224-672793bd7e3e",
   "metadata": {},
   "outputs": [
    {
     "name": "stdout",
     "output_type": "stream",
     "text": [
      "['False', 'None', 'True', 'and', 'as', 'assert', 'async', 'await', 'break', 'class', 'continue', 'def', 'del', 'elif', 'else', 'except', 'finally', 'for', 'from', 'global', 'if', 'import', 'in', 'is', 'lambda', 'nonlocal', 'not', 'or', 'pass', 'raise', 'return', 'try', 'while', 'with', 'yield']\n"
     ]
    }
   ],
   "source": [
    "import keyword\n",
    "print(keyword.kwlist)"
   ]
  },
  {
   "cell_type": "markdown",
   "id": "7473a8b0-c6f0-4e78-bb05-412147ca17c6",
   "metadata": {},
   "source": [
    "## 4.2 Types de données\n",
    "En programmation, le type de données est un concept important. Les variables peuvent stocker des données de différents\n",
    "types et différents types peuvent faire différentes choses.\n",
    "\n",
    "Python a les types de données suivants intégrés par défaut, dans ces catégories:"
   ]
  },
  {
   "cell_type": "markdown",
   "id": "7a2e6e7c-fd6d-4abb-b5cc-701336866f60",
   "metadata": {},
   "source": [
    "Type de données Types\n",
    "Type Texte - Text Type: str\n",
    "Types numériques - Numeric Types: int , float , complex\n",
    "Types Séquences - Sequence Types: list , tuple , range\n",
    "Mapping Type: dict\n",
    "Set Types: set , frozenset\n",
    "Type booléen - Boolean Type: bool\n",
    "Types binaires - Binary Types: bytes , bytearray , memoryview"
   ]
  },
  {
   "cell_type": "raw",
   "id": "dd891a9d-cba5-4d37-aac8-e4449502a336",
   "metadata": {},
   "source": [
    "  Type de données                  Types\n",
    "  ---------------                  -----\n",
    "* Type Texte - Text Type           : str\n",
    "* Types numériques - Numeric Types : int , float , complex\n",
    "* Types Séquences - Sequence Types : list , tuple , range\n",
    "* Mapping Type                     : dict\n",
    "* Set Types                        : set , frozenset\n",
    "* Type booléen - Boolean Type      : bool\n",
    "* Types binaires - Binary Types    : bytes , bytearray , memoryview\n",
    "\n",
    "Vous pouvez obtenir le type de données de n'importe quel objet en utilisant la fonction type () :"
   ]
  },
  {
   "cell_type": "code",
   "execution_count": 162,
   "id": "cf0337ae-5d91-428e-bc81-d738f5982ad9",
   "metadata": {},
   "outputs": [
    {
     "name": "stdout",
     "output_type": "stream",
     "text": [
      "<class 'float'>\n",
      "<class 'str'>\n",
      "<class 'int'>\n"
     ]
    }
   ],
   "source": [
    "# Exemple 4\n",
    "x = 4.5\n",
    "print(type(x))\n",
    "\n",
    "## nous voulons connaitre les types de nos variables de l'exemple 3\n",
    "print(type(nom))\n",
    "print(type(age))"
   ]
  },
  {
   "cell_type": "markdown",
   "id": "5311053b-efa9-4d5e-abac-a136be377e62",
   "metadata": {},
   "source": [
    "### 4.2.1 Déclaration du type de données\n",
    "\n",
    "En Python, le type de données est défini lorsque vous affectez une valeur à une variable:"
   ]
  },
  {
   "cell_type": "raw",
   "id": "b8d6d595-269e-4eff-bb40-9d7b3154f6b0",
   "metadata": {},
   "source": [
    "Example                                      Data Type\n",
    "-------                                      ---------\n",
    "x = \"Hello World\"                            str\n",
    "x = 1                                        int\n",
    "x = 1.5                                      float\n",
    "x = 1j                                       complex\n",
    "x = [\"pomme\", \"banana\", \"lichi\"]             list\n",
    "x = (\"pomme\", \"banana\", \"lichi\")             tuple\n",
    "x = range(5)                                 range\n",
    "x = {\"name\" : \"Juphin\", \"age\" : 25}          dict\n",
    "x = {\"pomme\", \"banana\", \"lichi\"}             set\n",
    "x = frozenset({\"pomme\", \"banana\", \"lichi\"})  frozenset\n",
    "x = True                                     bool\n",
    "x = b\"Hello\"                                 bytes\n",
    "x = bytearray(5)                             bytearray\n",
    "x = memoryview(bytes(5))                     memoryview"
   ]
  },
  {
   "cell_type": "code",
   "execution_count": 164,
   "id": "169bcec2-4d6f-4cef-a7de-d457e7ef090c",
   "metadata": {},
   "outputs": [
    {
     "name": "stdout",
     "output_type": "stream",
     "text": [
      "Le Data Type de x0 :  <class 'str'>\n",
      "Le Data Type de x1 :  <class 'float'>\n",
      "Le Data Type de x2 :  <class 'complex'>\n",
      "Le Data Type de x3 :  <class 'list'>\n",
      "Le Data Type de x4 :  <class 'tuple'>\n",
      "Le Data Type de x5 :  <class 'range'>\n",
      "Le Data Type de x6 :  <class 'dict'>\n"
     ]
    }
   ],
   "source": [
    "# Exemple 5\n",
    "\n",
    "x0 = \"Hello World\"\n",
    "x1 = 1.5\n",
    "x2 = 1j\n",
    "x3 = [\"pomme\", \"banana\", \"lichi\"]\n",
    "x4 = (\"pomme\", \"banana\", \"lichi\")\n",
    "x5 = range(5)\n",
    "x6 = {\"name\" : \"Juphin\", \"age\" : 25}\n",
    "\n",
    "print(\"Le Data Type de x0 : \", type(x0))\n",
    "print(\"Le Data Type de x1 : \", type(x1))\n",
    "print(\"Le Data Type de x2 : \", type(x2))\n",
    "print(\"Le Data Type de x3 : \", type(x3))\n",
    "print(\"Le Data Type de x4 : \", type(x4))\n",
    "print(\"Le Data Type de x5 : \", type(x5))\n",
    "print(\"Le Data Type de x6 : \", type(x6))"
   ]
  },
  {
   "cell_type": "markdown",
   "id": "55984883-c615-4ce3-b62a-005f48632dd4",
   "metadata": {},
   "source": [
    "### 4.2.2 Introduction aux différents types de données\n",
    "\n",
    "Nous n'allons introduire ici quelques types de données les plus faciles à manier. Nous présenterons les types plus\n",
    "compliqués dans la suite de ce module avec les chapitres associés.\n",
    "\n",
    "#### 4.2.2.1 Python - Nombres entiers\n",
    "Python différencie les entiers des nombres à virgule flottante, pour un ordinateur, les opérations que l'on effectue sur des\n",
    "nombres à virgule ne sont pas les mêmes que celles sur les entiers, et cette distinction reste encore d'actualité de nos\n",
    "jours.\n",
    "\n",
    "Le type entier se nomme int en Python (qui correspond à l'anglais « integer »). La forme d'un entier est un nombre sans\n",
    "virgule."
   ]
  },
  {
   "cell_type": "code",
   "execution_count": 111,
   "id": "5ddb241f-f8e6-4760-9f94-9eb08094a1a5",
   "metadata": {},
   "outputs": [
    {
     "name": "stdout",
     "output_type": "stream",
     "text": [
      "<class 'int'>\n"
     ]
    }
   ],
   "source": [
    "x = 1\n",
    "print(type(x))"
   ]
  },
  {
   "cell_type": "markdown",
   "id": "aa328d69-f337-4592-941c-8b46cda25102",
   "metadata": {},
   "source": [
    "#### 4.2.2.2 Python - Nombres flottants\n",
    "\n",
    "Les flottants sont les nombres à virgule. Ils se nomment float en Python (ce qui signifie « flottant » en anglais). Si ce\n",
    "nombre n'a pas de partie flottante mais que vous voulez qu'il soit considéré par le système comme un flottant, vous\n",
    "pouvez lui ajouter une partie flottante de 0."
   ]
  },
  {
   "cell_type": "code",
   "execution_count": 113,
   "id": "e1984056-6aa4-4002-a7ef-078c0b3f660a",
   "metadata": {},
   "outputs": [
    {
     "name": "stdout",
     "output_type": "stream",
     "text": [
      "<class 'float'>\n"
     ]
    }
   ],
   "source": [
    "x = 1.0\n",
    "print(type(x))"
   ]
  },
  {
   "cell_type": "markdown",
   "id": "5de6f443-a92d-49f6-b115-bbba3f284002",
   "metadata": {},
   "source": [
    "#### 4.2.2.3 Python - Chaînes de caractères\n",
    "\n",
    "Ce type de donnée permet de stocker une série de lettres, donc une phrase aussi. On peut, à l'instar des nombres (et de\n",
    "tous les types de données) stocker une chaîne de caractères dans une variable. ( bonjour_classe = \"Bonjour, Tout le\n",
    "monde!\" )"
   ]
  },
  {
   "cell_type": "code",
   "execution_count": 257,
   "id": "8f012cd2-ace5-4377-b0fd-a8a1577dedd2",
   "metadata": {},
   "outputs": [
    {
     "name": "stdout",
     "output_type": "stream",
     "text": [
      "Bonjour, tout le monde!\n",
      "<class 'str'>\n"
     ]
    }
   ],
   "source": [
    "# Exemple 6\n",
    "\n",
    "bonjour_classe = \"Bonjour, tout le monde!\"\n",
    "print(bonjour_classe)\n",
    "print(type(bonjour_classe))"
   ]
  },
  {
   "cell_type": "markdown",
   "id": "fc138c1b-8f74-47b0-8ae5-bdd8b425aaea",
   "metadata": {},
   "source": [
    "------------------\n",
    "Note : Faites vous attention quand vous utilisez les guillemets ou apostrophes qui peuvent contenir ladite chaîne.\n",
    "\n",
    "Par exemple, si vous tapez like_python = 'J'aime le Python!' , vous obtenez le message d'erreur suivant :"
   ]
  },
  {
   "cell_type": "code",
   "execution_count": 139,
   "id": "d05c3690-d88d-4314-9158-eed894f9a7e9",
   "metadata": {},
   "outputs": [
    {
     "ename": "SyntaxError",
     "evalue": "unterminated string literal (detected at line 1) (1933502249.py, line 1)",
     "output_type": "error",
     "traceback": [
      "\u001b[0;36m  Cell \u001b[0;32mIn[139], line 1\u001b[0;36m\u001b[0m\n\u001b[0;31m    like_python = 'J'aime le Python!'\u001b[0m\n\u001b[0m                                    ^\u001b[0m\n\u001b[0;31mSyntaxError\u001b[0m\u001b[0;31m:\u001b[0m unterminated string literal (detected at line 1)\n"
     ]
    }
   ],
   "source": [
    "like_python = 'J'aime le Python!'"
   ]
  },
  {
   "cell_type": "markdown",
   "id": "84c80302-e4f3-4177-92f4-b91c16842c8f",
   "metadata": {},
   "source": [
    "-----------------\n",
    "Pour résoudre ce problème, il faut échapper les apostrophes se trouvant au coeur de la chaîne. On insère ainsi un\n",
    "caractère anti-slash \\ avant les apostrophes contenues dans le message."
   ]
  },
  {
   "cell_type": "code",
   "execution_count": 150,
   "id": "abbff5c8-2047-4745-8760-323e4b0f4244",
   "metadata": {},
   "outputs": [
    {
     "name": "stdout",
     "output_type": "stream",
     "text": [
      "J'aime le Python\n",
      "<class 'str'>\n"
     ]
    }
   ],
   "source": [
    "# Exemple 7\n",
    "\n",
    "like_python = 'J\\'aime le Python'\n",
    "print(like_python)\n",
    "print(type(like_python))"
   ]
  },
  {
   "cell_type": "markdown",
   "id": "dbf4a381-af47-4d6a-a9de-e4db09b92e32",
   "metadata": {},
   "source": [
    "-------------------\n",
    "Les chaînes peuvent être indexées (en indice), le premier caractère ayant l'index 0. Il n'y a pas de type de caractère\n",
    "séparé. Un caractère est simplement une chaîne de taille un:"
   ]
  },
  {
   "cell_type": "code",
   "execution_count": 187,
   "id": "4563e8b4-63e2-457f-ad5b-50dea22310b2",
   "metadata": {},
   "outputs": [
    {
     "name": "stdout",
     "output_type": "stream",
     "text": [
      "B\n",
      "o\n",
      "!\n"
     ]
    }
   ],
   "source": [
    "# Exemple 8\n",
    "\n",
    "bonjour_classe = \"Bonjour, tout le monde!\"\n",
    "print(bonjour_classe[0])\n",
    "print(bonjour_classe[1])\n",
    "print(bonjour_classe[-1]) # Dernier caractere"
   ]
  },
  {
   "cell_type": "markdown",
   "id": "dfde52c0-001d-4ba4-a7e8-8b4c82133807",
   "metadata": {},
   "source": [
    "------------------------\n",
    "En plus de l'indexation, le découpage est également pris en charge. Alors que l'indexation est utilisée pour obtenir des\n",
    "caractères individuels, le découpage vous permet d'obtenir une sous-chaîne. Les indices de tranche ont des valeurs par\n",
    "défaut utiles. Un premier index omis par défaut à zéro, un deuxième index omis par défaut à la taille de la chaîne\n",
    "découpée. A vous de tester."
   ]
  },
  {
   "cell_type": "code",
   "execution_count": 190,
   "id": "fa8ccd06-1983-446a-a833-a3699849ebf3",
   "metadata": {},
   "outputs": [
    {
     "name": "stdout",
     "output_type": "stream",
     "text": [
      "Bo\n",
      "Bo\n",
      "njour, tout le monde!\n",
      "e!\n",
      "Bonjour, tout le mond\n"
     ]
    }
   ],
   "source": [
    "# Exemple 8\n",
    "\n",
    "print(bonjour_classe[0:2])\n",
    "print(bonjour_classe[:2])\n",
    "print(bonjour_classe[2:])\n",
    "print(bonjour_classe[-2:])\n",
    "print(bonjour_classe[:-2])"
   ]
  },
  {
   "cell_type": "markdown",
   "id": "afe765bc-6d89-43f6-a098-60ad752792bc",
   "metadata": {},
   "source": [
    "------------------------------------\n",
    "Explication du slicing (:) en Python\n",
    "\n",
    "En Python, lorsqu’on utilise chaine[start:stop], cela signifie :\n",
    "\t•\tstart : index de départ (inclus).\n",
    "\t•\tstop : index de fin (exclu).\n",
    "\t•\tSi start est omis, il est considéré comme 0 par défaut.\n",
    "\t•\tSi stop est omis, il va jusqu’à la fin de la chaîne.\n",
    "\n",
    "bonjour_classe[0:2] → Prend les caractères aux indices 0 et 1 (car 2 est exclu).\n",
    "\t•\tbonjour_classe[0] = 'B'\n",
    "\t•\tbonjour_classe[1] = 'o'\n",
    "\t•\tDonc, résultat : \"Bo\"\n",
    "\t•\tbonjour_classe[:2] → Équivaut à bonjour_classe[0:2], car l’absence du start signifie qu’il commence à 0.\n",
    "\t•\tRésultat identique : \"Bo\""
   ]
  },
  {
   "cell_type": "markdown",
   "id": "40f7a5ef-77a9-4123-86f7-84d3bc33cf60",
   "metadata": {},
   "source": [
    "##### 4.2.2.3.1 La fonction len () renvoie la longueur d'une chaîne:"
   ]
  },
  {
   "cell_type": "code",
   "execution_count": 197,
   "id": "4bf2557f-f86a-482a-a9e5-cfd362fe1962",
   "metadata": {},
   "outputs": [
    {
     "name": "stdout",
     "output_type": "stream",
     "text": [
      "23\n"
     ]
    }
   ],
   "source": [
    "# Exemple 9\n",
    "\n",
    "bonjour_classe = \"Bonjour, tout le monde!\"\n",
    "print(len(bonjour_classe))"
   ]
  },
  {
   "cell_type": "markdown",
   "id": "5747f2da-9acb-46ad-87c2-52241b2c39ba",
   "metadata": {},
   "source": [
    "##### 4.2.2.3.2 La méthode strip () supprime tout espace du début ou de la fin:"
   ]
  },
  {
   "cell_type": "code",
   "execution_count": 210,
   "id": "0e9fdd8f-1797-477d-88f2-f27ec7d78d4d",
   "metadata": {},
   "outputs": [
    {
     "name": "stdout",
     "output_type": "stream",
     "text": [
      "Bonjour, tout le monde!\n"
     ]
    }
   ],
   "source": [
    "# Exemple 10\n",
    "\n",
    "bonjour_classe = \" Bonjour, tout le monde! \"\n",
    "print(bonjour_classe.strip())"
   ]
  },
  {
   "cell_type": "markdown",
   "id": "90cbfe40-a4bb-438b-8d9d-de5ac0ec2bd7",
   "metadata": {},
   "source": [
    "##### 4.2.2.3.3 La méthode lower () renvoie la chaîne en minuscules:"
   ]
  },
  {
   "cell_type": "code",
   "execution_count": 214,
   "id": "e9ffab4e-604f-4316-9d68-f925634a444f",
   "metadata": {},
   "outputs": [
    {
     "name": "stdout",
     "output_type": "stream",
     "text": [
      " bonjour, tout le monde! \n"
     ]
    }
   ],
   "source": [
    "# Exemple 11\n",
    "\n",
    "bonjour_classe = \" Bonjour, Tout Le Monde! \"\n",
    "print(bonjour_classe.lower())"
   ]
  },
  {
   "cell_type": "markdown",
   "id": "84f7746e-a972-4592-8e41-291b858b9f3f",
   "metadata": {},
   "source": [
    "##### 4.2.2.3.4 La méthode upper () renvoie la chaîne en majuscules:"
   ]
  },
  {
   "cell_type": "code",
   "execution_count": 219,
   "id": "bb23a1df-f162-48d2-a1df-2bd927249f08",
   "metadata": {},
   "outputs": [
    {
     "name": "stdout",
     "output_type": "stream",
     "text": [
      " BONJOUR, TOUT LE MONDE! \n"
     ]
    }
   ],
   "source": [
    "# Exemple 12\n",
    "\n",
    "bonjour_classe = \" Bonjour, tout le monde! \"\n",
    "print(bonjour_classe.upper())"
   ]
  },
  {
   "cell_type": "markdown",
   "id": "18abff43-498b-4cb0-8b12-f50cc6dc79c4",
   "metadata": {},
   "source": [
    "##### 4.2.2.3.5 La méthode replace () remplace une chaîne par une autre chaîne:"
   ]
  },
  {
   "cell_type": "code",
   "execution_count": 222,
   "id": "84b345cd-f12d-4bff-b79d-630895e4d44b",
   "metadata": {},
   "outputs": [
    {
     "name": "stdout",
     "output_type": "stream",
     "text": [
      " BonjouT, tout le monde! \n"
     ]
    }
   ],
   "source": [
    "# Exemple 13\n",
    "\n",
    "bonjour_classe = \" Bonjour, tout le monde! \"\n",
    "a = bonjour_classe.replace(\"r\", \"T\")\n",
    "print(a)"
   ]
  },
  {
   "cell_type": "markdown",
   "id": "a051a73f-47b1-4301-b8d4-fa0d90e1a508",
   "metadata": {},
   "source": [
    "##### 4.2.2.3.6 La méthode split () divise la chaîne en sous-chaînes si elle trouve des instances du séparateur:"
   ]
  },
  {
   "cell_type": "code",
   "execution_count": 230,
   "id": "702eef44-9cc9-4471-a7f0-7c1833b4a46c",
   "metadata": {},
   "outputs": [
    {
     "name": "stdout",
     "output_type": "stream",
     "text": [
      "[' Bonjour', ' tout le monde! ']\n"
     ]
    }
   ],
   "source": [
    "# Exemple 14\n",
    "\n",
    "bonjour_classe = \" Bonjour, tout le monde! \"\n",
    "print(bonjour_classe.split(\",\"))"
   ]
  },
  {
   "cell_type": "markdown",
   "id": "6939f372-6d82-4b52-8b5a-74fa85bdd6b5",
   "metadata": {},
   "source": [
    "##### 4.2.2.3.7 Pour vérifier si une certaine phrase ou un certain caractère est présent dans une chaîne, nous pouvons utiliser les mots clés in ou not in ."
   ]
  },
  {
   "cell_type": "code",
   "execution_count": 234,
   "id": "850db927-b30f-4234-ad26-a0ca93b66873",
   "metadata": {},
   "outputs": [
    {
     "name": "stdout",
     "output_type": "stream",
     "text": [
      "True\n",
      "False\n"
     ]
    }
   ],
   "source": [
    "# Exemple 15\n",
    "\n",
    "a = \"Hello, Python!\"\n",
    "b = \"lo\" in a\n",
    "c = \"Py\" not in a\n",
    "print(b)\n",
    "print(c)"
   ]
  },
  {
   "cell_type": "markdown",
   "id": "d5b45ee4-da28-4b5f-9e69-9a0e387283af",
   "metadata": {},
   "source": [
    "##### 4.2.2.3.8 f-Strings: une façon nouvelle et améliorée de formater les chaînes en Python\n",
    "La syntaxe est similaire à celle que vous avez utilisée avec str.format () mais moins verbeuse. Voici un exemple:"
   ]
  },
  {
   "cell_type": "code",
   "execution_count": 267,
   "id": "89a53076-2351-437b-82ee-ada235275175",
   "metadata": {},
   "outputs": [
    {
     "name": "stdout",
     "output_type": "stream",
     "text": [
      "Hello, Grace your age is 24\n"
     ]
    }
   ],
   "source": [
    "# Exemple 16 - 1\n",
    "\n",
    "name = \"Grace\"\n",
    "age = 24\n",
    "print(f\"Hello, {name} your age is {age}\")"
   ]
  },
  {
   "cell_type": "markdown",
   "id": "53cc0e40-6628-4072-8f08-41a8b39ae6eb",
   "metadata": {},
   "source": [
    "---------------------\n",
    "Le f dans print(f\"...\") est une notation appelée f-string (formatted string literals), introduite en Python 3.6. Elle permet d’insérer directement des variables ou des expressions dans une chaîne de caractères sans avoir besoin de concaténation (+) ou de format().\n",
    "\n",
    "🔹 Comment ça fonctionne ?\n",
    "\n",
    "\t• Le f placé devant la chaîne permet d’utiliser les accolades {} pour insérer des variables.\n",
    "\t• {name} est remplacé par la valeur de la variable name (\"Grace\").\n",
    "\t• {age} est remplacé par la valeur de age (24)."
   ]
  },
  {
   "cell_type": "code",
   "execution_count": 241,
   "id": "f87fd8e9-0896-49f1-a614-268130d49244",
   "metadata": {},
   "outputs": [
    {
     "name": "stdout",
     "output_type": "stream",
     "text": [
      "74\n"
     ]
    }
   ],
   "source": [
    "# Exemple 16 - 2 Testez dans Jupyter Notebook\n",
    "# Étant donné que les chaînes f sont évaluées au moment de l'exécution, vous pouvez y placer toutes les expressions\n",
    "\n",
    "print(f\"{2 * 37}\")"
   ]
  },
  {
   "cell_type": "code",
   "execution_count": 261,
   "id": "2972e9f2-ef93-491a-b551-ff61e4d7c73a",
   "metadata": {},
   "outputs": [
    {
     "name": "stdout",
     "output_type": "stream",
     "text": [
      "grace est comique\n"
     ]
    }
   ],
   "source": [
    "# Exemple 16 - 3\n",
    "# Vous avez également la possibilité d'appeler directement une méthode:\n",
    "\n",
    "name = \"Grace\"\n",
    "print(f\"{name.lower()} est comique\")"
   ]
  },
  {
   "cell_type": "markdown",
   "id": "4d515f55-8b9e-4ec7-a7d1-efaef825abb8",
   "metadata": {},
   "source": [
    "#### 4.2.2.4 Python - Listes\n",
    "\n",
    "Python connaît un certain nombre de types de données composés, utilisés pour regrouper d'autres valeurs. La plus\n",
    "polyvalente est la liste - list , qui peut être écrite sous la forme d'une liste de valeurs séparées par des virgules\n",
    "(éléments) entre crochets. Les listes peuvent contenir des éléments de différents types, mais généralement les articles ont\n",
    "tous le même type."
   ]
  },
  {
   "cell_type": "code",
   "execution_count": 4,
   "id": "135ffaa4-d26d-486f-9b77-b170cd34aa52",
   "metadata": {},
   "outputs": [
    {
     "name": "stdout",
     "output_type": "stream",
     "text": [
      "[1, 4, 9, 12, 15, 20]\n"
     ]
    }
   ],
   "source": [
    "# Exemple 17\n",
    "\n",
    "carres = [1, 4, 9, 12, 15, 20]\n",
    "print(carres)"
   ]
  },
  {
   "cell_type": "markdown",
   "id": "47022f5b-5a53-4933-a19a-9171de2d1c89",
   "metadata": {},
   "source": [
    "-----------\n",
    "Comme les chaînes de caractères (et tous les autres types de séquence intégrés), les listes peuvent être indexées et découpées:"
   ]
  },
  {
   "cell_type": "code",
   "execution_count": 15,
   "id": "98ab882b-df30-4faf-986b-510595e0b9c0",
   "metadata": {},
   "outputs": [
    {
     "name": "stdout",
     "output_type": "stream",
     "text": [
      "1\n",
      "[12, 15, 20]\n",
      "[1, 4]\n"
     ]
    }
   ],
   "source": [
    "# Exemple 17 -1\n",
    "\n",
    "print(carres[0])\n",
    "print(carres[-3:])\n",
    "print(carres[0:2])"
   ]
  },
  {
   "cell_type": "markdown",
   "id": "e5b4a661-85e3-4c95-a6e9-728b9164f476",
   "metadata": {},
   "source": [
    "------------------------------\n",
    "De manière similaire, il existe de nombreuses méthodes pour traiter l'objet liste, voici quelques exemples:\n",
    "\n",
    "##### 4.2.2.4.1 Pour déterminer le nombre d'éléments d'une liste, utilisez la fonction len () :"
   ]
  },
  {
   "cell_type": "code",
   "execution_count": 13,
   "id": "c01c8e9d-a288-4f32-985a-864aca883b94",
   "metadata": {},
   "outputs": [
    {
     "name": "stdout",
     "output_type": "stream",
     "text": [
      "4\n"
     ]
    }
   ],
   "source": [
    "# Exemple 18\n",
    "\n",
    "l = [\"Pomme\", \"Banane\", \"Anana\", \"Avocat\"]\n",
    "print(len(l))"
   ]
  },
  {
   "cell_type": "markdown",
   "id": "af5a0f28-e00b-47ce-864e-eee85cd52f1b",
   "metadata": {},
   "source": [
    "##### 4.2.2.4.2 Ajouter de nouveaux éléments à la fin de la liste, en utilisant la méthode append () :"
   ]
  },
  {
   "cell_type": "code",
   "execution_count": 28,
   "id": "62e732cd-c825-4da3-8676-77a623ab64c4",
   "metadata": {},
   "outputs": [
    {
     "name": "stdout",
     "output_type": "stream",
     "text": [
      "['Lundi', 'Mercredi', 'Jeudi']\n",
      "['Lundi', 'Mercredi', 'Jeudi', 'Vendredi']\n"
     ]
    }
   ],
   "source": [
    "# Exemple 19\n",
    "\n",
    "Jours = [\"Lundi\", \"Mercredi\", \"Jeudi\"]\n",
    "print(Jours)\n",
    "Jours.append(\"Vendredi\")\n",
    "print(Jours)"
   ]
  },
  {
   "cell_type": "markdown",
   "id": "4433acb2-4687-4dea-b3d3-35ed26c25883",
   "metadata": {},
   "source": [
    "##### 4.2.2.4.3 Pour ajouter un élément à l'index spécifié, utilisez la méthode insert () :"
   ]
  },
  {
   "cell_type": "code",
   "execution_count": 38,
   "id": "a65f153a-9bb8-44ed-9269-efbaec9f9bd0",
   "metadata": {},
   "outputs": [
    {
     "name": "stdout",
     "output_type": "stream",
     "text": [
      "['Lundi', 'Mercredi', 'Jeudi']\n",
      "['Lundi', 'Mardi', 'Mercredi', 'Jeudi', 'Vendredi']\n"
     ]
    }
   ],
   "source": [
    "# Exemple 20\n",
    "\n",
    "Jours = [\"Lundi\", \"Mercredi\", \"Jeudi\"]\n",
    "print(Jours)\n",
    "Jours.insert(1, \"Mardi\")\n",
    "Jours.insert(4, \"Vendredi\")\n",
    "print(Jours)"
   ]
  },
  {
   "cell_type": "markdown",
   "id": "ee2d2688-c0a7-4114-a60e-ed81e28afdc4",
   "metadata": {},
   "source": [
    "##### 4.2.2.4.4 La méthode remove () supprime l'élément spécifié:"
   ]
  },
  {
   "cell_type": "code",
   "execution_count": 42,
   "id": "b281c89a-b20a-4588-bf6f-1edaf9ab8012",
   "metadata": {},
   "outputs": [
    {
     "name": "stdout",
     "output_type": "stream",
     "text": [
      "['Lundi', 'Mardi', 'Mercredi']\n",
      "[1, 4, 12, 15, 20]\n"
     ]
    }
   ],
   "source": [
    "# Exemple 21\n",
    "\n",
    "Jours = [\"Lundi\", \"Mardi\", \"Mercredi\", \"Jeudi\"]\n",
    "carres = [1, 4, 9, 12, 15, 20]\n",
    "Jours.remove(\"Jeudi\")\n",
    "carres.remove(9)\n",
    "print(Jours)\n",
    "print(carres)"
   ]
  },
  {
   "cell_type": "markdown",
   "id": "24df1107-4275-46e1-9945-16655a551a57",
   "metadata": {},
   "source": [
    "##### 4.2.2.4.5 La méthode pop () supprime l'index spécifié, (ou le dernier élément si l'index n'est pas spécifié):"
   ]
  },
  {
   "cell_type": "code",
   "execution_count": 46,
   "id": "7350ca4e-98bf-44b9-9779-1ce7f0cb3a4d",
   "metadata": {},
   "outputs": [
    {
     "name": "stdout",
     "output_type": "stream",
     "text": [
      "['Lundi', 'Mercredi', 'Jeudi']\n"
     ]
    }
   ],
   "source": [
    "# Exemple 22\n",
    "\n",
    "Jours = [\"Lundi\", \"Mardi\", \"Mercredi\", \"Jeudi\"]\n",
    "Jours.pop(1)\n",
    "print(Jours)"
   ]
  },
  {
   "cell_type": "markdown",
   "id": "23ab2f40-50d4-4968-9eee-7976cacaebf3",
   "metadata": {},
   "source": [
    "##### 4.2.2.4.6 Le mot clé del supprime l'index spécifié:"
   ]
  },
  {
   "cell_type": "code",
   "execution_count": 7,
   "id": "24dca66b-6b00-4755-b09a-36ed221ad9c8",
   "metadata": {},
   "outputs": [
    {
     "name": "stdout",
     "output_type": "stream",
     "text": [
      "['Banane', 'Ananas']\n"
     ]
    }
   ],
   "source": [
    "# Exemple 23\n",
    "\n",
    "Fruits =  [\"Pomme\", \"Banane\", \"Ananas\"]\n",
    "del Fruits[0]\n",
    "print(Fruits)"
   ]
  },
  {
   "cell_type": "markdown",
   "id": "198a945a-357b-4337-9b94-fd200ee0d483",
   "metadata": {},
   "source": [
    "##### 4.2.2.4.7 Faites une copie d'une liste avec la méthode copy () :"
   ]
  },
  {
   "cell_type": "code",
   "execution_count": 12,
   "id": "a1fafc7f-18a7-43f8-a6db-130148313458",
   "metadata": {},
   "outputs": [
    {
     "name": "stdout",
     "output_type": "stream",
     "text": [
      "['Citron', 'Ananas', 'Mangue']\n"
     ]
    }
   ],
   "source": [
    "### Exemple 24\n",
    "\n",
    "Fruits = [\"Citron\", \"Ananas\", \"Mangue\"]\n",
    "Fruits2 = Fruits.copy()\n",
    "print(Fruits2)"
   ]
  },
  {
   "cell_type": "markdown",
   "id": "c1e6cef5-a2f5-42d8-abc5-738cf605c792",
   "metadata": {},
   "source": [
    "##### 4.2.2.4.8 Rejoignez deux listes"
   ]
  },
  {
   "cell_type": "code",
   "execution_count": 23,
   "id": "0708d3ee-f076-4a72-829d-fa1cb60f820f",
   "metadata": {},
   "outputs": [
    {
     "name": "stdout",
     "output_type": "stream",
     "text": [
      "['Pommes', 'Bananes', 'Mangies', 1, 2, 3, 4]\n",
      "['Pommes', 'Bananes', 'Mangies', 1, 2, 3, 4]\n",
      "['Pommes', 'Bananes', 'Mangies', 1, 2, 3, 4]\n"
     ]
    }
   ],
   "source": [
    "# il existe plusieurs façons de joindre ou de concatener deux ou plusieurs listes en Python\n",
    "\n",
    "# L'un des moyens les plus simple est d'utiliser l'opérateur +.\n",
    "#Exemple 25.1\n",
    "\n",
    "fruits = [\"Pommes\", \"Bananes\", \"Mangies\"]\n",
    "carres = [1,2,3,4]\n",
    "L1 = fruits + carres\n",
    "print(L1)\n",
    "\n",
    "# Une autre façon est d'ajouter tous les éléments de la liste1 à la liste2\n",
    "# Exemple 25.2\n",
    "\n",
    "fruits = [\"Pommes\", \"Bananes\", \"Mangies\"]\n",
    "carres = [1,2,3,4]\n",
    "\n",
    "for x in carres:\n",
    "    fruits.append(x)\n",
    "\n",
    "print(fruits)\n",
    "\n",
    "# Une autre façon est d'utiliser \"extend()\" pour ajouter l2 à la fin de l1\n",
    "# Exemple 25.3\n",
    "\n",
    "fruits = [\"Pommes\", \"Bananes\", \"Mangies\"]\n",
    "carres = [1,2,3,4]\n",
    "\n",
    "fruits.extend(carres)\n",
    "print(fruits)"
   ]
  },
  {
   "cell_type": "markdown",
   "id": "c0047c95-8593-48e5-8014-78823e64d297",
   "metadata": {},
   "source": [
    "-----------------------------------------\n",
    "En résumé, Python possède un ensemble de méthodes intégrées que vous pouvez utiliser/tester sur des listes."
   ]
  },
  {
   "cell_type": "raw",
   "id": "89a673ff-069d-41ca-a6f9-cc10413e9289",
   "metadata": {},
   "source": [
    "Méthode       Description\n",
    "-------       -----------\n",
    "append()      Ajoute un élément à la fin de la liste\n",
    "clear()       Supprime tous les éléments de la liste\n",
    "copy()        Renvoie une copie de la liste\n",
    "count()       Renvoie le nombre d'éléments avec la valeur spécifiée\n",
    "extend()      Ajouter les éléments d'une liste (ou tout itérable), à la fin de la liste actuelle\n",
    "index()       Renvoie l'index du premier élément avec la valeur spécifiée\n",
    "insert()      Ajouter un élément à la position spécifiée\n",
    "pop()         Supprime l'élément à la position spécifiée\n",
    "remove()      Supprime l'élément avec la valeur spécifiée\n",
    "reverse()     Inverser l'ordre de la liste\n",
    "sort()        Trier la liste\n",
    "\n",
    "Le type liste est l'un des types le plus enrichi parti tous les types de données Python, nous découvrons ensemble dans la\n",
    "suite de ce module ses autres caractéristiques intéressantes."
   ]
  },
  {
   "cell_type": "markdown",
   "id": "3df5aa32-77c3-4bbe-9e0a-850068882704",
   "metadata": {},
   "source": [
    "### 4.3 Structures conditionnelles\n",
    "\n",
    "Une structure conditionnelle permet d’exécuter un bloc de code différent selon qu’une condition est vraie ou fausse. Elle simule le “si… alors…” qu’on utilise dans la vie de tous les jours :\n",
    "\n",
    "Si j’ai faim, alors je mange.\n",
    "Sinon, j’attends.\n",
    "\n",
    "#### 4.3.1 Déclaration if\n",
    "\n",
    "✅ Syntaxe de base de if en Python\n",
    "\n",
    "if condition:<br>\n",
    "<div style=\"margin-left: 40px;\">\n",
    "bloc de code exécuté si la condition est vraie\n",
    "</div>\n",
    "\n",
    "\n",
    "    • if = “si…”\n",
    "\t• condition = une expression qui retourne True (vrai) ou False (faux)\n",
    "\t• : = obligatoire après le if, pour indiquer le début du bloc\n",
    "\t• Le bloc de code est indenté (généralement 4 espaces ou 1 tabulation)\n",
    "\n",
    "    "
   ]
  },
  {
   "cell_type": "code",
   "execution_count": 69,
   "id": "084aae72-3982-4e7a-bbab-aa5d9e51fb52",
   "metadata": {},
   "outputs": [
    {
     "name": "stdout",
     "output_type": "stream",
     "text": [
      "La valeur de a = 10 est inférieure à la valeur de b = 100\n"
     ]
    }
   ],
   "source": [
    "# Exemple\n",
    "a = 10\n",
    "b = 100\n",
    "\n",
    "if a < b:\n",
    "    print(f\"La valeur de a = {a} est inférieure à la valeur de b = {b}\")"
   ]
  },
  {
   "cell_type": "markdown",
   "id": "e4cdf084-27e3-463e-8135-20e2f5bf13d6",
   "metadata": {},
   "source": [
    "#### 4.3.2 Déclaration else\n",
    "\n",
    "Le mot-clé else , qui signifie « sinon » en anglais, permet de définir une première forme de complément à notre\n",
    "instruction if .<br>\n",
    "C'est le bloc qui s'exécute si la condition est fausse(else)\n",
    "\n",
    "✅ Syntaxe de else\n",
    "\n",
    "if condition:\n",
    "<div style=\"margin-left: 40px;\">\n",
    "bloc de code exécuté si la condition est vraie\n",
    "</div>   \n",
    "else:\n",
    "<div style=\"margin-left: 40px;\">\n",
    "bloc de code exécuté si la condition est fausse\n",
    "</div>"
   ]
  },
  {
   "cell_type": "code",
   "execution_count": 106,
   "id": "3556b1a6-8d41-4b5a-868c-33964f0642ac",
   "metadata": {},
   "outputs": [
    {
     "name": "stdout",
     "output_type": "stream",
     "text": [
      "Tu es mineur\n"
     ]
    }
   ],
   "source": [
    "# Exemple\n",
    "\n",
    "age = 16\n",
    "\n",
    "if age >= 18:\n",
    "    print(\"Tu es majeur\")\n",
    "else:\n",
    "    print(\"Tu es mineur\")"
   ]
  },
  {
   "cell_type": "markdown",
   "id": "24b40908-d102-41bb-bb8b-4472b616a93b",
   "metadata": {},
   "source": [
    "🔸 Explication :<br>\n",
    "    • Si age est supérieur ou égal à 18, la condition est vraie, donc \"Tu es majeur.\" s’affiche.<br>\n",
    "    • Sinon (dans tous les autres cas), la condition est fausse, donc \"Tu es mineur.\" s’affiche.\n",
    "\n",
    "📌 À retenir :<br>\n",
    "• else ne prend pas de condition.<br>\n",
    "• Il doit toujours venir après un if.<br>\n",
    "• Il s’exécute uniquement si le if est faux."
   ]
  },
  {
   "cell_type": "markdown",
   "id": "5449ded1-1aa0-4e51-acd0-0af097650e61",
   "metadata": {},
   "source": [
    "#### 4.3.3 Déclaration elif\n",
    "\n",
    "Le mot clé elif est une contraction de « else if », que l'on peut traduire très littéralement par « sinon si ».\n",
    "La structure elif, te permet de gérer plusieurs cas possibles dans une seule structure conditionnelle.\n",
    "\n",
    "🔹 Syntaxe générale :<br>\n",
    "if condition1:\n",
    "    <div style=\"margin-left: 40px;\">Bloc exécuté si condition1 est vraie</div>\n",
    "elif condition2:\n",
    "    <div style=\"margin-left: 40px;\">Bloc exécuté si condition2 est vraie</div>\n",
    "elif condition3:\n",
    "    <div style=\"margin-left: 40px;\">Bloc exécuté si condition3 est vraie</div>\n",
    "else:\n",
    "    <div style=\"margin-left: 40px;\">Bloc exécuté si aucune condition n'est vraie</div>"
   ]
  },
  {
   "cell_type": "code",
   "execution_count": 115,
   "id": "7e5d7e5d-8283-47d8-a5f9-abc370f1196f",
   "metadata": {},
   "outputs": [
    {
     "name": "stdout",
     "output_type": "stream",
     "text": [
      "Distinction\n"
     ]
    }
   ],
   "source": [
    "# Exemple\n",
    "\n",
    "pourcentage = 70\n",
    "\n",
    "if pourcentage >= 80:\n",
    "    print(\"Plus grande distinction\")\n",
    "elif pourcentage >= 75:\n",
    "    print(\"Grande distinction\")\n",
    "elif pourcentage >= 70:\n",
    "    print(\"Distinction\")\n",
    "elif pourcentage >= 50:\n",
    "    print(\"Satisfaction\")\n",
    "else:\n",
    "    print(\"Echec\")"
   ]
  },
  {
   "cell_type": "markdown",
   "id": "9713a880-06eb-4d3a-a05f-83388ed45edb",
   "metadata": {},
   "source": [
    "🧠 À noter :<br>\n",
    "\t• Une seule condition est exécutée (dès qu’une est vraie, les autres sont ignorées).<br>\n",
    "\t• Tu peux utiliser autant de elif que nécessaire.<br>\n",
    "\t• else est facultatif, mais utile comme “par défaut”."
   ]
  },
  {
   "cell_type": "markdown",
   "id": "ba14b0f9-06a8-41b6-9154-1a79458abdb1",
   "metadata": {},
   "source": []
  },
  {
   "cell_type": "markdown",
   "id": "354b103c-d701-45ef-bc66-885b045a5b04",
   "metadata": {},
   "source": [
    "#### 4.3.4 Opérateurs de comparaison\n",
    "\n",
    "Comme nous avons vu dans les sections précédentes les opérateurs \">\", \"<\", nous introduisons ici les opérateurs dits opérateurs de comparaison. Aussi appelés opérateurs relationnels, permettent de comparer deux valeurs.\n",
    "Ils retournent toujours un résultat booléen : soit True (vrai), soit False (faux)."
   ]
  },
  {
   "cell_type": "raw",
   "id": "328929c9-b6da-4c08-bbb4-4f10b7b3f78c",
   "metadata": {},
   "source": [
    "Opérateur    Signification littérale\n",
    "---------    -----------------------\n",
    "<            Strictement inférieur à\n",
    ">            Strictement supérieur à\n",
    "<=           Inférieur ou égal à\n",
    ">=           Supérieur ou égal à\n",
    "==           Égal à\n",
    "!=           Différent de"
   ]
  },
  {
   "cell_type": "code",
   "execution_count": 125,
   "id": "55d5197f-6c88-43b1-af76-5e8f2d6168ef",
   "metadata": {},
   "outputs": [
    {
     "name": "stdout",
     "output_type": "stream",
     "text": [
      "False\n",
      "True\n",
      "True\n",
      "False\n",
      "True\n",
      "False\n"
     ]
    }
   ],
   "source": [
    "a = 10\n",
    "b = 5\n",
    "\n",
    "print(a == b)   # False (10 n’est pas égal à 5)\n",
    "print(a != b)   # True  (10 est différent de 5)\n",
    "print(a > b)    # True  (10 est plus grand que 5)\n",
    "print(a < b)    # False (10 n’est pas plus petit que 5)\n",
    "print(a >= 10)  # True  (10 est égal à 10)\n",
    "print(b <= 4)   # False (5 n’est pas <= 4\n",
    "\n",
    "# Utilité principale :\n",
    "\n",
    "# Ces opérateurs sont souvent utilisés dans les structures conditionnelles pour prendre des décisions :"
   ]
  },
  {
   "cell_type": "markdown",
   "id": "bb51c36d-1212-43ad-9330-edbdadb4d538",
   "metadata": {},
   "source": [
    "#### 4.3.5 Mots-clés and , or et not\n",
    "\n",
    "Il arrive souvent que nos conditions doivent tester plusieurs prédicats. Les mots-clés and , or et not sont donc les\n",
    "opérateurs logiques, et sont utilisés pour combiner des instructions conditionnelles. Nous allons comprendre leurs\n",
    "utilisations très rapidement avec quelques exemples:\n",
    "\n",
    "##### 4.3.5.1 and (et logique)\n",
    "\n",
    "Permet de vérifier que deux conditions sont vraies en même temps."
   ]
  },
  {
   "cell_type": "code",
   "execution_count": 143,
   "id": "a04c7861-5048-441f-97cf-6dd2b6921cb7",
   "metadata": {},
   "outputs": [
    {
     "name": "stdout",
     "output_type": "stream",
     "text": [
      "Eligible pour voter\n"
     ]
    }
   ],
   "source": [
    "# Exemple\n",
    "\n",
    "age = 20\n",
    "citoyen = True\n",
    "\n",
    "if age >= 18 and citoyen:\n",
    "    print(\"Eligible pour voter\")"
   ]
  },
  {
   "cell_type": "code",
   "execution_count": 149,
   "id": "93178fab-eda0-4491-b642-f1bff865e9f4",
   "metadata": {},
   "outputs": [
    {
     "name": "stdout",
     "output_type": "stream",
     "text": [
      "Les deux conditions sont vraies\n"
     ]
    }
   ],
   "source": [
    "# Exemple\n",
    "\n",
    "a = 200\n",
    "b = 100\n",
    "c = 300\n",
    "\n",
    "if a > b and b < c:\n",
    "    print(\"Les deux conditions sont vraies\")"
   ]
  },
  {
   "cell_type": "markdown",
   "id": "60f8272c-33a9-4816-a83a-6a6c6af7db0d",
   "metadata": {},
   "source": [
    "##### 4.3.5.2 or (ou logique)\n",
    "\n",
    "Permet de vérifier si au moins une des deux conditions est vraie."
   ]
  },
  {
   "cell_type": "code",
   "execution_count": 154,
   "id": "75258ee4-f35c-4a29-a743-820366f69d6d",
   "metadata": {},
   "outputs": [
    {
     "name": "stdout",
     "output_type": "stream",
     "text": [
      "Au moins une des conditions est vraie\n"
     ]
    }
   ],
   "source": [
    "# Exemple\n",
    "\n",
    "a = 200\n",
    "b = 100\n",
    "c = 300\n",
    "\n",
    "if a < b or c > a:\n",
    "    print(\"Au moins une des conditions est vraie\")"
   ]
  },
  {
   "cell_type": "markdown",
   "id": "708d9c48-a99b-4a57-a19a-39bf336fcada",
   "metadata": {},
   "source": [
    "##### 4.3.5.3 not (négation)\n",
    "\n",
    "Inverse une condition. Si c’est vrai, ça devient faux — et inversement."
   ]
  },
  {
   "cell_type": "code",
   "execution_count": 2,
   "id": "94f61133-d68c-44b8-aa94-4cc8a2bcfa2c",
   "metadata": {},
   "outputs": [
    {
     "name": "stdout",
     "output_type": "stream",
     "text": [
      "a est inférieur à c\n"
     ]
    }
   ],
   "source": [
    "a = 200\n",
    "b = 100\n",
    "c = 300\n",
    "\n",
    "if not a > c:\n",
    "    print(\"a est inférieur à c\")"
   ]
  },
  {
   "cell_type": "markdown",
   "id": "dfe7e2c3-c92f-4f24-bf43-755e1baebdf2",
   "metadata": {},
   "source": [
    "### 4.4 Boucles\n",
    "\n",
    "Elles vont vous permettre de répéter une certaine opération autant de\n",
    "fois que nécessaire. En outre, les boucles peuvent permettre de parcourir certaines séquences comme les chaînes de\n",
    "caractères pour, par exemple, en extraire chaque caractère.<br>Une boucle permet de répéter automatiquement un bloc de code plusieurs fois, tant qu’une condition est vraie (ou pour un nombre défini d’itérations). Elle est très utile pour automatiser des tâches répétitives, parcourir des listes, etc.\n",
    "\n",
    "Imaginons que nous avons le besoin suivant : Ecrire un programme affichant la table de multiplication par 9, de 1 * 9 à 9*\n",
    "9. Dans un premier temps, vous arrivez peut-être au programme suivant :"
   ]
  },
  {
   "cell_type": "code",
   "execution_count": 10,
   "id": "dd11c0e2-70f3-46a9-a5c5-2c09c28a24c6",
   "metadata": {},
   "outputs": [
    {
     "name": "stdout",
     "output_type": "stream",
     "text": [
      " 1 * 9 =  9\n",
      " 2 * 9 =  18\n",
      " 3 * 9 =  27\n",
      " 4 * 9 =  36\n",
      " 5 * 9 =  45\n",
      " 6 * 9 =  54\n",
      " 7 * 9 =  63\n",
      " 8 * 9 =  72\n",
      " 9 * 9 =  81\n"
     ]
    }
   ],
   "source": [
    "# Exemple\n",
    "\n",
    "print(\" 1 * 9 = \", 1 * 9)\n",
    "print(\" 2 * 9 = \", 2 * 9)\n",
    "print(\" 3 * 9 = \", 3 * 9)\n",
    "print(\" 4 * 9 = \", 4 * 9)\n",
    "print(\" 5 * 9 = \", 5 * 9)\n",
    "print(\" 6 * 9 = \", 6 * 9)\n",
    "print(\" 7 * 9 = \", 7 * 9)\n",
    "print(\" 8 * 9 = \", 8 * 9)\n",
    "print(\" 9 * 9 = \", 9 * 9)"
   ]
  },
  {
   "cell_type": "markdown",
   "id": "2ad80094-329e-4f03-a301-b8bc9225977a",
   "metadata": {},
   "source": [
    "La première approche fonctionne très bien. Seulement, vous reconnaîtrez qu'un programme comme cela n'est pas bien\n",
    "utile.\n",
    "Essayons donc le même programme mais, cette fois-ci, en utilisant une variable. Ainsi, si nous décidons d'afficher la table\n",
    "de multiplication de 9, on n'aura qu'à changer la valeur de la variable ! Pour cet exemple, on utilise une variable nb qui\n",
    "contiendra 9. Les instructions seront légèrement différentes mais vous devriez toujours pouvoir écrire ce programme :"
   ]
  },
  {
   "cell_type": "code",
   "execution_count": 18,
   "id": "b4356ee2-5811-4a0d-b894-26fd43b09319",
   "metadata": {},
   "outputs": [
    {
     "name": "stdout",
     "output_type": "stream",
     "text": [
      "1 * 9 = 9\n",
      "2 * 9 = 18\n",
      "3 * 9 = 27\n",
      "4 * 9 = 36\n",
      "5 * 9 = 45\n",
      "6 * 9 = 54\n",
      "7 * 9 = 63\n",
      "8 * 9 = 72\n",
      "9 * 9 = 81\n"
     ]
    }
   ],
   "source": [
    "nb = 9\n",
    "print(\"1 *\", nb, \"=\", 1 * nb)\n",
    "print(\"2 *\", nb, \"=\", 2 * nb)\n",
    "print(\"3 *\", nb, \"=\", 3 * nb)\n",
    "print(\"4 *\", nb, \"=\", 4 * nb)\n",
    "print(\"5 *\", nb, \"=\", 5 * nb)\n",
    "print(\"6 *\", nb, \"=\", 6 * nb)\n",
    "print(\"7 *\", nb, \"=\", 7 * nb)\n",
    "print(\"8 *\", nb, \"=\", 8 * nb)\n",
    "print(\"9 *\", nb, \"=\", 9 * nb)"
   ]
  },
  {
   "cell_type": "markdown",
   "id": "e64dd5d0-b3a1-4bc5-8d4e-6b645568db4f",
   "metadata": {},
   "source": [
    "Nous arrivons donc maintenant à afficher la table de multiplication par n'importe quel chiffre nb de 1 * nb à 9* nb.\n",
    "Mais si jamais, nous voulons afficher une table plus grosse disons de 1 * nb à 999* nb? Nous ne pouvons sûrement pas\n",
    "répéter la même liste de code 999 fois, cela représente une tâche bien répétitive. Nous préfèrons donc utiliser les boucles.\n",
    "\n",
    "#### 4.4.1 Python - Boucle for - for Loop\n",
    "\n",
    "Une boucle for est utilisée pour itérer sur une séquence (c'est-à-dire une liste, un tuple, un dictionnaire, un ensemble\n",
    "ou une chaîne). Cela ressemble moins au mot-clé for dans d'autres langages de programmation et fonctionne plus comme\n",
    "une méthode d'itérateur comme dans d'autres langages de programmation orientés objet. Avec la boucle for , nous\n",
    "pouvons exécuter un ensemble d'instructions, une fois pour chaque élément d'une liste, un tuple, un ensemble, etc.\n",
    "\n",
    "✅ Syntaxe :<br>\n",
    "for element in sequence:\n",
    "    <div style=\"margin-left: 40px;\"># code à exécuter</div>"
   ]
  },
  {
   "cell_type": "code",
   "execution_count": 39,
   "id": "3f26b49e-82fb-4504-a377-f8589e9885a1",
   "metadata": {},
   "outputs": [
    {
     "name": "stdout",
     "output_type": "stream",
     "text": [
      "a\n",
      "b\n",
      "c\n",
      "d\n",
      "e\n",
      "f\n",
      "g\n",
      "h\n",
      "i\n",
      "j\n"
     ]
    }
   ],
   "source": [
    "# Exemple 01\n",
    "\n",
    "lettres = [\"a\",\"b\",\"c\",\"d\",\"e\",\"f\",\"g\",\"h\",\"i\",\"j\"]\n",
    "\n",
    "for x in lettres:\n",
    "    print(x)"
   ]
  },
  {
   "cell_type": "markdown",
   "id": "df0d2d4f-8714-4d7e-ac8f-b10d0dde6158",
   "metadata": {},
   "source": [
    "##### 🔸 Mots-clés utiles dans les boucles\n",
    "\n",
    "break : Interrompt totalement la boucle<br>\n",
    "continue : Passe à l'intération suivante sans exécuter la suite du bloc<br>\n",
    "else : S'exécute quand la boucle termine normalement (sans break)\n"
   ]
  },
  {
   "cell_type": "code",
   "execution_count": 54,
   "id": "d46f5bd6-98bc-4a19-a549-2c6c08477ee0",
   "metadata": {},
   "outputs": [
    {
     "name": "stdout",
     "output_type": "stream",
     "text": [
      "a\n",
      "b\n",
      "c\n",
      "d\n"
     ]
    }
   ],
   "source": [
    "# Exemple 02\n",
    "\n",
    "lettres = [\"a\",\"b\",\"c\",\"d\",\"e\",\"f\",\"g\",\"h\",\"i\",\"j\"]\n",
    "\n",
    "for x in lettres:\n",
    "    print(x)\n",
    "    if x == \"d\":\n",
    "        break"
   ]
  },
  {
   "cell_type": "code",
   "execution_count": 48,
   "id": "5e0ec7cd-869c-4855-b728-b9c55c444988",
   "metadata": {},
   "outputs": [
    {
     "name": "stdout",
     "output_type": "stream",
     "text": [
      "a\n",
      "b\n",
      "c\n"
     ]
    }
   ],
   "source": [
    "# Exemple 03\n",
    "\n",
    "lettres = [\"a\",\"b\",\"c\",\"d\",\"e\",\"f\",\"g\",\"h\",\"i\",\"j\"]\n",
    "\n",
    "for x in lettres:\n",
    "    if x == \"d\":\n",
    "        break\n",
    "    print(x)"
   ]
  },
  {
   "cell_type": "code",
   "execution_count": 50,
   "id": "dc7d17ca-a5ee-4b7c-94ee-ade46d809e88",
   "metadata": {},
   "outputs": [
    {
     "name": "stdout",
     "output_type": "stream",
     "text": [
      "a\n",
      "b\n",
      "c\n",
      "d\n",
      "e\n",
      "f\n",
      "g\n",
      "h\n",
      "i\n",
      "j\n"
     ]
    }
   ],
   "source": [
    "# Exemple 04\n",
    "\n",
    "lettres = [\"a\",\"b\",\"c\",\"d\",\"e\",\"f\",\"g\",\"h\",\"i\",\"j\"]\n",
    "\n",
    "for x in lettres:\n",
    "    print(x)\n",
    "    if x == \"f\":\n",
    "        continue"
   ]
  },
  {
   "cell_type": "code",
   "execution_count": 52,
   "id": "7067601a-c0f2-4068-905f-47c438c4135d",
   "metadata": {},
   "outputs": [
    {
     "name": "stdout",
     "output_type": "stream",
     "text": [
      "a\n",
      "b\n",
      "c\n",
      "d\n",
      "e\n",
      "g\n",
      "h\n",
      "i\n",
      "j\n"
     ]
    }
   ],
   "source": [
    "# Exemple 05\n",
    "\n",
    "lettres = [\"a\",\"b\",\"c\",\"d\",\"e\",\"f\",\"g\",\"h\",\"i\",\"j\"]\n",
    "\n",
    "for x in lettres:\n",
    "    if x == \"f\":\n",
    "        continue\n",
    "    print(x)"
   ]
  },
  {
   "cell_type": "code",
   "execution_count": 58,
   "id": "1cfb133b-2dc4-4f4f-8324-4397a844399d",
   "metadata": {},
   "outputs": [
    {
     "name": "stdout",
     "output_type": "stream",
     "text": [
      "a\n",
      "b\n",
      "c\n",
      "d\n"
     ]
    }
   ],
   "source": [
    "# Exemple 06\n",
    "\n",
    "lettres = [\"a\",\"b\",\"c\",\"d\",\"e\",\"f\",\"g\",\"h\",\"i\",\"j\"]\n",
    "\n",
    "for x in lettres:\n",
    "    print(x)\n",
    "    if x == \"d\":\n",
    "        break\n",
    "else:\n",
    "    print(\"La boucle termine nornalement\")"
   ]
  },
  {
   "cell_type": "code",
   "execution_count": 60,
   "id": "cc6381a4-44f4-46fd-a9ae-7c11a52e568f",
   "metadata": {},
   "outputs": [
    {
     "name": "stdout",
     "output_type": "stream",
     "text": [
      "a\n",
      "b\n",
      "c\n",
      "d\n",
      "e\n",
      "f\n",
      "g\n",
      "h\n",
      "i\n",
      "j\n",
      "La boucle termine nornalement\n"
     ]
    }
   ],
   "source": [
    "# Exemple 06\n",
    "\n",
    "lettres = [\"a\",\"b\",\"c\",\"d\",\"e\",\"f\",\"g\",\"h\",\"i\",\"j\"]\n",
    "\n",
    "for x in lettres:\n",
    "    print(x)\n",
    "    if x == \"d\":\n",
    "        continue\n",
    "else:\n",
    "    print(\"La boucle termine nornalement\")"
   ]
  },
  {
   "cell_type": "markdown",
   "id": "5403b156-cdc1-454c-a3de-8faae3433c1b",
   "metadata": {},
   "source": [
    "#### 4.4.2 Python - Fonction range ()\n",
    "\n",
    "Pour parcourir un ensemble de codes un nombre spécifié de fois, nous pouvons utiliser la fonction range () .<br>\n",
    "La fonction range () renvoie une séquence de nombres, à partir de 0 par défaut, et incrémente de 1 (par défaut), et se\n",
    "termine à un nombre spécifié."
   ]
  },
  {
   "cell_type": "code",
   "execution_count": 69,
   "id": "14c1e2d0-2662-4cda-828c-eae4ff5472a1",
   "metadata": {},
   "outputs": [
    {
     "name": "stdout",
     "output_type": "stream",
     "text": [
      "0\n",
      "1\n",
      "2\n",
      "3\n",
      "4\n",
      "5\n",
      "6\n",
      "7\n",
      "8\n"
     ]
    }
   ],
   "source": [
    "# Exemple 07\n",
    "\n",
    "for x in range(9):\n",
    "    print(x)"
   ]
  },
  {
   "cell_type": "code",
   "execution_count": 71,
   "id": "f1798a14-8a3a-43b1-9ab7-074c485bf665",
   "metadata": {},
   "outputs": [
    {
     "name": "stdout",
     "output_type": "stream",
     "text": [
      "2\n",
      "3\n",
      "4\n",
      "5\n",
      "6\n",
      "7\n",
      "8\n"
     ]
    }
   ],
   "source": [
    "# Exemple 08\n",
    "\n",
    "for x in range(2, 9):\n",
    "    print(x)"
   ]
  },
  {
   "cell_type": "code",
   "execution_count": 73,
   "id": "e8929e42-5211-46be-84d1-964908fa5b2c",
   "metadata": {},
   "outputs": [
    {
     "name": "stdout",
     "output_type": "stream",
     "text": [
      "1\n",
      "4\n",
      "7\n",
      "10\n"
     ]
    }
   ],
   "source": [
    "# Exemple 09\n",
    "\n",
    "for x in range(1, 12, 3): # increment de 3\n",
    "    print(x)"
   ]
  },
  {
   "cell_type": "code",
   "execution_count": null,
   "id": "8b025e41-3c68-4c07-9c64-f47b8514abb6",
   "metadata": {},
   "outputs": [],
   "source": []
  }
 ],
 "metadata": {
  "kernelspec": {
   "display_name": "Python [conda env:base] *",
   "language": "python",
   "name": "conda-base-py"
  },
  "language_info": {
   "codemirror_mode": {
    "name": "ipython",
    "version": 3
   },
   "file_extension": ".py",
   "mimetype": "text/x-python",
   "name": "python",
   "nbconvert_exporter": "python",
   "pygments_lexer": "ipython3",
   "version": "3.12.7"
  }
 },
 "nbformat": 4,
 "nbformat_minor": 5
}
