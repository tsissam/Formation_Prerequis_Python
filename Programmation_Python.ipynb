{
 "cells": [
  {
   "cell_type": "markdown",
   "id": "f1179b87-e1e3-4a95-b9f9-59ddb901f1ab",
   "metadata": {},
   "source": [
    "# 4 Prérequis Python - Programmation"
   ]
  },
  {
   "cell_type": "markdown",
   "id": "16f88c66-b278-4ed3-825f-4ee5a0b67720",
   "metadata": {},
   "source": [
    "### Premier test (Texte \"Hello World\")"
   ]
  },
  {
   "cell_type": "code",
   "execution_count": 160,
   "id": "b53be05b-f978-4d55-b2a5-7f639af35cf9",
   "metadata": {},
   "outputs": [
    {
     "data": {
      "text/plain": [
       "'Hello World'"
      ]
     },
     "execution_count": 160,
     "metadata": {},
     "output_type": "execute_result"
    }
   ],
   "source": [
    "\"Hello World\""
   ]
  },
  {
   "cell_type": "markdown",
   "id": "513b3ed5-0d7e-4f98-b5fb-8ff7c35342e8",
   "metadata": {},
   "source": [
    "## 4.1 Varibales\n",
    "### 4.1.1 Définition d'une variable\n",
    "\n",
    "Les variables est l'un des concepts qui se retrouve dans la majorité des langages de programmation. Elles sont des symboles qui associent un nom (identifiant) à une valeur. Une variable est une donnée du programme, stockée dans l'ordinateur. C'est un code alpha-numérique qu'on lie à une donnée du programme, afin de pouvoir l'utiliser à plusieurs reprises et faire des calculs avec.\n",
    "\n",
    "Une variable doit respecter quelques règles de syntaxe chez Python:\n",
    "\n",
    "* Un nom de variable doit commencer par une lettre ou le caractère de soulignement\n",
    "* Un nom de variable ne peut commencer par un nombre\n",
    "* Un nom de variable ne peut contenir que des caractères alphanumériques et des traits de soulignement (A-Z, 0-9, et _ )\n",
    "* Les noms des variables sont sensibles à la casse (age, Age, et AGE sont trois variables différentes)"
   ]
  },
  {
   "cell_type": "markdown",
   "id": "11172cc8-e759-411b-855d-f253148b8162",
   "metadata": {},
   "source": [
    "Exemple\n",
    "\n",
    "x = 1\n",
    "\n",
    "y = \"James\"\n",
    "\n",
    "print(x)\n",
    "\n",
    "print(y)"
   ]
  },
  {
   "cell_type": "code",
   "execution_count": 164,
   "id": "5073cf5e-c547-4094-a9d4-2c2aaa4fd7bc",
   "metadata": {},
   "outputs": [
    {
     "name": "stdout",
     "output_type": "stream",
     "text": [
      "1\n",
      "James\n"
     ]
    }
   ],
   "source": [
    "x = 1\n",
    "y = \"James\"\n",
    "print(x)\n",
    "print(y)"
   ]
  },
  {
   "cell_type": "markdown",
   "id": "830d105d-f0ba-40dc-96bc-81afe1b5f460",
   "metadata": {},
   "source": [
    "### 4.1.2 Les opérations sur une variable\n",
    "\n",
    "#### 4.1.2.1 Addition, soustraction, multiplication, division\n",
    "\n",
    "Nous vous présentons les principaux opérateurs de Python, qui vont vous servir pour la grande majorité de vos\r\n",
    "programmes."
   ]
  },
  {
   "cell_type": "code",
   "execution_count": 167,
   "id": "d4f172c4-f04f-4824-ab11-23f88539c532",
   "metadata": {},
   "outputs": [
    {
     "data": {
      "text/plain": [
       "3"
      ]
     },
     "execution_count": 167,
     "metadata": {},
     "output_type": "execute_result"
    }
   ],
   "source": [
    "1+2"
   ]
  },
  {
   "cell_type": "code",
   "execution_count": 93,
   "id": "ac405a40-e9fa-41c1-b84d-aa8627d662e2",
   "metadata": {},
   "outputs": [
    {
     "data": {
      "text/plain": [
       "2"
      ]
     },
     "execution_count": 93,
     "metadata": {},
     "output_type": "execute_result"
    }
   ],
   "source": [
    "5-3"
   ]
  },
  {
   "cell_type": "code",
   "execution_count": 95,
   "id": "f5f6afe3-b801-4263-b88e-29c74a9cb40f",
   "metadata": {},
   "outputs": [
    {
     "data": {
      "text/plain": [
       "4"
      ]
     },
     "execution_count": 95,
     "metadata": {},
     "output_type": "execute_result"
    }
   ],
   "source": [
    "2*2"
   ]
  },
  {
   "cell_type": "code",
   "execution_count": 97,
   "id": "906f216a-b59b-4f3a-ba9b-6f09667c17fe",
   "metadata": {},
   "outputs": [
    {
     "data": {
      "text/plain": [
       "2.25"
      ]
     },
     "execution_count": 97,
     "metadata": {},
     "output_type": "execute_result"
    }
   ],
   "source": [
    "9/4"
   ]
  },
  {
   "cell_type": "code",
   "execution_count": 99,
   "id": "74c1f7d6-a5f1-4820-8656-b19a8dde88bb",
   "metadata": {},
   "outputs": [
    {
     "data": {
      "text/plain": [
       "17.5"
      ]
     },
     "execution_count": 99,
     "metadata": {},
     "output_type": "execute_result"
    }
   ],
   "source": [
    "5+5*(9-4)/2"
   ]
  },
  {
   "cell_type": "markdown",
   "id": "e1576a80-39fa-462d-a2f1-90bb84891aab",
   "metadata": {},
   "source": [
    "#### 4.1.2.2 Division entière et modulo\n",
    "Si vous avez testé la division, vous vous êtes rendu compte que le résultat est donné avec une virgule flottante, mais c'est le contraire avec la division entière et modulo :"
   ]
  },
  {
   "cell_type": "code",
   "execution_count": 7,
   "id": "0d833ebd-9193-4c6e-84eb-f0de86277ef2",
   "metadata": {},
   "outputs": [
    {
     "data": {
      "text/plain": [
       "2"
      ]
     },
     "execution_count": 7,
     "metadata": {},
     "output_type": "execute_result"
    }
   ],
   "source": [
    "9//4"
   ]
  },
  {
   "cell_type": "code",
   "execution_count": 46,
   "id": "edc6aad6-1054-4f48-aba2-31bf3e2fe82e",
   "metadata": {},
   "outputs": [
    {
     "data": {
      "text/plain": [
       "1"
      ]
     },
     "execution_count": 46,
     "metadata": {},
     "output_type": "execute_result"
    }
   ],
   "source": [
    "9%4 #modulo c'est le reste de la division"
   ]
  },
  {
   "cell_type": "markdown",
   "id": "80202854-a424-4eb7-8194-8b343a3d8476",
   "metadata": {},
   "source": [
    "#### 4.1.2.3 Opérations sur les variables\n",
    "Les mêmes opérations peuvent être effectuées sur les variables.\n",
    "Essayons par exemple d'augmenter de 1 la variable num_page."
   ]
  },
  {
   "cell_type": "code",
   "execution_count": 154,
   "id": "304d8840-79af-4b3a-b99c-d797de88b7a9",
   "metadata": {},
   "outputs": [
    {
     "name": "stdout",
     "output_type": "stream",
     "text": [
      "La prochaine valeur de num_page est :  29\n"
     ]
    }
   ],
   "source": [
    "# Exemple 1\n",
    "\n",
    "num_page = 28\n",
    "num_page = num_page + 1 ## ou num_page += 1\n",
    "print(\"La prochaine valeur de num_page est : \", num_page)"
   ]
  },
  {
   "cell_type": "markdown",
   "id": "2279ac9a-bc91-4550-8193-2751c0b0410d",
   "metadata": {},
   "source": [
    "#### Explication du print()\n",
    "\n",
    "La fonction print() en Python est utilisée pour afficher des informations à l’écran. Elle peut afficher du texte, des nombres, des variables et même des expressions, en les séparant par des virgules pour les concaténer automatiquement avec un espace. Par défaut, print() ajoute un retour à la ligne après l’affichage, mais ce comportement peut être modifié en utilisant l’argument end. Elle accepte également le paramètre sep pour définir le séparateur entre plusieurs éléments. Très flexible, print() est essentiel pour le débogage, l’affichage de résultats et l’interaction avec l’utilisateur.\n",
    "\n",
    "Dans notre exemple l’instruction print() a pour but d’afficher du texte et la valeur de num_page à l’écran.\n",
    "\n",
    "📌 Comment fonctionne-t-elle ?\n",
    "\n",
    "    * \"La prochaine valeur de num_page est : \" est une chaîne de caractères (texte).\n",
    "    * num_page est une variable qui contient la valeur mise à jour (ici, 29).\n",
    "    * La virgule , permet d’afficher à la fois le texte et la valeur de la variable."
   ]
  },
  {
   "cell_type": "code",
   "execution_count": 156,
   "id": "8e1397b1-1e20-4a2d-8aa1-716dc6a1ca1a",
   "metadata": {},
   "outputs": [
    {
     "name": "stdout",
     "output_type": "stream",
     "text": [
      "Bonjour-tout-le-monde\n"
     ]
    }
   ],
   "source": [
    "# exemple dub paramètre \"sep\"\n",
    "# Le paramètre sep dans la fonction print() permet de spécifier un séparateur personnalisé entre les éléments affichés.\n",
    "\n",
    "print(\"Bonjour\", \"tout\", \"le\", \"monde\", sep=\"-\")"
   ]
  },
  {
   "cell_type": "code",
   "execution_count": 158,
   "id": "9fb571b6-815f-484f-852c-d89a6a85146f",
   "metadata": {},
   "outputs": [
    {
     "name": "stdout",
     "output_type": "stream",
     "text": [
      "La valeur de c :  35\n"
     ]
    }
   ],
   "source": [
    "# Exemple 2\n",
    "\n",
    "a =  20\n",
    "b =  15\n",
    "c =  a + b\n",
    "print(\"La valeur de c : \", c)"
   ]
  },
  {
   "cell_type": "code",
   "execution_count": 160,
   "id": "fe7f0232-bc19-4e0b-a96e-de634de30f6e",
   "metadata": {},
   "outputs": [
    {
     "name": "stdout",
     "output_type": "stream",
     "text": [
      "Nom:|Serge|Âge:|24|Ville:|Kinshasa\n"
     ]
    }
   ],
   "source": [
    "# Exemple 3\n",
    "\n",
    "nom = \"Serge\"\n",
    "age = 24\n",
    "ville =  \"Kinshasa\"\n",
    "\n",
    "print(\"Nom:\", nom, \"Âge:\", age, \"Ville:\", ville, sep=\"|\")"
   ]
  },
  {
   "cell_type": "markdown",
   "id": "c8b182e0-ea25-42d0-8b72-b0ea60c4c202",
   "metadata": {},
   "source": [
    "#### Attention:\n",
    "certains mots-clés de Python sont réservés, c'est-à-dire que vous ne pouvez pas créer des variables\n",
    "portant ce nom.\n",
    "\n",
    "Vous pouvez également consulter cette liste par vous-même: keyword.kwlist"
   ]
  },
  {
   "cell_type": "code",
   "execution_count": 41,
   "id": "4a6198e8-5e0a-4f25-a224-672793bd7e3e",
   "metadata": {},
   "outputs": [
    {
     "name": "stdout",
     "output_type": "stream",
     "text": [
      "['False', 'None', 'True', 'and', 'as', 'assert', 'async', 'await', 'break', 'class', 'continue', 'def', 'del', 'elif', 'else', 'except', 'finally', 'for', 'from', 'global', 'if', 'import', 'in', 'is', 'lambda', 'nonlocal', 'not', 'or', 'pass', 'raise', 'return', 'try', 'while', 'with', 'yield']\n"
     ]
    }
   ],
   "source": [
    "import keyword\n",
    "print(keyword.kwlist)"
   ]
  },
  {
   "cell_type": "markdown",
   "id": "7473a8b0-c6f0-4e78-bb05-412147ca17c6",
   "metadata": {},
   "source": [
    "## 4.2 Types de données\n",
    "En programmation, le type de données est un concept important. Les variables peuvent stocker des données de différents\n",
    "types et différents types peuvent faire différentes choses.\n",
    "\n",
    "Python a les types de données suivants intégrés par défaut, dans ces catégories:"
   ]
  },
  {
   "cell_type": "markdown",
   "id": "7a2e6e7c-fd6d-4abb-b5cc-701336866f60",
   "metadata": {},
   "source": [
    "Type de données Types\n",
    "Type Texte - Text Type: str\n",
    "Types numériques - Numeric Types: int , float , complex\n",
    "Types Séquences - Sequence Types: list , tuple , range\n",
    "Mapping Type: dict\n",
    "Set Types: set , frozenset\n",
    "Type booléen - Boolean Type: bool\n",
    "Types binaires - Binary Types: bytes , bytearray , memoryview"
   ]
  },
  {
   "cell_type": "raw",
   "id": "dd891a9d-cba5-4d37-aac8-e4449502a336",
   "metadata": {},
   "source": [
    "  Type de données                  Types\n",
    "  ---------------                  -----\n",
    "* Type Texte - Text Type           : str\n",
    "* Types numériques - Numeric Types : int , float , complex\n",
    "* Types Séquences - Sequence Types : list , tuple , range\n",
    "* Mapping Type                     : dict\n",
    "* Set Types                        : set , frozenset\n",
    "* Type booléen - Boolean Type      : bool\n",
    "* Types binaires - Binary Types    : bytes , bytearray , memoryview\n",
    "\n",
    "Vous pouvez obtenir le type de données de n'importe quel objet en utilisant la fonction type () :"
   ]
  },
  {
   "cell_type": "code",
   "execution_count": 162,
   "id": "cf0337ae-5d91-428e-bc81-d738f5982ad9",
   "metadata": {},
   "outputs": [
    {
     "name": "stdout",
     "output_type": "stream",
     "text": [
      "<class 'float'>\n",
      "<class 'str'>\n",
      "<class 'int'>\n"
     ]
    }
   ],
   "source": [
    "# Exemple 4\n",
    "x = 4.5\n",
    "print(type(x))\n",
    "\n",
    "## nous voulons connaitre les types de nos variables de l'exemple 3\n",
    "print(type(nom))\n",
    "print(type(age))"
   ]
  },
  {
   "cell_type": "markdown",
   "id": "5311053b-efa9-4d5e-abac-a136be377e62",
   "metadata": {},
   "source": [
    "### 4.2.1 Déclaration du type de données\n",
    "\n",
    "En Python, le type de données est défini lorsque vous affectez une valeur à une variable:"
   ]
  },
  {
   "cell_type": "raw",
   "id": "b8d6d595-269e-4eff-bb40-9d7b3154f6b0",
   "metadata": {},
   "source": [
    "Example                                      Data Type\n",
    "-------                                      ---------\n",
    "x = \"Hello World\"                            str\n",
    "x = 1                                        int\n",
    "x = 1.5                                      float\n",
    "x = 1j                                       complex\n",
    "x = [\"pomme\", \"banana\", \"lichi\"]             list\n",
    "x = (\"pomme\", \"banana\", \"lichi\")             tuple\n",
    "x = range(5)                                 range\n",
    "x = {\"name\" : \"Juphin\", \"age\" : 25}          dict\n",
    "x = {\"pomme\", \"banana\", \"lichi\"}             set\n",
    "x = frozenset({\"pomme\", \"banana\", \"lichi\"})  frozenset\n",
    "x = True                                     bool\n",
    "x = b\"Hello\"                                 bytes\n",
    "x = bytearray(5)                             bytearray\n",
    "x = memoryview(bytes(5))                     memoryview"
   ]
  },
  {
   "cell_type": "code",
   "execution_count": 164,
   "id": "169bcec2-4d6f-4cef-a7de-d457e7ef090c",
   "metadata": {},
   "outputs": [
    {
     "name": "stdout",
     "output_type": "stream",
     "text": [
      "Le Data Type de x0 :  <class 'str'>\n",
      "Le Data Type de x1 :  <class 'float'>\n",
      "Le Data Type de x2 :  <class 'complex'>\n",
      "Le Data Type de x3 :  <class 'list'>\n",
      "Le Data Type de x4 :  <class 'tuple'>\n",
      "Le Data Type de x5 :  <class 'range'>\n",
      "Le Data Type de x6 :  <class 'dict'>\n"
     ]
    }
   ],
   "source": [
    "# Exemple 5\n",
    "\n",
    "x0 = \"Hello World\"\n",
    "x1 = 1.5\n",
    "x2 = 1j\n",
    "x3 = [\"pomme\", \"banana\", \"lichi\"]\n",
    "x4 = (\"pomme\", \"banana\", \"lichi\")\n",
    "x5 = range(5)\n",
    "x6 = {\"name\" : \"Juphin\", \"age\" : 25}\n",
    "\n",
    "print(\"Le Data Type de x0 : \", type(x0))\n",
    "print(\"Le Data Type de x1 : \", type(x1))\n",
    "print(\"Le Data Type de x2 : \", type(x2))\n",
    "print(\"Le Data Type de x3 : \", type(x3))\n",
    "print(\"Le Data Type de x4 : \", type(x4))\n",
    "print(\"Le Data Type de x5 : \", type(x5))\n",
    "print(\"Le Data Type de x6 : \", type(x6))"
   ]
  },
  {
   "cell_type": "markdown",
   "id": "55984883-c615-4ce3-b62a-005f48632dd4",
   "metadata": {},
   "source": [
    "### 4.2.2 Introduction aux différents types de données\n",
    "\n",
    "Nous n'allons introduire ici quelques types de données les plus faciles à manier. Nous présenterons les types plus\n",
    "compliqués dans la suite de ce module avec les chapitres associés.\n",
    "\n",
    "#### 4.2.2.1 Python - Nombres entiers\n",
    "Python différencie les entiers des nombres à virgule flottante, pour un ordinateur, les opérations que l'on effectue sur des\n",
    "nombres à virgule ne sont pas les mêmes que celles sur les entiers, et cette distinction reste encore d'actualité de nos\n",
    "jours.\n",
    "\n",
    "Le type entier se nomme int en Python (qui correspond à l'anglais « integer »). La forme d'un entier est un nombre sans\n",
    "virgule."
   ]
  },
  {
   "cell_type": "code",
   "execution_count": 111,
   "id": "5ddb241f-f8e6-4760-9f94-9eb08094a1a5",
   "metadata": {},
   "outputs": [
    {
     "name": "stdout",
     "output_type": "stream",
     "text": [
      "<class 'int'>\n"
     ]
    }
   ],
   "source": [
    "x = 1\n",
    "print(type(x))"
   ]
  },
  {
   "cell_type": "markdown",
   "id": "aa328d69-f337-4592-941c-8b46cda25102",
   "metadata": {},
   "source": [
    "#### 4.2.2.2 Python - Nombres flottants\n",
    "\n",
    "Les flottants sont les nombres à virgule. Ils se nomment float en Python (ce qui signifie « flottant » en anglais). Si ce\n",
    "nombre n'a pas de partie flottante mais que vous voulez qu'il soit considéré par le système comme un flottant, vous\n",
    "pouvez lui ajouter une partie flottante de 0."
   ]
  },
  {
   "cell_type": "code",
   "execution_count": 113,
   "id": "e1984056-6aa4-4002-a7ef-078c0b3f660a",
   "metadata": {},
   "outputs": [
    {
     "name": "stdout",
     "output_type": "stream",
     "text": [
      "<class 'float'>\n"
     ]
    }
   ],
   "source": [
    "x = 1.0\n",
    "print(type(x))"
   ]
  },
  {
   "cell_type": "markdown",
   "id": "5de6f443-a92d-49f6-b115-bbba3f284002",
   "metadata": {},
   "source": [
    "#### 4.2.2.3 Python - Chaînes de caractères\n",
    "\n",
    "Ce type de donnée permet de stocker une série de lettres, donc une phrase aussi. On peut, à l'instar des nombres (et de\n",
    "tous les types de données) stocker une chaîne de caractères dans une variable. ( bonjour_classe = \"Bonjour, Tout le\n",
    "monde!\" )"
   ]
  },
  {
   "cell_type": "code",
   "execution_count": 257,
   "id": "8f012cd2-ace5-4377-b0fd-a8a1577dedd2",
   "metadata": {},
   "outputs": [
    {
     "name": "stdout",
     "output_type": "stream",
     "text": [
      "Bonjour, tout le monde!\n",
      "<class 'str'>\n"
     ]
    }
   ],
   "source": [
    "# Exemple 6\n",
    "\n",
    "bonjour_classe = \"Bonjour, tout le monde!\"\n",
    "print(bonjour_classe)\n",
    "print(type(bonjour_classe))"
   ]
  },
  {
   "cell_type": "markdown",
   "id": "fc138c1b-8f74-47b0-8ae5-bdd8b425aaea",
   "metadata": {},
   "source": [
    "------------------\n",
    "Note : Faites vous attention quand vous utilisez les guillemets ou apostrophes qui peuvent contenir ladite chaîne.\n",
    "\n",
    "Par exemple, si vous tapez like_python = 'J'aime le Python!' , vous obtenez le message d'erreur suivant :"
   ]
  },
  {
   "cell_type": "code",
   "execution_count": 139,
   "id": "d05c3690-d88d-4314-9158-eed894f9a7e9",
   "metadata": {},
   "outputs": [
    {
     "ename": "SyntaxError",
     "evalue": "unterminated string literal (detected at line 1) (1933502249.py, line 1)",
     "output_type": "error",
     "traceback": [
      "\u001b[0;36m  Cell \u001b[0;32mIn[139], line 1\u001b[0;36m\u001b[0m\n\u001b[0;31m    like_python = 'J'aime le Python!'\u001b[0m\n\u001b[0m                                    ^\u001b[0m\n\u001b[0;31mSyntaxError\u001b[0m\u001b[0;31m:\u001b[0m unterminated string literal (detected at line 1)\n"
     ]
    }
   ],
   "source": [
    "like_python = 'J'aime le Python!'"
   ]
  },
  {
   "cell_type": "markdown",
   "id": "84c80302-e4f3-4177-92f4-b91c16842c8f",
   "metadata": {},
   "source": [
    "-----------------\n",
    "Pour résoudre ce problème, il faut échapper les apostrophes se trouvant au coeur de la chaîne. On insère ainsi un\n",
    "caractère anti-slash \\ avant les apostrophes contenues dans le message."
   ]
  },
  {
   "cell_type": "code",
   "execution_count": 150,
   "id": "abbff5c8-2047-4745-8760-323e4b0f4244",
   "metadata": {},
   "outputs": [
    {
     "name": "stdout",
     "output_type": "stream",
     "text": [
      "J'aime le Python\n",
      "<class 'str'>\n"
     ]
    }
   ],
   "source": [
    "# Exemple 7\n",
    "\n",
    "like_python = 'J\\'aime le Python'\n",
    "print(like_python)\n",
    "print(type(like_python))"
   ]
  },
  {
   "cell_type": "markdown",
   "id": "dbf4a381-af47-4d6a-a9de-e4db09b92e32",
   "metadata": {},
   "source": [
    "-------------------\n",
    "Les chaînes peuvent être indexées (en indice), le premier caractère ayant l'index 0. Il n'y a pas de type de caractère\n",
    "séparé. Un caractère est simplement une chaîne de taille un:"
   ]
  },
  {
   "cell_type": "code",
   "execution_count": 187,
   "id": "4563e8b4-63e2-457f-ad5b-50dea22310b2",
   "metadata": {},
   "outputs": [
    {
     "name": "stdout",
     "output_type": "stream",
     "text": [
      "B\n",
      "o\n",
      "!\n"
     ]
    }
   ],
   "source": [
    "# Exemple 8\n",
    "\n",
    "bonjour_classe = \"Bonjour, tout le monde!\"\n",
    "print(bonjour_classe[0])\n",
    "print(bonjour_classe[1])\n",
    "print(bonjour_classe[-1]) # Dernier caractere"
   ]
  },
  {
   "cell_type": "markdown",
   "id": "dfde52c0-001d-4ba4-a7e8-8b4c82133807",
   "metadata": {},
   "source": [
    "------------------------\n",
    "En plus de l'indexation, le découpage est également pris en charge. Alors que l'indexation est utilisée pour obtenir des\n",
    "caractères individuels, le découpage vous permet d'obtenir une sous-chaîne. Les indices de tranche ont des valeurs par\n",
    "défaut utiles. Un premier index omis par défaut à zéro, un deuxième index omis par défaut à la taille de la chaîne\n",
    "découpée. A vous de tester."
   ]
  },
  {
   "cell_type": "code",
   "execution_count": 190,
   "id": "fa8ccd06-1983-446a-a833-a3699849ebf3",
   "metadata": {},
   "outputs": [
    {
     "name": "stdout",
     "output_type": "stream",
     "text": [
      "Bo\n",
      "Bo\n",
      "njour, tout le monde!\n",
      "e!\n",
      "Bonjour, tout le mond\n"
     ]
    }
   ],
   "source": [
    "# Exemple 8\n",
    "\n",
    "print(bonjour_classe[0:2])\n",
    "print(bonjour_classe[:2])\n",
    "print(bonjour_classe[2:])\n",
    "print(bonjour_classe[-2:])\n",
    "print(bonjour_classe[:-2])"
   ]
  },
  {
   "cell_type": "markdown",
   "id": "afe765bc-6d89-43f6-a098-60ad752792bc",
   "metadata": {},
   "source": [
    "------------------------------------\n",
    "Explication du slicing (:) en Python\n",
    "\n",
    "En Python, lorsqu’on utilise chaine[start:stop], cela signifie :\n",
    "\t•\tstart : index de départ (inclus).\n",
    "\t•\tstop : index de fin (exclu).\n",
    "\t•\tSi start est omis, il est considéré comme 0 par défaut.\n",
    "\t•\tSi stop est omis, il va jusqu’à la fin de la chaîne.\n",
    "\n",
    "bonjour_classe[0:2] → Prend les caractères aux indices 0 et 1 (car 2 est exclu).\n",
    "\t•\tbonjour_classe[0] = 'B'\n",
    "\t•\tbonjour_classe[1] = 'o'\n",
    "\t•\tDonc, résultat : \"Bo\"\n",
    "\t•\tbonjour_classe[:2] → Équivaut à bonjour_classe[0:2], car l’absence du start signifie qu’il commence à 0.\n",
    "\t•\tRésultat identique : \"Bo\""
   ]
  },
  {
   "cell_type": "markdown",
   "id": "40f7a5ef-77a9-4123-86f7-84d3bc33cf60",
   "metadata": {},
   "source": [
    "##### 4.2.2.3.1 La fonction len () renvoie la longueur d'une chaîne:"
   ]
  },
  {
   "cell_type": "code",
   "execution_count": 197,
   "id": "4bf2557f-f86a-482a-a9e5-cfd362fe1962",
   "metadata": {},
   "outputs": [
    {
     "name": "stdout",
     "output_type": "stream",
     "text": [
      "23\n"
     ]
    }
   ],
   "source": [
    "# Exemple 9\n",
    "\n",
    "bonjour_classe = \"Bonjour, tout le monde!\"\n",
    "print(len(bonjour_classe))"
   ]
  },
  {
   "cell_type": "markdown",
   "id": "5747f2da-9acb-46ad-87c2-52241b2c39ba",
   "metadata": {},
   "source": [
    "##### 4.2.2.3.2 La méthode strip () supprime tout espace du début ou de la fin:"
   ]
  },
  {
   "cell_type": "code",
   "execution_count": 210,
   "id": "0e9fdd8f-1797-477d-88f2-f27ec7d78d4d",
   "metadata": {},
   "outputs": [
    {
     "name": "stdout",
     "output_type": "stream",
     "text": [
      "Bonjour, tout le monde!\n"
     ]
    }
   ],
   "source": [
    "# Exemple 10\n",
    "\n",
    "bonjour_classe = \" Bonjour, tout le monde! \"\n",
    "print(bonjour_classe.strip())"
   ]
  },
  {
   "cell_type": "markdown",
   "id": "90cbfe40-a4bb-438b-8d9d-de5ac0ec2bd7",
   "metadata": {},
   "source": [
    "##### 4.2.2.3.3 La méthode lower () renvoie la chaîne en minuscules:"
   ]
  },
  {
   "cell_type": "code",
   "execution_count": 214,
   "id": "e9ffab4e-604f-4316-9d68-f925634a444f",
   "metadata": {},
   "outputs": [
    {
     "name": "stdout",
     "output_type": "stream",
     "text": [
      " bonjour, tout le monde! \n"
     ]
    }
   ],
   "source": [
    "# Exemple 11\n",
    "\n",
    "bonjour_classe = \" Bonjour, Tout Le Monde! \"\n",
    "print(bonjour_classe.lower())"
   ]
  },
  {
   "cell_type": "markdown",
   "id": "84f7746e-a972-4592-8e41-291b858b9f3f",
   "metadata": {},
   "source": [
    "##### 4.2.2.3.4 La méthode upper () renvoie la chaîne en majuscules:"
   ]
  },
  {
   "cell_type": "code",
   "execution_count": 219,
   "id": "bb23a1df-f162-48d2-a1df-2bd927249f08",
   "metadata": {},
   "outputs": [
    {
     "name": "stdout",
     "output_type": "stream",
     "text": [
      " BONJOUR, TOUT LE MONDE! \n"
     ]
    }
   ],
   "source": [
    "# Exemple 12\n",
    "\n",
    "bonjour_classe = \" Bonjour, tout le monde! \"\n",
    "print(bonjour_classe.upper())"
   ]
  },
  {
   "cell_type": "markdown",
   "id": "18abff43-498b-4cb0-8b12-f50cc6dc79c4",
   "metadata": {},
   "source": [
    "##### 4.2.2.3.5 La méthode replace () remplace une chaîne par une autre chaîne:"
   ]
  },
  {
   "cell_type": "code",
   "execution_count": 222,
   "id": "84b345cd-f12d-4bff-b79d-630895e4d44b",
   "metadata": {},
   "outputs": [
    {
     "name": "stdout",
     "output_type": "stream",
     "text": [
      " BonjouT, tout le monde! \n"
     ]
    }
   ],
   "source": [
    "# Exemple 13\n",
    "\n",
    "bonjour_classe = \" Bonjour, tout le monde! \"\n",
    "a = bonjour_classe.replace(\"r\", \"T\")\n",
    "print(a)"
   ]
  },
  {
   "cell_type": "markdown",
   "id": "a051a73f-47b1-4301-b8d4-fa0d90e1a508",
   "metadata": {},
   "source": [
    "##### 4.2.2.3.6 La méthode split () divise la chaîne en sous-chaînes si elle trouve des instances du séparateur:"
   ]
  },
  {
   "cell_type": "code",
   "execution_count": 230,
   "id": "702eef44-9cc9-4471-a7f0-7c1833b4a46c",
   "metadata": {},
   "outputs": [
    {
     "name": "stdout",
     "output_type": "stream",
     "text": [
      "[' Bonjour', ' tout le monde! ']\n"
     ]
    }
   ],
   "source": [
    "# Exemple 14\n",
    "\n",
    "bonjour_classe = \" Bonjour, tout le monde! \"\n",
    "print(bonjour_classe.split(\",\"))"
   ]
  },
  {
   "cell_type": "markdown",
   "id": "6939f372-6d82-4b52-8b5a-74fa85bdd6b5",
   "metadata": {},
   "source": [
    "##### 4.2.2.3.7 Pour vérifier si une certaine phrase ou un certain caractère est présent dans une chaîne, nous pouvons utiliser les mots clés in ou not in ."
   ]
  },
  {
   "cell_type": "code",
   "execution_count": 234,
   "id": "850db927-b30f-4234-ad26-a0ca93b66873",
   "metadata": {},
   "outputs": [
    {
     "name": "stdout",
     "output_type": "stream",
     "text": [
      "True\n",
      "False\n"
     ]
    }
   ],
   "source": [
    "# Exemple 15\n",
    "\n",
    "a = \"Hello, Python!\"\n",
    "b = \"lo\" in a\n",
    "c = \"Py\" not in a\n",
    "print(b)\n",
    "print(c)"
   ]
  },
  {
   "cell_type": "markdown",
   "id": "d5b45ee4-da28-4b5f-9e69-9a0e387283af",
   "metadata": {},
   "source": [
    "##### 4.2.2.3.8 f-Strings: une façon nouvelle et améliorée de formater les chaînes en Python\n",
    "La syntaxe est similaire à celle que vous avez utilisée avec str.format () mais moins verbeuse. Voici un exemple:"
   ]
  },
  {
   "cell_type": "code",
   "execution_count": 267,
   "id": "89a53076-2351-437b-82ee-ada235275175",
   "metadata": {},
   "outputs": [
    {
     "name": "stdout",
     "output_type": "stream",
     "text": [
      "Hello, Grace your age is 24\n"
     ]
    }
   ],
   "source": [
    "# Exemple 16 - 1\n",
    "\n",
    "name = \"Grace\"\n",
    "age = 24\n",
    "print(f\"Hello, {name} your age is {age}\")"
   ]
  },
  {
   "cell_type": "markdown",
   "id": "53cc0e40-6628-4072-8f08-41a8b39ae6eb",
   "metadata": {},
   "source": [
    "---------------------\n",
    "Le f dans print(f\"...\") est une notation appelée f-string (formatted string literals), introduite en Python 3.6. Elle permet d’insérer directement des variables ou des expressions dans une chaîne de caractères sans avoir besoin de concaténation (+) ou de format().\n",
    "\n",
    "🔹 Comment ça fonctionne ?\n",
    "\n",
    "\t• Le f placé devant la chaîne permet d’utiliser les accolades {} pour insérer des variables.\n",
    "\t• {name} est remplacé par la valeur de la variable name (\"Grace\").\n",
    "\t• {age} est remplacé par la valeur de age (24)."
   ]
  },
  {
   "cell_type": "code",
   "execution_count": 241,
   "id": "f87fd8e9-0896-49f1-a614-268130d49244",
   "metadata": {},
   "outputs": [
    {
     "name": "stdout",
     "output_type": "stream",
     "text": [
      "74\n"
     ]
    }
   ],
   "source": [
    "# Exemple 16 - 2 Testez dans Jupyter Notebook\n",
    "# Étant donné que les chaînes f sont évaluées au moment de l'exécution, vous pouvez y placer toutes les expressions\n",
    "\n",
    "print(f\"{2 * 37}\")"
   ]
  },
  {
   "cell_type": "code",
   "execution_count": 261,
   "id": "2972e9f2-ef93-491a-b551-ff61e4d7c73a",
   "metadata": {},
   "outputs": [
    {
     "name": "stdout",
     "output_type": "stream",
     "text": [
      "grace est comique\n"
     ]
    }
   ],
   "source": [
    "# Exemple 16 - 3\n",
    "# Vous avez également la possibilité d'appeler directement une méthode:\n",
    "\n",
    "name = \"Grace\"\n",
    "print(f\"{name.lower()} est comique\")"
   ]
  },
  {
   "cell_type": "markdown",
   "id": "4d515f55-8b9e-4ec7-a7d1-efaef825abb8",
   "metadata": {},
   "source": [
    "#### 4.2.2.4 Python - Listes\n",
    "\n",
    "Python connaît un certain nombre de types de données composés, utilisés pour regrouper d'autres valeurs. La plus\n",
    "polyvalente est la liste - list , qui peut être écrite sous la forme d'une liste de valeurs séparées par des virgules\n",
    "(éléments) entre crochets. Les listes peuvent contenir des éléments de différents types, mais généralement les articles ont\n",
    "tous le même type."
   ]
  },
  {
   "cell_type": "code",
   "execution_count": 4,
   "id": "135ffaa4-d26d-486f-9b77-b170cd34aa52",
   "metadata": {},
   "outputs": [
    {
     "name": "stdout",
     "output_type": "stream",
     "text": [
      "[1, 4, 9, 12, 15, 20]\n"
     ]
    }
   ],
   "source": [
    "# Exemple 17\n",
    "\n",
    "carres = [1, 4, 9, 12, 15, 20]\n",
    "print(carres)"
   ]
  },
  {
   "cell_type": "markdown",
   "id": "47022f5b-5a53-4933-a19a-9171de2d1c89",
   "metadata": {},
   "source": [
    "-----------\n",
    "Comme les chaînes de caractères (et tous les autres types de séquence intégrés), les listes peuvent être indexées et découpées:"
   ]
  },
  {
   "cell_type": "code",
   "execution_count": 15,
   "id": "98ab882b-df30-4faf-986b-510595e0b9c0",
   "metadata": {},
   "outputs": [
    {
     "name": "stdout",
     "output_type": "stream",
     "text": [
      "1\n",
      "[12, 15, 20]\n",
      "[1, 4]\n"
     ]
    }
   ],
   "source": [
    "# Exemple 17 -1\n",
    "\n",
    "print(carres[0])\n",
    "print(carres[-3:])\n",
    "print(carres[0:2])"
   ]
  },
  {
   "cell_type": "markdown",
   "id": "e5b4a661-85e3-4c95-a6e9-728b9164f476",
   "metadata": {},
   "source": [
    "------------------------------\n",
    "De manière similaire, il existe de nombreuses méthodes pour traiter l'objet liste, voici quelques exemples:\n",
    "\n",
    "##### 4.2.2.4.1 Pour déterminer le nombre d'éléments d'une liste, utilisez la fonction len () :"
   ]
  },
  {
   "cell_type": "code",
   "execution_count": 13,
   "id": "c01c8e9d-a288-4f32-985a-864aca883b94",
   "metadata": {},
   "outputs": [
    {
     "name": "stdout",
     "output_type": "stream",
     "text": [
      "4\n"
     ]
    }
   ],
   "source": [
    "# Exemple 18\n",
    "\n",
    "l = [\"Pomme\", \"Banane\", \"Anana\", \"Avocat\"]\n",
    "print(len(l))"
   ]
  },
  {
   "cell_type": "markdown",
   "id": "af5a0f28-e00b-47ce-864e-eee85cd52f1b",
   "metadata": {},
   "source": [
    "##### 4.2.2.4.2 Ajouter de nouveaux éléments à la fin de la liste, en utilisant la méthode append () :"
   ]
  },
  {
   "cell_type": "code",
   "execution_count": 28,
   "id": "62e732cd-c825-4da3-8676-77a623ab64c4",
   "metadata": {},
   "outputs": [
    {
     "name": "stdout",
     "output_type": "stream",
     "text": [
      "['Lundi', 'Mercredi', 'Jeudi']\n",
      "['Lundi', 'Mercredi', 'Jeudi', 'Vendredi']\n"
     ]
    }
   ],
   "source": [
    "# Exemple 19\n",
    "\n",
    "Jours = [\"Lundi\", \"Mercredi\", \"Jeudi\"]\n",
    "print(Jours)\n",
    "Jours.append(\"Vendredi\")\n",
    "print(Jours)"
   ]
  },
  {
   "cell_type": "markdown",
   "id": "4433acb2-4687-4dea-b3d3-35ed26c25883",
   "metadata": {},
   "source": [
    "##### 4.2.2.4.3 Pour ajouter un élément à l'index spécifié, utilisez la méthode insert () :"
   ]
  },
  {
   "cell_type": "code",
   "execution_count": 38,
   "id": "a65f153a-9bb8-44ed-9269-efbaec9f9bd0",
   "metadata": {},
   "outputs": [
    {
     "name": "stdout",
     "output_type": "stream",
     "text": [
      "['Lundi', 'Mercredi', 'Jeudi']\n",
      "['Lundi', 'Mardi', 'Mercredi', 'Jeudi', 'Vendredi']\n"
     ]
    }
   ],
   "source": [
    "# Exemple 20\n",
    "\n",
    "Jours = [\"Lundi\", \"Mercredi\", \"Jeudi\"]\n",
    "print(Jours)\n",
    "Jours.insert(1, \"Mardi\")\n",
    "Jours.insert(4, \"Vendredi\")\n",
    "print(Jours)"
   ]
  },
  {
   "cell_type": "markdown",
   "id": "ee2d2688-c0a7-4114-a60e-ed81e28afdc4",
   "metadata": {},
   "source": [
    "##### 4.2.2.4.4 La méthode remove () supprime l'élément spécifié:"
   ]
  },
  {
   "cell_type": "code",
   "execution_count": 42,
   "id": "b281c89a-b20a-4588-bf6f-1edaf9ab8012",
   "metadata": {},
   "outputs": [
    {
     "name": "stdout",
     "output_type": "stream",
     "text": [
      "['Lundi', 'Mardi', 'Mercredi']\n",
      "[1, 4, 12, 15, 20]\n"
     ]
    }
   ],
   "source": [
    "# Exemple 21\n",
    "\n",
    "Jours = [\"Lundi\", \"Mardi\", \"Mercredi\", \"Jeudi\"]\n",
    "carres = [1, 4, 9, 12, 15, 20]\n",
    "Jours.remove(\"Jeudi\")\n",
    "carres.remove(9)\n",
    "print(Jours)\n",
    "print(carres)"
   ]
  },
  {
   "cell_type": "markdown",
   "id": "24df1107-4275-46e1-9945-16655a551a57",
   "metadata": {},
   "source": [
    "##### 4.2.2.4.5 La méthode pop () supprime l'index spécifié, (ou le dernier élément si l'index n'est pas spécifié):"
   ]
  },
  {
   "cell_type": "code",
   "execution_count": 46,
   "id": "7350ca4e-98bf-44b9-9779-1ce7f0cb3a4d",
   "metadata": {},
   "outputs": [
    {
     "name": "stdout",
     "output_type": "stream",
     "text": [
      "['Lundi', 'Mercredi', 'Jeudi']\n"
     ]
    }
   ],
   "source": [
    "# Exemple 22\n",
    "\n",
    "Jours = [\"Lundi\", \"Mardi\", \"Mercredi\", \"Jeudi\"]\n",
    "Jours.pop(1)\n",
    "print(Jours)"
   ]
  },
  {
   "cell_type": "markdown",
   "id": "23ab2f40-50d4-4968-9eee-7976cacaebf3",
   "metadata": {},
   "source": [
    "##### 4.2.2.4.6 Le mot clé del supprime l'index spécifié:"
   ]
  },
  {
   "cell_type": "code",
   "execution_count": 7,
   "id": "24dca66b-6b00-4755-b09a-36ed221ad9c8",
   "metadata": {},
   "outputs": [
    {
     "name": "stdout",
     "output_type": "stream",
     "text": [
      "['Banane', 'Ananas']\n"
     ]
    }
   ],
   "source": [
    "# Exemple 23\n",
    "\n",
    "Fruits =  [\"Pomme\", \"Banane\", \"Ananas\"]\n",
    "del Fruits[0]\n",
    "print(Fruits)"
   ]
  },
  {
   "cell_type": "markdown",
   "id": "198a945a-357b-4337-9b94-fd200ee0d483",
   "metadata": {},
   "source": [
    "##### 4.2.2.4.7 Faites une copie d'une liste avec la méthode copy () :"
   ]
  },
  {
   "cell_type": "code",
   "execution_count": 12,
   "id": "a1fafc7f-18a7-43f8-a6db-130148313458",
   "metadata": {},
   "outputs": [
    {
     "name": "stdout",
     "output_type": "stream",
     "text": [
      "['Citron', 'Ananas', 'Mangue']\n"
     ]
    }
   ],
   "source": [
    "### Exemple 24\n",
    "\n",
    "Fruits = [\"Citron\", \"Ananas\", \"Mangue\"]\n",
    "Fruits2 = Fruits.copy()\n",
    "print(Fruits2)"
   ]
  },
  {
   "cell_type": "markdown",
   "id": "c1e6cef5-a2f5-42d8-abc5-738cf605c792",
   "metadata": {},
   "source": [
    "##### 4.2.2.4.8 Rejoignez deux listes"
   ]
  },
  {
   "cell_type": "code",
   "execution_count": 23,
   "id": "0708d3ee-f076-4a72-829d-fa1cb60f820f",
   "metadata": {},
   "outputs": [
    {
     "name": "stdout",
     "output_type": "stream",
     "text": [
      "['Pommes', 'Bananes', 'Mangies', 1, 2, 3, 4]\n",
      "['Pommes', 'Bananes', 'Mangies', 1, 2, 3, 4]\n",
      "['Pommes', 'Bananes', 'Mangies', 1, 2, 3, 4]\n"
     ]
    }
   ],
   "source": [
    "# il existe plusieurs façons de joindre ou de concatener deux ou plusieurs listes en Python\n",
    "\n",
    "# L'un des moyens les plus simple est d'utiliser l'opérateur +.\n",
    "#Exemple 25.1\n",
    "\n",
    "fruits = [\"Pommes\", \"Bananes\", \"Mangies\"]\n",
    "carres = [1,2,3,4]\n",
    "L1 = fruits + carres\n",
    "print(L1)\n",
    "\n",
    "# Une autre façon est d'ajouter tous les éléments de la liste1 à la liste2\n",
    "# Exemple 25.2\n",
    "\n",
    "fruits = [\"Pommes\", \"Bananes\", \"Mangies\"]\n",
    "carres = [1,2,3,4]\n",
    "\n",
    "for x in carres:\n",
    "    fruits.append(x)\n",
    "\n",
    "print(fruits)\n",
    "\n",
    "# Une autre façon est d'utiliser \"extend()\" pour ajouter l2 à la fin de l1\n",
    "# Exemple 25.3\n",
    "\n",
    "fruits = [\"Pommes\", \"Bananes\", \"Mangies\"]\n",
    "carres = [1,2,3,4]\n",
    "\n",
    "fruits.extend(carres)\n",
    "print(fruits)"
   ]
  },
  {
   "cell_type": "markdown",
   "id": "c0047c95-8593-48e5-8014-78823e64d297",
   "metadata": {},
   "source": [
    "-----------------------------------------\n",
    "En résumé, Python possède un ensemble de méthodes intégrées que vous pouvez utiliser/tester sur des listes."
   ]
  },
  {
   "cell_type": "raw",
   "id": "89a673ff-069d-41ca-a6f9-cc10413e9289",
   "metadata": {},
   "source": [
    "Méthode       Description\n",
    "-------       -----------\n",
    "append()      Ajoute un élément à la fin de la liste\n",
    "clear()       Supprime tous les éléments de la liste\n",
    "copy()        Renvoie une copie de la liste\n",
    "count()       Renvoie le nombre d'éléments avec la valeur spécifiée\n",
    "extend()      Ajouter les éléments d'une liste (ou tout itérable), à la fin de la liste actuelle\n",
    "index()       Renvoie l'index du premier élément avec la valeur spécifiée\n",
    "insert()      Ajouter un élément à la position spécifiée\n",
    "pop()         Supprime l'élément à la position spécifiée\n",
    "remove()      Supprime l'élément avec la valeur spécifiée\n",
    "reverse()     Inverser l'ordre de la liste\n",
    "sort()        Trier la liste\n",
    "\n",
    "Le type liste est l'un des types le plus enrichi parti tous les types de données Python, nous découvrons ensemble dans la\n",
    "suite de ce module ses autres caractéristiques intéressantes."
   ]
  },
  {
   "cell_type": "markdown",
   "id": "3df5aa32-77c3-4bbe-9e0a-850068882704",
   "metadata": {},
   "source": [
    "### 4.3 Structures conditionnelles\n",
    "\n",
    "Une structure conditionnelle permet d’exécuter un bloc de code différent selon qu’une condition est vraie ou fausse. Elle simule le “si… alors…” qu’on utilise dans la vie de tous les jours :\n",
    "\n",
    "Si j’ai faim, alors je mange.\n",
    "Sinon, j’attends.\n",
    "\n",
    "#### 4.3.1 Déclaration if\n",
    "\n",
    "✅ Syntaxe de base de if en Python\n",
    "\n",
    "if condition:<br>\n",
    "<div style=\"margin-left: 40px;\">\n",
    "bloc de code exécuté si la condition est vraie\n",
    "</div>\n",
    "\n",
    "\n",
    "    • if = “si…”\n",
    "\t• condition = une expression qui retourne True (vrai) ou False (faux)\n",
    "\t• : = obligatoire après le if, pour indiquer le début du bloc\n",
    "\t• Le bloc de code est indenté (généralement 4 espaces ou 1 tabulation)\n",
    "\n",
    "    "
   ]
  },
  {
   "cell_type": "code",
   "execution_count": 69,
   "id": "084aae72-3982-4e7a-bbab-aa5d9e51fb52",
   "metadata": {},
   "outputs": [
    {
     "name": "stdout",
     "output_type": "stream",
     "text": [
      "La valeur de a = 10 est inférieure à la valeur de b = 100\n"
     ]
    }
   ],
   "source": [
    "# Exemple\n",
    "a = 10\n",
    "b = 100\n",
    "\n",
    "if a < b:\n",
    "    print(f\"La valeur de a = {a} est inférieure à la valeur de b = {b}\")"
   ]
  },
  {
   "cell_type": "markdown",
   "id": "e4cdf084-27e3-463e-8135-20e2f5bf13d6",
   "metadata": {},
   "source": [
    "#### 4.3.2 Déclaration else\n",
    "\n",
    "Le mot-clé else , qui signifie « sinon » en anglais, permet de définir une première forme de complément à notre\n",
    "instruction if .<br>\n",
    "C'est le bloc qui s'exécute si la condition est fausse(else)\n",
    "\n",
    "✅ Syntaxe de else\n",
    "\n",
    "if condition:\n",
    "<div style=\"margin-left: 40px;\">\n",
    "bloc de code exécuté si la condition est vraie\n",
    "</div>   \n",
    "else:\n",
    "<div style=\"margin-left: 40px;\">\n",
    "bloc de code exécuté si la condition est fausse\n",
    "</div>"
   ]
  },
  {
   "cell_type": "code",
   "execution_count": 106,
   "id": "3556b1a6-8d41-4b5a-868c-33964f0642ac",
   "metadata": {},
   "outputs": [
    {
     "name": "stdout",
     "output_type": "stream",
     "text": [
      "Tu es mineur\n"
     ]
    }
   ],
   "source": [
    "# Exemple\n",
    "\n",
    "age = 16\n",
    "\n",
    "if age >= 18:\n",
    "    print(\"Tu es majeur\")\n",
    "else:\n",
    "    print(\"Tu es mineur\")"
   ]
  },
  {
   "cell_type": "markdown",
   "id": "24b40908-d102-41bb-bb8b-4472b616a93b",
   "metadata": {},
   "source": [
    "🔸 Explication :<br>\n",
    "    • Si age est supérieur ou égal à 18, la condition est vraie, donc \"Tu es majeur.\" s’affiche.<br>\n",
    "    • Sinon (dans tous les autres cas), la condition est fausse, donc \"Tu es mineur.\" s’affiche.\n",
    "\n",
    "📌 À retenir :<br>\n",
    "• else ne prend pas de condition.<br>\n",
    "• Il doit toujours venir après un if.<br>\n",
    "• Il s’exécute uniquement si le if est faux."
   ]
  },
  {
   "cell_type": "markdown",
   "id": "5449ded1-1aa0-4e51-acd0-0af097650e61",
   "metadata": {},
   "source": [
    "#### 4.3.3 Déclaration elif\n",
    "\n",
    "Le mot clé elif est une contraction de « else if », que l'on peut traduire très littéralement par « sinon si ».\n",
    "La structure elif, te permet de gérer plusieurs cas possibles dans une seule structure conditionnelle.\n",
    "\n",
    "🔹 Syntaxe générale :<br>\n",
    "if condition1:\n",
    "    <div style=\"margin-left: 40px;\">Bloc exécuté si condition1 est vraie</div>\n",
    "elif condition2:\n",
    "    <div style=\"margin-left: 40px;\">Bloc exécuté si condition2 est vraie</div>\n",
    "elif condition3:\n",
    "    <div style=\"margin-left: 40px;\">Bloc exécuté si condition3 est vraie</div>\n",
    "else:\n",
    "    <div style=\"margin-left: 40px;\">Bloc exécuté si aucune condition n'est vraie</div>"
   ]
  },
  {
   "cell_type": "code",
   "execution_count": 115,
   "id": "7e5d7e5d-8283-47d8-a5f9-abc370f1196f",
   "metadata": {},
   "outputs": [
    {
     "name": "stdout",
     "output_type": "stream",
     "text": [
      "Distinction\n"
     ]
    }
   ],
   "source": [
    "# Exemple\n",
    "\n",
    "pourcentage = 70\n",
    "\n",
    "if pourcentage >= 80:\n",
    "    print(\"Plus grande distinction\")\n",
    "elif pourcentage >= 75:\n",
    "    print(\"Grande distinction\")\n",
    "elif pourcentage >= 70:\n",
    "    print(\"Distinction\")\n",
    "elif pourcentage >= 50:\n",
    "    print(\"Satisfaction\")\n",
    "else:\n",
    "    print(\"Echec\")"
   ]
  },
  {
   "cell_type": "markdown",
   "id": "9713a880-06eb-4d3a-a05f-83388ed45edb",
   "metadata": {},
   "source": [
    "🧠 À noter :<br>\n",
    "\t• Une seule condition est exécutée (dès qu’une est vraie, les autres sont ignorées).<br>\n",
    "\t• Tu peux utiliser autant de elif que nécessaire.<br>\n",
    "\t• else est facultatif, mais utile comme “par défaut”."
   ]
  },
  {
   "cell_type": "markdown",
   "id": "ba14b0f9-06a8-41b6-9154-1a79458abdb1",
   "metadata": {},
   "source": []
  },
  {
   "cell_type": "markdown",
   "id": "354b103c-d701-45ef-bc66-885b045a5b04",
   "metadata": {},
   "source": [
    "#### 4.3.4 Opérateurs de comparaison\n",
    "\n",
    "Comme nous avons vu dans les sections précédentes les opérateurs \">\", \"<\", nous introduisons ici les opérateurs dits opérateurs de comparaison. Aussi appelés opérateurs relationnels, permettent de comparer deux valeurs.\n",
    "Ils retournent toujours un résultat booléen : soit True (vrai), soit False (faux)."
   ]
  },
  {
   "cell_type": "raw",
   "id": "328929c9-b6da-4c08-bbb4-4f10b7b3f78c",
   "metadata": {},
   "source": [
    "Opérateur    Signification littérale\n",
    "---------    -----------------------\n",
    "<            Strictement inférieur à\n",
    ">            Strictement supérieur à\n",
    "<=           Inférieur ou égal à\n",
    ">=           Supérieur ou égal à\n",
    "==           Égal à\n",
    "!=           Différent de"
   ]
  },
  {
   "cell_type": "code",
   "execution_count": 125,
   "id": "55d5197f-6c88-43b1-af76-5e8f2d6168ef",
   "metadata": {},
   "outputs": [
    {
     "name": "stdout",
     "output_type": "stream",
     "text": [
      "False\n",
      "True\n",
      "True\n",
      "False\n",
      "True\n",
      "False\n"
     ]
    }
   ],
   "source": [
    "a = 10\n",
    "b = 5\n",
    "\n",
    "print(a == b)   # False (10 n’est pas égal à 5)\n",
    "print(a != b)   # True  (10 est différent de 5)\n",
    "print(a > b)    # True  (10 est plus grand que 5)\n",
    "print(a < b)    # False (10 n’est pas plus petit que 5)\n",
    "print(a >= 10)  # True  (10 est égal à 10)\n",
    "print(b <= 4)   # False (5 n’est pas <= 4\n",
    "\n",
    "# Utilité principale :\n",
    "\n",
    "# Ces opérateurs sont souvent utilisés dans les structures conditionnelles pour prendre des décisions :"
   ]
  },
  {
   "cell_type": "markdown",
   "id": "bb51c36d-1212-43ad-9330-edbdadb4d538",
   "metadata": {},
   "source": [
    "#### 4.3.5 Mots-clés and , or et not\n",
    "\n",
    "Il arrive souvent que nos conditions doivent tester plusieurs prédicats. Les mots-clés and , or et not sont donc les\n",
    "opérateurs logiques, et sont utilisés pour combiner des instructions conditionnelles. Nous allons comprendre leurs\n",
    "utilisations très rapidement avec quelques exemples:\n",
    "\n",
    "##### 4.3.5.1 and (et logique)\n",
    "\n",
    "Permet de vérifier que deux conditions sont vraies en même temps."
   ]
  },
  {
   "cell_type": "code",
   "execution_count": 143,
   "id": "a04c7861-5048-441f-97cf-6dd2b6921cb7",
   "metadata": {},
   "outputs": [
    {
     "name": "stdout",
     "output_type": "stream",
     "text": [
      "Eligible pour voter\n"
     ]
    }
   ],
   "source": [
    "# Exemple\n",
    "\n",
    "age = 20\n",
    "citoyen = True\n",
    "\n",
    "if age >= 18 and citoyen:\n",
    "    print(\"Eligible pour voter\")"
   ]
  },
  {
   "cell_type": "code",
   "execution_count": 149,
   "id": "93178fab-eda0-4491-b642-f1bff865e9f4",
   "metadata": {},
   "outputs": [
    {
     "name": "stdout",
     "output_type": "stream",
     "text": [
      "Les deux conditions sont vraies\n"
     ]
    }
   ],
   "source": [
    "# Exemple\n",
    "\n",
    "a = 200\n",
    "b = 100\n",
    "c = 300\n",
    "\n",
    "if a > b and b < c:\n",
    "    print(\"Les deux conditions sont vraies\")"
   ]
  },
  {
   "cell_type": "markdown",
   "id": "60f8272c-33a9-4816-a83a-6a6c6af7db0d",
   "metadata": {},
   "source": [
    "##### 4.3.5.2 or (ou logique)\n",
    "\n",
    "Permet de vérifier si au moins une des deux conditions est vraie."
   ]
  },
  {
   "cell_type": "code",
   "execution_count": 154,
   "id": "75258ee4-f35c-4a29-a743-820366f69d6d",
   "metadata": {},
   "outputs": [
    {
     "name": "stdout",
     "output_type": "stream",
     "text": [
      "Au moins une des conditions est vraie\n"
     ]
    }
   ],
   "source": [
    "# Exemple\n",
    "\n",
    "a = 200\n",
    "b = 100\n",
    "c = 300\n",
    "\n",
    "if a < b or c > a:\n",
    "    print(\"Au moins une des conditions est vraie\")"
   ]
  },
  {
   "cell_type": "markdown",
   "id": "708d9c48-a99b-4a57-a19a-39bf336fcada",
   "metadata": {},
   "source": [
    "##### 4.3.5.3 not (négation)\n",
    "\n",
    "Inverse une condition. Si c’est vrai, ça devient faux — et inversement."
   ]
  },
  {
   "cell_type": "code",
   "execution_count": 2,
   "id": "94f61133-d68c-44b8-aa94-4cc8a2bcfa2c",
   "metadata": {},
   "outputs": [
    {
     "name": "stdout",
     "output_type": "stream",
     "text": [
      "a est inférieur à c\n"
     ]
    }
   ],
   "source": [
    "a = 200\n",
    "b = 100\n",
    "c = 300\n",
    "\n",
    "if not a > c:\n",
    "    print(\"a est inférieur à c\")"
   ]
  },
  {
   "cell_type": "markdown",
   "id": "dfe7e2c3-c92f-4f24-bf43-755e1baebdf2",
   "metadata": {},
   "source": [
    "### 4.4 Boucles\n",
    "\n",
    "Elles vont vous permettre de répéter une certaine opération autant de\n",
    "fois que nécessaire. En outre, les boucles peuvent permettre de parcourir certaines séquences comme les chaînes de\n",
    "caractères pour, par exemple, en extraire chaque caractère.<br>Une boucle permet de répéter automatiquement un bloc de code plusieurs fois, tant qu’une condition est vraie (ou pour un nombre défini d’itérations). Elle est très utile pour automatiser des tâches répétitives, parcourir des listes, etc.\n",
    "\n",
    "Imaginons que nous avons le besoin suivant : Ecrire un programme affichant la table de multiplication par 9, de 1 * 9 à 9*\n",
    "9. Dans un premier temps, vous arrivez peut-être au programme suivant :"
   ]
  },
  {
   "cell_type": "code",
   "execution_count": 10,
   "id": "dd11c0e2-70f3-46a9-a5c5-2c09c28a24c6",
   "metadata": {},
   "outputs": [
    {
     "name": "stdout",
     "output_type": "stream",
     "text": [
      " 1 * 9 =  9\n",
      " 2 * 9 =  18\n",
      " 3 * 9 =  27\n",
      " 4 * 9 =  36\n",
      " 5 * 9 =  45\n",
      " 6 * 9 =  54\n",
      " 7 * 9 =  63\n",
      " 8 * 9 =  72\n",
      " 9 * 9 =  81\n"
     ]
    }
   ],
   "source": [
    "# Exemple\n",
    "\n",
    "print(\" 1 * 9 = \", 1 * 9)\n",
    "print(\" 2 * 9 = \", 2 * 9)\n",
    "print(\" 3 * 9 = \", 3 * 9)\n",
    "print(\" 4 * 9 = \", 4 * 9)\n",
    "print(\" 5 * 9 = \", 5 * 9)\n",
    "print(\" 6 * 9 = \", 6 * 9)\n",
    "print(\" 7 * 9 = \", 7 * 9)\n",
    "print(\" 8 * 9 = \", 8 * 9)\n",
    "print(\" 9 * 9 = \", 9 * 9)"
   ]
  },
  {
   "cell_type": "markdown",
   "id": "2ad80094-329e-4f03-a301-b8bc9225977a",
   "metadata": {},
   "source": [
    "La première approche fonctionne très bien. Seulement, vous reconnaîtrez qu'un programme comme cela n'est pas bien\n",
    "utile.\n",
    "Essayons donc le même programme mais, cette fois-ci, en utilisant une variable. Ainsi, si nous décidons d'afficher la table\n",
    "de multiplication de 9, on n'aura qu'à changer la valeur de la variable ! Pour cet exemple, on utilise une variable nb qui\n",
    "contiendra 9. Les instructions seront légèrement différentes mais vous devriez toujours pouvoir écrire ce programme :"
   ]
  },
  {
   "cell_type": "code",
   "execution_count": 18,
   "id": "b4356ee2-5811-4a0d-b894-26fd43b09319",
   "metadata": {},
   "outputs": [
    {
     "name": "stdout",
     "output_type": "stream",
     "text": [
      "1 * 9 = 9\n",
      "2 * 9 = 18\n",
      "3 * 9 = 27\n",
      "4 * 9 = 36\n",
      "5 * 9 = 45\n",
      "6 * 9 = 54\n",
      "7 * 9 = 63\n",
      "8 * 9 = 72\n",
      "9 * 9 = 81\n"
     ]
    }
   ],
   "source": [
    "nb = 9\n",
    "print(\"1 *\", nb, \"=\", 1 * nb)\n",
    "print(\"2 *\", nb, \"=\", 2 * nb)\n",
    "print(\"3 *\", nb, \"=\", 3 * nb)\n",
    "print(\"4 *\", nb, \"=\", 4 * nb)\n",
    "print(\"5 *\", nb, \"=\", 5 * nb)\n",
    "print(\"6 *\", nb, \"=\", 6 * nb)\n",
    "print(\"7 *\", nb, \"=\", 7 * nb)\n",
    "print(\"8 *\", nb, \"=\", 8 * nb)\n",
    "print(\"9 *\", nb, \"=\", 9 * nb)"
   ]
  },
  {
   "cell_type": "markdown",
   "id": "e64dd5d0-b3a1-4bc5-8d4e-6b645568db4f",
   "metadata": {},
   "source": [
    "Nous arrivons donc maintenant à afficher la table de multiplication par n'importe quel chiffre nb de 1 * nb à 9* nb.\n",
    "Mais si jamais, nous voulons afficher une table plus grosse disons de 1 * nb à 999* nb? Nous ne pouvons sûrement pas\n",
    "répéter la même liste de code 999 fois, cela représente une tâche bien répétitive. Nous préfèrons donc utiliser les boucles.\n",
    "\n",
    "#### 4.4.1 Python - Boucle for - for Loop\n",
    "\n",
    "Une boucle for est utilisée pour itérer sur une séquence (c'est-à-dire une liste, un tuple, un dictionnaire, un ensemble\n",
    "ou une chaîne). Cela ressemble moins au mot-clé for dans d'autres langages de programmation et fonctionne plus comme\n",
    "une méthode d'itérateur comme dans d'autres langages de programmation orientés objet. Avec la boucle for , nous\n",
    "pouvons exécuter un ensemble d'instructions, une fois pour chaque élément d'une liste, un tuple, un ensemble, etc.\n",
    "\n",
    "✅ Syntaxe :<br>\n",
    "for element in sequence:\n",
    "    <div style=\"margin-left: 40px;\"># code à exécuter</div>"
   ]
  },
  {
   "cell_type": "code",
   "execution_count": 39,
   "id": "3f26b49e-82fb-4504-a377-f8589e9885a1",
   "metadata": {},
   "outputs": [
    {
     "name": "stdout",
     "output_type": "stream",
     "text": [
      "a\n",
      "b\n",
      "c\n",
      "d\n",
      "e\n",
      "f\n",
      "g\n",
      "h\n",
      "i\n",
      "j\n"
     ]
    }
   ],
   "source": [
    "# Exemple 01\n",
    "\n",
    "lettres = [\"a\",\"b\",\"c\",\"d\",\"e\",\"f\",\"g\",\"h\",\"i\",\"j\"]\n",
    "\n",
    "for x in lettres:\n",
    "    print(x)"
   ]
  },
  {
   "cell_type": "markdown",
   "id": "df0d2d4f-8714-4d7e-ac8f-b10d0dde6158",
   "metadata": {},
   "source": [
    "##### 🔸 Mots-clés utiles dans les boucles\n",
    "\n",
    "break : Interrompt totalement la boucle<br>\n",
    "continue : Passe à l'intération suivante sans exécuter la suite du bloc<br>\n",
    "else : S'exécute quand la boucle termine normalement (sans break)\n"
   ]
  },
  {
   "cell_type": "code",
   "execution_count": 54,
   "id": "d46f5bd6-98bc-4a19-a549-2c6c08477ee0",
   "metadata": {},
   "outputs": [
    {
     "name": "stdout",
     "output_type": "stream",
     "text": [
      "a\n",
      "b\n",
      "c\n",
      "d\n"
     ]
    }
   ],
   "source": [
    "# Exemple 02\n",
    "\n",
    "lettres = [\"a\",\"b\",\"c\",\"d\",\"e\",\"f\",\"g\",\"h\",\"i\",\"j\"]\n",
    "\n",
    "for x in lettres:\n",
    "    print(x)\n",
    "    if x == \"d\":\n",
    "        break"
   ]
  },
  {
   "cell_type": "code",
   "execution_count": 48,
   "id": "5e0ec7cd-869c-4855-b728-b9c55c444988",
   "metadata": {},
   "outputs": [
    {
     "name": "stdout",
     "output_type": "stream",
     "text": [
      "a\n",
      "b\n",
      "c\n"
     ]
    }
   ],
   "source": [
    "# Exemple 03\n",
    "\n",
    "lettres = [\"a\",\"b\",\"c\",\"d\",\"e\",\"f\",\"g\",\"h\",\"i\",\"j\"]\n",
    "\n",
    "for x in lettres:\n",
    "    if x == \"d\":\n",
    "        break\n",
    "    print(x)"
   ]
  },
  {
   "cell_type": "code",
   "execution_count": 50,
   "id": "dc7d17ca-a5ee-4b7c-94ee-ade46d809e88",
   "metadata": {},
   "outputs": [
    {
     "name": "stdout",
     "output_type": "stream",
     "text": [
      "a\n",
      "b\n",
      "c\n",
      "d\n",
      "e\n",
      "f\n",
      "g\n",
      "h\n",
      "i\n",
      "j\n"
     ]
    }
   ],
   "source": [
    "# Exemple 04\n",
    "\n",
    "lettres = [\"a\",\"b\",\"c\",\"d\",\"e\",\"f\",\"g\",\"h\",\"i\",\"j\"]\n",
    "\n",
    "for x in lettres:\n",
    "    print(x)\n",
    "    if x == \"f\":\n",
    "        continue"
   ]
  },
  {
   "cell_type": "code",
   "execution_count": 52,
   "id": "7067601a-c0f2-4068-905f-47c438c4135d",
   "metadata": {},
   "outputs": [
    {
     "name": "stdout",
     "output_type": "stream",
     "text": [
      "a\n",
      "b\n",
      "c\n",
      "d\n",
      "e\n",
      "g\n",
      "h\n",
      "i\n",
      "j\n"
     ]
    }
   ],
   "source": [
    "# Exemple 05\n",
    "\n",
    "lettres = [\"a\",\"b\",\"c\",\"d\",\"e\",\"f\",\"g\",\"h\",\"i\",\"j\"]\n",
    "\n",
    "for x in lettres:\n",
    "    if x == \"f\":\n",
    "        continue\n",
    "    print(x)"
   ]
  },
  {
   "cell_type": "code",
   "execution_count": 58,
   "id": "1cfb133b-2dc4-4f4f-8324-4397a844399d",
   "metadata": {},
   "outputs": [
    {
     "name": "stdout",
     "output_type": "stream",
     "text": [
      "a\n",
      "b\n",
      "c\n",
      "d\n"
     ]
    }
   ],
   "source": [
    "# Exemple 06\n",
    "\n",
    "lettres = [\"a\",\"b\",\"c\",\"d\",\"e\",\"f\",\"g\",\"h\",\"i\",\"j\"]\n",
    "\n",
    "for x in lettres:\n",
    "    print(x)\n",
    "    if x == \"d\":\n",
    "        break\n",
    "else:\n",
    "    print(\"La boucle termine nornalement\")"
   ]
  },
  {
   "cell_type": "code",
   "execution_count": 81,
   "id": "cc6381a4-44f4-46fd-a9ae-7c11a52e568f",
   "metadata": {},
   "outputs": [
    {
     "name": "stdout",
     "output_type": "stream",
     "text": [
      "a\n",
      "b\n",
      "c\n",
      "d\n",
      "e\n",
      "f\n",
      "g\n",
      "h\n",
      "i\n",
      "j\n",
      "La boucle termine nornalement\n"
     ]
    }
   ],
   "source": [
    "# Exemple 07\n",
    "\n",
    "lettres = [\"a\",\"b\",\"c\",\"d\",\"e\",\"f\",\"g\",\"h\",\"i\",\"j\"]\n",
    "\n",
    "for x in lettres:\n",
    "    print(x)\n",
    "    if x == \"d\":\n",
    "        continue\n",
    "else:\n",
    "    print(\"La boucle termine nornalement\")"
   ]
  },
  {
   "cell_type": "markdown",
   "id": "5403b156-cdc1-454c-a3de-8faae3433c1b",
   "metadata": {},
   "source": [
    "#### 4.4.2 Python - Fonction range ()\n",
    "\n",
    "Pour parcourir un ensemble de codes un nombre spécifié de fois, nous pouvons utiliser la fonction range () .<br>\n",
    "La fonction range () renvoie une séquence de nombres, à partir de 0 par défaut, et incrémente de 1 (par défaut), et se\n",
    "termine à un nombre spécifié."
   ]
  },
  {
   "cell_type": "code",
   "execution_count": 83,
   "id": "14c1e2d0-2662-4cda-828c-eae4ff5472a1",
   "metadata": {},
   "outputs": [
    {
     "name": "stdout",
     "output_type": "stream",
     "text": [
      "0\n",
      "1\n",
      "2\n",
      "3\n",
      "4\n",
      "5\n",
      "6\n",
      "7\n",
      "8\n"
     ]
    }
   ],
   "source": [
    "# Exemple 08\n",
    "\n",
    "for x in range(9):\n",
    "    print(x)"
   ]
  },
  {
   "cell_type": "code",
   "execution_count": 85,
   "id": "f1798a14-8a3a-43b1-9ab7-074c485bf665",
   "metadata": {},
   "outputs": [
    {
     "name": "stdout",
     "output_type": "stream",
     "text": [
      "2\n",
      "3\n",
      "4\n",
      "5\n",
      "6\n",
      "7\n",
      "8\n"
     ]
    }
   ],
   "source": [
    "# Exemple 09\n",
    "\n",
    "for x in range(2, 9):\n",
    "    print(x)"
   ]
  },
  {
   "cell_type": "code",
   "execution_count": 87,
   "id": "e8929e42-5211-46be-84d1-964908fa5b2c",
   "metadata": {},
   "outputs": [
    {
     "name": "stdout",
     "output_type": "stream",
     "text": [
      "1\n",
      "4\n",
      "7\n",
      "10\n"
     ]
    }
   ],
   "source": [
    "# Exemple 10\n",
    "\n",
    "for x in range(1, 12, 3): # increment de 3\n",
    "    print(x)"
   ]
  },
  {
   "cell_type": "code",
   "execution_count": 89,
   "id": "5def3620-72a8-472b-8f66-bd8e1dfbef89",
   "metadata": {},
   "outputs": [
    {
     "name": "stdout",
     "output_type": "stream",
     "text": [
      "1 * 9 = 9\n",
      "2 * 9 = 18\n",
      "3 * 9 = 27\n",
      "4 * 9 = 36\n",
      "5 * 9 = 45\n",
      "6 * 9 = 54\n",
      "7 * 9 = 63\n",
      "8 * 9 = 72\n",
      "9 * 9 = 81\n",
      "10 * 9 = 90\n",
      "11 * 9 = 99\n",
      "12 * 9 = 108\n",
      "13 * 9 = 117\n",
      "14 * 9 = 126\n",
      "15 * 9 = 135\n",
      "16 * 9 = 144\n",
      "17 * 9 = 153\n",
      "18 * 9 = 162\n",
      "19 * 9 = 171\n",
      "20 * 9 = 180\n",
      "21 * 9 = 189\n",
      "22 * 9 = 198\n",
      "23 * 9 = 207\n",
      "24 * 9 = 216\n",
      "25 * 9 = 225\n",
      "26 * 9 = 234\n",
      "27 * 9 = 243\n",
      "28 * 9 = 252\n",
      "29 * 9 = 261\n",
      "30 * 9 = 270\n",
      "31 * 9 = 279\n",
      "32 * 9 = 288\n",
      "33 * 9 = 297\n",
      "34 * 9 = 306\n",
      "35 * 9 = 315\n",
      "36 * 9 = 324\n",
      "37 * 9 = 333\n",
      "38 * 9 = 342\n",
      "39 * 9 = 351\n",
      "40 * 9 = 360\n",
      "41 * 9 = 369\n",
      "42 * 9 = 378\n",
      "43 * 9 = 387\n",
      "44 * 9 = 396\n",
      "45 * 9 = 405\n",
      "46 * 9 = 414\n",
      "47 * 9 = 423\n",
      "48 * 9 = 432\n",
      "49 * 9 = 441\n",
      "50 * 9 = 450\n",
      "51 * 9 = 459\n",
      "52 * 9 = 468\n",
      "53 * 9 = 477\n",
      "54 * 9 = 486\n",
      "55 * 9 = 495\n",
      "56 * 9 = 504\n",
      "57 * 9 = 513\n",
      "58 * 9 = 522\n",
      "59 * 9 = 531\n",
      "60 * 9 = 540\n",
      "61 * 9 = 549\n",
      "62 * 9 = 558\n",
      "63 * 9 = 567\n",
      "64 * 9 = 576\n",
      "65 * 9 = 585\n",
      "66 * 9 = 594\n",
      "67 * 9 = 603\n",
      "68 * 9 = 612\n",
      "69 * 9 = 621\n",
      "70 * 9 = 630\n",
      "71 * 9 = 639\n",
      "72 * 9 = 648\n",
      "73 * 9 = 657\n",
      "74 * 9 = 666\n",
      "75 * 9 = 675\n",
      "76 * 9 = 684\n",
      "77 * 9 = 693\n",
      "78 * 9 = 702\n",
      "79 * 9 = 711\n",
      "80 * 9 = 720\n",
      "81 * 9 = 729\n",
      "82 * 9 = 738\n",
      "83 * 9 = 747\n",
      "84 * 9 = 756\n",
      "85 * 9 = 765\n",
      "86 * 9 = 774\n",
      "87 * 9 = 783\n",
      "88 * 9 = 792\n",
      "89 * 9 = 801\n",
      "90 * 9 = 810\n",
      "91 * 9 = 819\n",
      "92 * 9 = 828\n",
      "93 * 9 = 837\n",
      "94 * 9 = 846\n",
      "95 * 9 = 855\n",
      "96 * 9 = 864\n",
      "97 * 9 = 873\n",
      "98 * 9 = 882\n",
      "99 * 9 = 891\n"
     ]
    }
   ],
   "source": [
    "# Exemple 11\n",
    "# Revenons donc maintenant à l'exemple du programme de la table de multiplication par 9, de 1*9 à 99* 9\n",
    "\n",
    "nb = 9\n",
    "\n",
    "for i in range(1, 100):\n",
    "    print(i,\"*\", nb, \"=\", i * nb)"
   ]
  },
  {
   "cell_type": "code",
   "execution_count": 148,
   "id": "20c14e05-2742-40b7-b221-98aca165f1f3",
   "metadata": {},
   "outputs": [
    {
     "name": "stdout",
     "output_type": "stream",
     "text": [
      "1 * 9 = 9\n",
      "2 * 9 = 18\n",
      "3 * 9 = 27\n",
      "4 * 9 = 36\n",
      "5 * 9 = 45\n",
      "6 * 9 = 54\n",
      "7 * 9 = 63\n",
      "8 * 9 = 72\n",
      "9 * 9 = 81\n",
      "10 * 9 = 90\n"
     ]
    }
   ],
   "source": [
    "# Exemple 12\n",
    "# Avec break\n",
    "\n",
    "nb = 9\n",
    "\n",
    "for i in range(1, 100):\n",
    "    print(i,\"*\", nb, \"=\", i * nb)\n",
    "    if i == 10:\n",
    "        break"
   ]
  },
  {
   "cell_type": "markdown",
   "id": "2d58875f-117c-42f5-bba7-668ab05b5e42",
   "metadata": {},
   "source": [
    "#### 4.4.3 Python - Boucle while - while Loop\n",
    "\n",
    "Il existe un autre type de boucle qui est la boucle while . Avec la boucle while, nous pouvons exécuter un ensemble\n",
    "d'instructions tant qu'une condition est vraie.\n",
    "\n",
    "✅ La syntaxe de while est :\n",
    "\n",
    "while condition:\n",
    "<div style=\"margin-left: 40px;\"># instruction 1</div>\n",
    "<div style=\"margin-left: 40px;\"># instruction 2</div>\n",
    "<div style=\"margin-left: 40px;\"># ...</div>\n",
    "<div style=\"margin-left: 40px;\"># instruction N</div>"
   ]
  },
  {
   "cell_type": "code",
   "execution_count": 98,
   "id": "9ac271e3-f988-444c-a329-d87e604d8607",
   "metadata": {},
   "outputs": [
    {
     "name": "stdout",
     "output_type": "stream",
     "text": [
      "1\n",
      "2\n",
      "3\n",
      "4\n",
      "5\n",
      "6\n",
      "7\n",
      "8\n",
      "9\n"
     ]
    }
   ],
   "source": [
    "# Exemple 13\n",
    "\n",
    "x = 1\n",
    "\n",
    "while x < 10:\n",
    "    print(x)\n",
    "    x +=1"
   ]
  },
  {
   "cell_type": "code",
   "execution_count": 104,
   "id": "14c955f3-5589-41a5-9db1-9c683a39c066",
   "metadata": {},
   "outputs": [
    {
     "name": "stdout",
     "output_type": "stream",
     "text": [
      "2\n",
      "3\n",
      "4\n",
      "5\n",
      "6\n",
      "7\n",
      "8\n",
      "9\n",
      "10\n"
     ]
    }
   ],
   "source": [
    "# Exemple 14\n",
    "\n",
    "x = 1\n",
    "\n",
    "while x < 10:\n",
    "    x = x+1\n",
    "    print(x)\n",
    "\n",
    "# Lui va arriver jusqu'à 10 du faite qu'on incrémente juste après le controle de la boucle et on affiche après donc la boucle va sortir à 10"
   ]
  },
  {
   "cell_type": "code",
   "execution_count": 106,
   "id": "f1ceb42b-86e3-46d1-94db-522ceed03515",
   "metadata": {},
   "outputs": [
    {
     "name": "stdout",
     "output_type": "stream",
     "text": [
      "10 * 9 = 90\n",
      "11 * 9 = 99\n",
      "12 * 9 = 108\n",
      "13 * 9 = 117\n",
      "14 * 9 = 126\n",
      "15 * 9 = 135\n",
      "16 * 9 = 144\n",
      "17 * 9 = 153\n",
      "18 * 9 = 162\n",
      "19 * 9 = 171\n",
      "20 * 9 = 180\n",
      "21 * 9 = 189\n",
      "22 * 9 = 198\n",
      "23 * 9 = 207\n",
      "24 * 9 = 216\n",
      "25 * 9 = 225\n",
      "26 * 9 = 234\n",
      "27 * 9 = 243\n",
      "28 * 9 = 252\n",
      "29 * 9 = 261\n",
      "30 * 9 = 270\n",
      "31 * 9 = 279\n",
      "32 * 9 = 288\n",
      "33 * 9 = 297\n",
      "34 * 9 = 306\n",
      "35 * 9 = 315\n",
      "36 * 9 = 324\n",
      "37 * 9 = 333\n",
      "38 * 9 = 342\n",
      "39 * 9 = 351\n",
      "40 * 9 = 360\n",
      "41 * 9 = 369\n",
      "42 * 9 = 378\n",
      "43 * 9 = 387\n",
      "44 * 9 = 396\n",
      "45 * 9 = 405\n",
      "46 * 9 = 414\n",
      "47 * 9 = 423\n",
      "48 * 9 = 432\n",
      "49 * 9 = 441\n",
      "50 * 9 = 450\n",
      "51 * 9 = 459\n",
      "52 * 9 = 468\n",
      "53 * 9 = 477\n",
      "54 * 9 = 486\n",
      "55 * 9 = 495\n",
      "56 * 9 = 504\n",
      "57 * 9 = 513\n",
      "58 * 9 = 522\n",
      "59 * 9 = 531\n",
      "60 * 9 = 540\n",
      "61 * 9 = 549\n",
      "62 * 9 = 558\n",
      "63 * 9 = 567\n",
      "64 * 9 = 576\n",
      "65 * 9 = 585\n",
      "66 * 9 = 594\n",
      "67 * 9 = 603\n",
      "68 * 9 = 612\n",
      "69 * 9 = 621\n",
      "70 * 9 = 630\n",
      "71 * 9 = 639\n",
      "72 * 9 = 648\n",
      "73 * 9 = 657\n",
      "74 * 9 = 666\n",
      "75 * 9 = 675\n",
      "76 * 9 = 684\n",
      "77 * 9 = 693\n",
      "78 * 9 = 702\n",
      "79 * 9 = 711\n",
      "80 * 9 = 720\n",
      "81 * 9 = 729\n",
      "82 * 9 = 738\n",
      "83 * 9 = 747\n",
      "84 * 9 = 756\n",
      "85 * 9 = 765\n",
      "86 * 9 = 774\n",
      "87 * 9 = 783\n",
      "88 * 9 = 792\n",
      "89 * 9 = 801\n",
      "90 * 9 = 810\n",
      "91 * 9 = 819\n",
      "92 * 9 = 828\n",
      "93 * 9 = 837\n",
      "94 * 9 = 846\n",
      "95 * 9 = 855\n",
      "96 * 9 = 864\n",
      "97 * 9 = 873\n",
      "98 * 9 = 882\n",
      "99 * 9 = 891\n"
     ]
    }
   ],
   "source": [
    "# reprenons notre exemple avec la boucle while\n",
    "\n",
    "# Exemple 15\n",
    "\n",
    "nb = 9\n",
    "\n",
    "while i < 100:\n",
    "    print(i ,\"*\", nb, \"=\", i * nb)\n",
    "    i += 1"
   ]
  },
  {
   "cell_type": "markdown",
   "id": "bc6547b4-1a5d-4e56-a9b8-cac75373eea6",
   "metadata": {},
   "source": [
    "------------------------------\n",
    "🟦 1. Équation du premier degré (ax + b = 0)\n",
    "\n",
    "🔹 Forme générale :\n",
    "\n",
    "ax + b = 0\n",
    "\n",
    "🔹 Objectif : Trouver la valeur de x.\n",
    "\n",
    "🔹 Méthode de résolution :\n",
    "\n",
    "x = -\\frac{b}{a}\n",
    "\n",
    "✅ Condition importante : a ne doit pas être égal à 0."
   ]
  },
  {
   "cell_type": "code",
   "execution_count": 118,
   "id": "c1edc270-3d50-4a71-aa81-a692674f6935",
   "metadata": {},
   "outputs": [
    {
     "name": "stdout",
     "output_type": "stream",
     "text": [
      "La valeur de x  =  -5.0\n"
     ]
    }
   ],
   "source": [
    "# Exemple 16 résolution de l'équation du premier degré\n",
    "\n",
    "a = 4\n",
    "b = 20\n",
    "\n",
    "if a != 0:\n",
    "    x = -b/a\n",
    "    print(\"La valeur de x  = \", x)\n",
    "else:\n",
    "    print(\"Pas d'équation à résoudre\")"
   ]
  },
  {
   "cell_type": "markdown",
   "id": "f65f5b86-2b11-495d-9133-bcdc3e67dc3d",
   "metadata": {},
   "source": [
    "🟨 2. Équation du second degré (ax² + bx + c = 0)\n",
    "\n",
    "🔹 Forme générale :\n",
    "\n",
    "ax^2 + bx + c = 0\n",
    "\n",
    "🔹 Objectif : Trouver les racines (valeurs de x) qui satisfont l’équation.\n",
    "\n",
    "🔹 Méthode de résolution :<br>\n",
    "\t1.\tCalcul du discriminant :<br>\n",
    "\\Delta = b^2 - 4ac<br>\n",
    "\t2.\tAnalyse du discriminant :<br>\n",
    "\t•\tSi Δ > 0 : 2 solutions réelles distinctes<br>\n",
    "x_1 = \\frac{-b - \\sqrt{\\Delta}}{2a},\\quad x_2 = \\frac{-b + \\sqrt{\\Delta}}{2a}<br>\n",
    "\t•\tSi Δ = 0 : 1 solution réelle double<br>\n",
    "x = \\frac{-b}{2a}<br>\n",
    "\t•\tSi Δ < 0 : Pas de solution réelle (solutions complexes)<br>\n",
    "\n",
    "✅ Condition importante : a doit être différent de 0, sinon c’est une équation du premier degré."
   ]
  },
  {
   "cell_type": "code",
   "execution_count": 159,
   "id": "26b2d5ba-07a9-4826-9158-e517404fcaed",
   "metadata": {},
   "outputs": [
    {
     "name": "stdout",
     "output_type": "stream",
     "text": [
      "Yes !!! C'est une équation du second degré\n",
      "delta = 469\n",
      "Deux solutions\n",
      "x1 =  -1.7944772241426041 et x2 =  -0.12859969893431872\n"
     ]
    }
   ],
   "source": [
    "import math # Pour utiliser les fonctions mathématique il faut faire appel à la bibliothèque math comme dans notre cas\n",
    "\n",
    "a = 13 #3\n",
    "b = 25 #6\n",
    "c = 3 #3\n",
    "\n",
    "if a != 0:\n",
    "    print(\"Yes !!! C'est une équation du second degré\")\n",
    "    delta = b ** 2 - 4 * a * c\n",
    "    print(f\"delta = {delta}\")\n",
    "    if delta > 0:\n",
    "        print(\"Deux solutions\")\n",
    "        x1 = (-b-math.sqrt(delta))/(2 * a)\n",
    "        x2 = (-b+math.sqrt(delta))/(2 * a)\n",
    "        print(\"x1 = \", x1, \"et x2 = \", x2)\n",
    "    elif delta == 0:\n",
    "        print(\"Une solution\")\n",
    "        x =  -b/(2 * a)\n",
    "        print(\"x = \", x)\n",
    "    else:\n",
    "        print(\"pas de solution réelle\")\n",
    "else:\n",
    "    print(\"C'est une équation du premier degré\")"
   ]
  },
  {
   "cell_type": "markdown",
   "id": "cc4f463d-0c91-4c62-98c9-68aab9a40ad1",
   "metadata": {},
   "source": [
    "---------\n",
    "# 5 Prérequis Python - Fonctions & Classes\n",
    "\n",
    "## 5.1 Fonctions\n",
    "\n",
    "Nous avons utilisé pas mal de fonctions depuis le début de ce tutoriel. On citera pour mémoire print , type , sans\n",
    "compter quelques autres. Mais vous devez bien vous rendre compte qu'il existe un nombre incalculable de fonctions déjà\n",
    "construites en Python.<br>\n",
    "En Python ou les autres langages de programmation, une fonction est un bloc de code qui ne s'exécute que lorsqu'elle est\n",
    "appelée. Vous pouvez transmettre des données, appelées paramètres, à une fonction. Une fonction peut renvoyer des\n",
    "données en conséquence.\n",
    "\n",
    "### 5.1.1 Mot-clé def\n",
    "En Python, une fonction est définie à l'aide du mot clé def:\n",
    "\n",
    "🔹 Syntaxe d’une fonction<br>\n",
    "def nom_de_la_fonction(param1, param2):\n",
    "    <div style=\"margin-left: 40px;\"># bloc de code</div>\n",
    "\n",
    "\t• def = mot-clé pour définir une fonction.\n",
    "\t• Les paramètres sont optionnels."
   ]
  },
  {
   "cell_type": "code",
   "execution_count": 166,
   "id": "de60907f-4009-4082-9bb7-aa14fb2ee726",
   "metadata": {},
   "outputs": [
    {
     "name": "stdout",
     "output_type": "stream",
     "text": [
      "Bonjour le monde\n"
     ]
    }
   ],
   "source": [
    "# Exemple 1\n",
    "\n",
    "def my_Helloworld():\n",
    "    print(\"Bonjour le monde\")\n",
    "\n",
    "my_Helloworld()"
   ]
  },
  {
   "cell_type": "code",
   "execution_count": 170,
   "id": "cb3f4871-8126-4a66-9166-f8d82358b055",
   "metadata": {},
   "outputs": [
    {
     "name": "stdout",
     "output_type": "stream",
     "text": [
      "Bonjour Alice\n"
     ]
    }
   ],
   "source": [
    "# Exemple 2\n",
    "\n",
    "def salutation(nom):\n",
    "    print(\"Bonjour\", nom)\n",
    "\n",
    "salutation(\"Alice\")"
   ]
  },
  {
   "cell_type": "markdown",
   "id": "f0002471-f1eb-4127-a5cd-6d2d62995ba7",
   "metadata": {},
   "source": [
    "Ce bloc de code est construit de l'ordre suivant: <br>\n",
    "a) def, mot-clé qui est l'abréviation de « define » (définir, en anglais) et qui constitue le prélude à toute construction de\n",
    "fonction.<br>\n",
    "b) Le nom de la fonction, qui se nomme exactement comme une variable (nous verrons par la suite que ce n'est pas par\n",
    "hasard). N'utilisez pas un nom de variable déjà instanciée pour nommer une fonction.<br>\n",
    "c) La liste des paramètres qui seront fournis lors d'un appel à la fonction. Les paramètres sont séparés par des virgules\n",
    "et la liste est encadrée par des parenthèses ouvrante et fermante (là encore, les espaces sont optionnels mais\n",
    "améliorent la lisibilité).<br>\n",
    "d) Les deux points, encore et toujours, qui clôturent la ligne."
   ]
  },
  {
   "cell_type": "markdown",
   "id": "7db52745-9a86-4cfe-ad25-555717fd27cd",
   "metadata": {},
   "source": [
    "### 5.1.2 Table de multiplication par 9\n",
    "\n",
    "Dans la section 4.4.2 , nous avons eu comment utiliser la boucle for pour résoudre le problème.<br>\n",
    "Avons nous un moyen plus dynamique de réécrire le code avec le concept de fonction ? Je ne pense pas que vous ayez trop de mal à trouver le code de la fonction :"
   ]
  },
  {
   "cell_type": "code",
   "execution_count": 220,
   "id": "1c1955a7-fee3-4238-91aa-e5902924e59d",
   "metadata": {},
   "outputs": [
    {
     "name": "stdout",
     "output_type": "stream",
     "text": [
      "1 * 6 = 6\n",
      "2 * 6 = 12\n",
      "3 * 6 = 18\n",
      "4 * 6 = 24\n",
      "5 * 6 = 30\n",
      "6 * 6 = 36\n",
      "7 * 6 = 42\n",
      "8 * 6 = 48\n",
      "9 * 6 = 54\n"
     ]
    }
   ],
   "source": [
    "# Exemple 3\n",
    "\n",
    "def TableMultiplication(nb):\n",
    "    for i in range(1, 10):\n",
    "        print(i, \"*\", nb, \"=\", i * nb)\n",
    "\n",
    "TableMultiplication(6)"
   ]
  },
  {
   "cell_type": "code",
   "execution_count": 222,
   "id": "f67db843-a58c-49ad-92ed-4d3a37e31ca5",
   "metadata": {},
   "outputs": [
    {
     "name": "stdout",
     "output_type": "stream",
     "text": [
      "1 * 6 = 6\n",
      "2 * 6 = 12\n",
      "3 * 6 = 18\n",
      "4 * 6 = 24\n",
      "5 * 6 = 30\n",
      "6 * 6 = 36\n",
      "7 * 6 = 42\n",
      "8 * 6 = 48\n",
      "9 * 6 = 54\n",
      "10 * 6 = 60\n",
      "11 * 6 = 66\n",
      "12 * 6 = 72\n",
      "13 * 6 = 78\n",
      "14 * 6 = 84\n",
      "15 * 6 = 90\n",
      "16 * 6 = 96\n",
      "17 * 6 = 102\n",
      "18 * 6 = 108\n",
      "19 * 6 = 114\n",
      "20 * 6 = 120\n"
     ]
    }
   ],
   "source": [
    "# On peut aussi envisager de passer en paramètre le nombre de valeurs à afficher dans la table. \n",
    "#Ecrivons un fonction qui affiche la table de multiplication par nb de 1 * nb à limMax* nb\n",
    "\n",
    "# Exemple 4\n",
    "\n",
    "def afficherTableMultipliLimMax(nb, limMax):\n",
    "    for i in range(1, limMax + 1):\n",
    "        print(i, \"*\", nb, \"=\", i * nb)\n",
    "\n",
    "afficherTableMultipliLimMax(6, 20)"
   ]
  },
  {
   "cell_type": "markdown",
   "id": "76dff710-cee1-4c31-a7dd-5ed212474de2",
   "metadata": {},
   "source": [
    "### 5.1.3 Instruction Return\n",
    "Si vous vous souvenez bien, il existe des fonctions comme print qui ne renvoient rien (attention, « renvoyer » et «\n",
    "afficher » sont deux choses différentes) et des fonctions telles que type qui renvoient une valeur. Vous pouvez capturer\n",
    "cette valeur en plaçant une variable devant (exemplevariable2 = type(variable1)). En effet, les fonctions travaillent en\n",
    "général sur des données et renvoient le résultat obtenu, suite à un calcul par exemple.<br>\n",
    "Prenons un exemple simple : une fonction chargée de mettre au cube une valeur passée en argument. Je vous signale au\n",
    "passage que Python en est parfaitement capable sans avoir à coder une nouvelle fonction, mais c'est pour l'exemple.\n",
    "\n",
    "🔹 Syntaxe avec Return<br>\n",
    "def nom_de_la_fonction(param1, param2):\n",
    "    <div style=\"margin-left: 40px;\"># bloc de code</div>\n",
    "    <div style=\"margin-left: 40px;\">return valeur</div>\n",
    "\n",
    "\t• def = mot-clé pour définir une fonction.\n",
    "\t• Les paramètres sont optionnels.\n",
    "\t• return permet de renvoyer une valeur à celui qui appelle la fonction.\n",
    "\n",
    "\n",
    "def cubeTheValue(valeur):<br>\n",
    "return valeur * valeur * valeur\n",
    "\n",
    "L'instruction return signifie qu'on va renvoyer la valeur, pour pouvoir la récupérer ensuite et la stocker dans une\n",
    "variable par exemple. Cette instruction arrête le déroulement de la fonction, le code situé après le return ne s'exécutera\n",
    "pas.<br>\n",
    "Par exemple, je peux continuer par le code suivant :\n",
    "\n",
    "myVariable = cubeTheValue(9)<br>\n",
    "print (\"myVariable: \", myVariable)"
   ]
  },
  {
   "cell_type": "code",
   "execution_count": 224,
   "id": "f9223f3e-aeb9-4b07-95d0-50de0236ed1a",
   "metadata": {},
   "outputs": [
    {
     "name": "stdout",
     "output_type": "stream",
     "text": [
      "myVariable 729\n"
     ]
    }
   ],
   "source": [
    "# Exemple 5\n",
    "\n",
    "def cubeTheValue(valeur):\n",
    "    return valeur * valeur * valeur\n",
    "\n",
    "myVariable = cubeTheValue(9)\n",
    "print(\"myVariable\", myVariable)"
   ]
  },
  {
   "cell_type": "code",
   "execution_count": 226,
   "id": "aae632de-6977-486d-8df2-7f1900bbc077",
   "metadata": {},
   "outputs": [
    {
     "data": {
      "text/plain": [
       "25"
      ]
     },
     "execution_count": 226,
     "metadata": {},
     "output_type": "execute_result"
    }
   ],
   "source": [
    "# Exemple 6\n",
    "\n",
    "def carre_nombre(x):\n",
    "    return x ** 2\n",
    "\n",
    "carre_nombre(5)"
   ]
  },
  {
   "cell_type": "markdown",
   "id": "30743b22-8106-43bf-81d0-595ce6a6e8f8",
   "metadata": {},
   "source": [
    "## 5.2 Premier programme\n",
    "\n",
    "Le but de notre programme est de déterminer si une année saisie par l'utilisateur est bissextile. Il s'agit d'un sujet très\n",
    "prisé des enseignants en informatique quand il s'agit d'expliquer les conditions:\n",
    "\n",
    "“Problème 5.2 - 1: Une année est dite bissextile si c'est un multiple de 4, sauf si c'est un multiple de 100. Toutefois,\n",
    "elle est considérée comme bissextile si c'est un multiple de 400.\n",
    "\n",
    "### 5.2.1 Fonction input()\n",
    "input() est une fonction qui va, pour nous, caractériser nos premières interactions avec l'utilisateur : le programme\n",
    "réagira différemment en fonction du nombre saisi par l'utilisateur.\n",
    "“ input convertit input(prompt) vers eval(input(prompt)).\n",
    "\n",
    "Voici un exemple:"
   ]
  },
  {
   "cell_type": "code",
   "execution_count": 232,
   "id": "496043cd-6d69-4ff8-8ae1-f19cb42213dd",
   "metadata": {},
   "outputs": [
    {
     "name": "stdin",
     "output_type": "stream",
     "text": [
      "Saisir une année :  2024\n"
     ]
    },
    {
     "name": "stdout",
     "output_type": "stream",
     "text": [
      "2024\n"
     ]
    }
   ],
   "source": [
    "# Test de la fonction input\n",
    "\n",
    "annee = input(\"Saisir une année : \")\n",
    "print(annee)"
   ]
  },
  {
   "cell_type": "markdown",
   "id": "8b622a26-3f16-48bb-8efd-960c0259c81e",
   "metadata": {},
   "source": [
    "### 5.2.2 Un simple programme pour déterminer si une année est bissextile"
   ]
  },
  {
   "cell_type": "code",
   "execution_count": 260,
   "id": "ff1f0795-aa30-4e41-984a-e43fcb07ff19",
   "metadata": {},
   "outputs": [
    {
     "name": "stdin",
     "output_type": "stream",
     "text": [
      "Veuillez saisir une année :  2026\n"
     ]
    },
    {
     "name": "stdout",
     "output_type": "stream",
     "text": [
      "L'année n'est pas bissextile\n"
     ]
    }
   ],
   "source": [
    "#### Exemple 7\n",
    "\n",
    "annee = input(\"Veuillez saisir une année : \")\n",
    "annee = int(annee)\n",
    "bissextile = False\n",
    "\n",
    "if annee % 4 == 0: # on utilise Modulo pour tester le reste de la division\n",
    "    bissextile = True\n",
    "elif annee % 400 == 0:\n",
    "    bissextile = True\n",
    "elif annee % 100 == 0:\n",
    "    bissextile = False\n",
    "else:\n",
    "    bissextile = False\n",
    "\n",
    "if bissextile == True:\n",
    "    print(\"L'année est bissextile\")\n",
    "else:\n",
    "    print(\"L'année n'est pas bissextile\")"
   ]
  },
  {
   "cell_type": "markdown",
   "id": "7795285c-5a09-4560-9b66-665cdfd8d8ec",
   "metadata": {},
   "source": [
    "-----------\n",
    "Quellesque remarques importantes:\n",
    "1. int(annee) nous permet de tester si le nombre saisi est un entier si non, nous allons devoir convertir cette variable.\n",
    "Vous pouvez également tester qu'est ce qui se passe si vous saississez une chaîne de caractère.\n",
    "2. Vous remarquerez que nous avons inversé le problème. On teste en effet d'abord si l'année est un multiple de 400,\n",
    "ensuite si c'est un multiple de 100, et enfin si c'est un multiple de 4.\n",
    "\n",
    "### 5.2.3 Un peu de simplification\n",
    "Le programme que nous avons écrit est assez clair déjà mais il en reste quand même quels points à améliorer/simplifier.\n",
    "Le premier détail que vous auriez pu remarquer, c'est que le else de fin est inutile.\n",
    "\n",
    "En effet, la variable bissextile vaut par défaut False et conserve donc cette valeur si le cas n'est pas traité (ici,\n",
    "quand l'année n'est ni un multiple de 400, ni un multiple de 100, ni un multiple de 4).\n",
    "\n",
    "Ensuite, il apparaît que nous pouvons faire un grand ménage dans notre condition car les deux seuls cas correspondant à\n",
    "une année bissextile sont « si l'année est un multiple de 400 »ou « si l'année est un multiple de 4 mais pas de 100 ».\n",
    "Donc finalement votre premier programme peut-être devenu comme si dessous:"
   ]
  },
  {
   "cell_type": "code",
   "execution_count": 343,
   "id": "792b9283-7143-433f-814a-5b061336b94f",
   "metadata": {},
   "outputs": [
    {
     "name": "stdin",
     "output_type": "stream",
     "text": [
      "Introduire une année :  2000\n"
     ]
    },
    {
     "name": "stdout",
     "output_type": "stream",
     "text": [
      "L'année est bissextile\n"
     ]
    }
   ],
   "source": [
    "# Programme testant si une année, saisie par l'utilisateur, est bissextile ou non\n",
    "# Exemple 8\n",
    "\n",
    "annee = input(\"Introduire une année : \")\n",
    "\n",
    "annee = int(annee)\n",
    "\n",
    "if annee % 400 == 0 or (annee % 4 == 0 and annee % 100 != 0):\n",
    "    print(\"L'année est bissextile\")\n",
    "else:\n",
    "    print(\"L'année n'est pas bissextile\")"
   ]
  },
  {
   "cell_type": "markdown",
   "id": "a376743e-be42-411d-bc0d-f89030aa07ac",
   "metadata": {},
   "source": [
    "-------------\n",
    "Vous remarquez aussi que on nous n'avons plus besoin de la variable bissextile . Nous sommes passés de 15 lignes\n",
    "de code à seulement 6 (sans compter les commentaires et les sauts de ligne). Quand vous avancez plus loin dans le\n",
    "programme, vous trouverez que la simplicité , la beauté et l'efficacité sont presque les trois critères les plus importants de\n",
    "la programmation.\n",
    "\n",
    "## 5.3 Gérez les exceptions\n",
    "\n",
    "Nous avons déjà été confrontés à des erreurs dans nos programmes si vous avez testé dans la section 5.2.2 de saisir\n",
    "une chaîne de caractère dans votre premier programme. Quand Python rencontre une erreur dans votre code, il lève une\n",
    "exception. Sans le savoir, vous avez donc déjà vu des exceptions levées par Python :"
   ]
  },
  {
   "cell_type": "code",
   "execution_count": 289,
   "id": "72b047a6-2d3f-45c9-83c7-ba3f0ce484ef",
   "metadata": {},
   "outputs": [
    {
     "name": "stdin",
     "output_type": "stream",
     "text": [
      "Introduire une année :  annee 2024\n"
     ]
    },
    {
     "ename": "ValueError",
     "evalue": "invalid literal for int() with base 10: 'annee 2024'",
     "output_type": "error",
     "traceback": [
      "\u001b[0;31m---------------------------------------------------------------------------\u001b[0m",
      "\u001b[0;31mValueError\u001b[0m                                Traceback (most recent call last)",
      "Cell \u001b[0;32mIn[289], line 5\u001b[0m\n\u001b[1;32m      1\u001b[0m \u001b[38;5;66;03m# Saisissez une année : annee 2024\u001b[39;00m\n\u001b[1;32m      3\u001b[0m annee \u001b[38;5;241m=\u001b[39m \u001b[38;5;28minput\u001b[39m(\u001b[38;5;124m\"\u001b[39m\u001b[38;5;124mIntroduire une année : \u001b[39m\u001b[38;5;124m\"\u001b[39m) \u001b[38;5;66;03m# L'utilisateur saisit l'année qu'il désire\u001b[39;00m\n\u001b[0;32m----> 5\u001b[0m annee \u001b[38;5;241m=\u001b[39m \u001b[38;5;28mint\u001b[39m(annee) \u001b[38;5;66;03m# Risque d'erreur si l'utilisateur n'a pas saisi un nombre\u001b[39;00m\n\u001b[1;32m      7\u001b[0m \u001b[38;5;28;01mif\u001b[39;00m annee \u001b[38;5;241m%\u001b[39m \u001b[38;5;241m400\u001b[39m \u001b[38;5;241m==\u001b[39m \u001b[38;5;241m0\u001b[39m \u001b[38;5;129;01mor\u001b[39;00m (annee \u001b[38;5;241m%\u001b[39m \u001b[38;5;241m4\u001b[39m \u001b[38;5;241m==\u001b[39m \u001b[38;5;241m0\u001b[39m \u001b[38;5;129;01mand\u001b[39;00m annee \u001b[38;5;241m%\u001b[39m \u001b[38;5;241m100\u001b[39m \u001b[38;5;241m!=\u001b[39m \u001b[38;5;241m0\u001b[39m):\n\u001b[1;32m      8\u001b[0m     \u001b[38;5;28mprint\u001b[39m(\u001b[38;5;124m\"\u001b[39m\u001b[38;5;124mL\u001b[39m\u001b[38;5;124m'\u001b[39m\u001b[38;5;124mannée est bissextile\u001b[39m\u001b[38;5;124m\"\u001b[39m)\n",
      "\u001b[0;31mValueError\u001b[0m: invalid literal for int() with base 10: 'annee 2024'"
     ]
    }
   ],
   "source": [
    "# Saisissez une année : annee 2024\n",
    "\n",
    "annee = input(\"Introduire une année : \") # L'utilisateur saisit l'année qu'il désire\n",
    "\n",
    "annee = int(annee) # Risque d'erreur si l'utilisateur n'a pas saisi un nombre\n",
    "\n",
    "if annee % 400 == 0 or (annee % 4 == 0 and annee % 100 != 0):\n",
    "    print(\"L'année est bissextile\")\n",
    "else:\n",
    "    print(\"L'année n'est pas bissextile\")"
   ]
  },
  {
   "cell_type": "markdown",
   "id": "cb7819bb-950d-4d7b-9427-f04f8e987987",
   "metadata": {},
   "source": [
    "Attardons-nous sur la dernière ligne. Nous y trouvons deux informations :\n",
    "\n",
    "ValueError: #<- Le type de l'exception ;\n",
    "\n",
    "invalid literal for int() with base 10: 'annee 2024': #le message qu'envoie Python pour vous aider à comprendre l'erreur qui vient de se produire.\n",
    "\n",
    "Python lève donc des exceptions quand il trouve une erreur, soit dans le code (une erreur de syntaxe, par exemple), soit\n",
    "dans l'opération que vous lui demandez de faire. L'utilisateur fournissait ici une valeur impossible à convertir en entier\n",
    "(\"annee\" par exemple), le programme plantait. En fait, il lève une exception et Python arrête l'exécution du programme.\n",
    "Dans ce cas, et dans d'autres cas similaires, Python permet de tester un extrait de code. S'il ne renvoie aucune erreur,\n",
    "Python continue. Sinon, on peut lui demander d'exécuter une autre action (par exemple, redemander à l'utilisateur de\n",
    "saisir l'année).\n",
    "\n",
    "### 5.3.1 Try - Except\n",
    "\n",
    "L’instruction try est généralement assortie d’une une ou plusieurs clauses except. Nous allons en effet mettre les\n",
    "instructions que nous souhaitons tester dans un premier bloc et les instructions à exécuter en cas d'erreur dans un autre\n",
    "bloc. Voici la syntaxe :\n",
    "\n",
    "try:\n",
    "<div style=\"margin-left: 40px\"># Bloc à essayer</div>\n",
    "except:\n",
    "<div style=\"margin-left: 40px\"># Bloc qui sera exécuté en cas d'erreur</div>\n",
    "\n",
    "Reprenons notre test de conversion en enfermant dans un bloc try l'instruction susceptible de lever une exception."
   ]
  },
  {
   "cell_type": "code",
   "execution_count": 298,
   "id": "0735ce5f-85a9-4134-8ec5-74b961751b1c",
   "metadata": {},
   "outputs": [
    {
     "name": "stdin",
     "output_type": "stream",
     "text": [
      "Introduire une année :  annee 2000\n"
     ]
    },
    {
     "name": "stdout",
     "output_type": "stream",
     "text": [
      "Erreur lors de la conversion de l'année\n"
     ]
    }
   ],
   "source": [
    "# Exemple 9\n",
    "\n",
    "annee = input(\"Introduire une année : \")\n",
    "\n",
    "try:\n",
    "    annee = int(annee)\n",
    "except:\n",
    "    print(\"Erreur lors de la conversion de l'année\")"
   ]
  },
  {
   "cell_type": "markdown",
   "id": "888bdb31-61b3-4346-9c5c-18301e0a9b3d",
   "metadata": {},
   "source": [
    "### 5.3.2 Déclaration finally\n",
    "\n",
    "Vous avez déjà vu ce mot-clé else . Dans un bloc try , else va permettre d'exécuter une action si aucune erreur ne survient dans le bloc.\n",
    "\n",
    "Voici un petit exemple :"
   ]
  },
  {
   "cell_type": "code",
   "execution_count": 307,
   "id": "2348edce-2460-40be-abae-e0342d2fbeaf",
   "metadata": {},
   "outputs": [
    {
     "name": "stdout",
     "output_type": "stream",
     "text": [
      "La variable numerateur ou denominateur n'a pas été définie.\n"
     ]
    }
   ],
   "source": [
    "# Exemple 10\n",
    "\n",
    "try:\n",
    "    resultat = numerateur / denominateur\n",
    "except NameError:\n",
    "    print(\"La variable numerateur ou denominateur n'a pas été définie.\")\n",
    "except TypeError:\n",
    "    print(\"La variable numerateur ou denominateur possède un type incompatible avec ladivision.\")\n",
    "except ZeroDivisionError:\n",
    "    print(\"La variable denominateur est égale à 0.\")\n",
    "else:\n",
    "    print(\"Le résultat obtenu est\", resultat)"
   ]
  },
  {
   "cell_type": "markdown",
   "id": "1aa31258-24a4-4077-8d9d-76424fda996d",
   "metadata": {},
   "source": [
    "----------\n",
    "Mais c’est sans doute finally qui est la plus utile de ces deux clauses, car finally permet d'exécuter du code après\n",
    "un bloc try , quel que soit le résultat de l'exécution dudit bloc. La syntaxe est des plus simples.\n",
    "\n",
    "try:\n",
    "<div style=\"margin-left:40px\"># Test d'instruction(s)</div>\n",
    "except type_de_l_exception:\n",
    "<div style=\"margin-left:40px\"># Traitement en cas d'erreur</div>\n",
    "finally:\n",
    "<div style=\"margin-left:40px\"># Instruction(s) exécutée(s) qu'il y ait eu des erreurs ou non</div><br>\n",
    "\n",
    "\n",
    "Et par exemple, une fonction peut faire des choses même après un return."
   ]
  },
  {
   "cell_type": "code",
   "execution_count": 328,
   "id": "5c500108-f08d-46a5-84ae-606a4079fecf",
   "metadata": {},
   "outputs": [
    {
     "name": "stdout",
     "output_type": "stream",
     "text": [
      "OOPS, <class 'ZeroDivisionError'>, division by zero\n",
      "On passe ici même si on a vu return\n"
     ]
    },
    {
     "data": {
      "text/plain": [
       "'Zero-divide'"
      ]
     },
     "execution_count": 328,
     "metadata": {},
     "output_type": "execute_result"
    }
   ],
   "source": [
    "# Exemple 11\n",
    "\n",
    "# une fonction qui fait des choses après un return\n",
    "def return_with_finally(number):\n",
    "    try:\n",
    "        return 1/number\n",
    "    except ZeroDivisionError as e:\n",
    "        print(f\"OOPS, {type(e)}, {e}\")\n",
    "        return(\"Zero-divide\")\n",
    "    finally:\n",
    "        print(\"On passe ici même si on a vu return\")\n",
    "\n",
    "return_with_finally(0)"
   ]
  },
  {
   "cell_type": "markdown",
   "id": "74e77d0b-726f-4a4d-a6d4-42f07f70725a",
   "metadata": {},
   "source": [
    "------------------\n",
    "Bien qu'il y ait un return , le texte \"on passe ici même si on a vu un return\" est toujours imprimé quel que soit le\n",
    "résultat de l'exécution dudit bloc.\n",
    "\n",
    "### 5.3.3 Déclaration pass\n",
    "\n",
    "Il peut arriver, dans certains cas, que l'on souhaite tester un bloc d'instructions… mais ne rien faire en cas d'erreur.\n",
    "Toutefois, un bloc try ne peut être seul.\n",
    "\n",
    "Il existe un mot-clé que l'on peut utiliser dans ce cas. Son nom est pass et sa syntaxe est très simple d'utilisation :\n",
    "\n",
    "try:\n",
    "<div style=\"margin-left:40px\"># Test d'instruction(s)</div>\n",
    "except type_de_l_exception: # Rien ne doit se passer en cas d'erreur\n",
    "<div style=\"margin-left:40px\">pass</div>\n",
    "\n",
    "### 5.3.4 Les assertions - assert\n",
    "\n",
    "Les assertions sont un moyen simple de s'assurer, avant de continuer, qu'une condition est respectée. En général, on les utilise dans des blocs try … except.\n",
    "\n",
    "Sa syntaxe est la suivante :<div>\n",
    "assert test\n",
    "\n",
    "assert est un mot clé et si le test renvoie True , l'exécution se poursuit normalement. Sinon, une exception AssertionError est levée.\n",
    "\n",
    "Voici un exemple :"
   ]
  },
  {
   "cell_type": "code",
   "execution_count": 340,
   "id": "15c05c80-f31c-4096-8388-90e11adc2aea",
   "metadata": {},
   "outputs": [
    {
     "ename": "AssertionError",
     "evalue": "",
     "output_type": "error",
     "traceback": [
      "\u001b[0;31m---------------------------------------------------------------------------\u001b[0m",
      "\u001b[0;31mAssertionError\u001b[0m                            Traceback (most recent call last)",
      "Cell \u001b[0;32mIn[340], line 4\u001b[0m\n\u001b[1;32m      1\u001b[0m \u001b[38;5;66;03m# Exemple 11\u001b[39;00m\n\u001b[1;32m      3\u001b[0m var \u001b[38;5;241m=\u001b[39m \u001b[38;5;241m5\u001b[39m\n\u001b[0;32m----> 4\u001b[0m \u001b[38;5;28;01massert\u001b[39;00m var \u001b[38;5;241m==\u001b[39m \u001b[38;5;241m9\u001b[39m\n",
      "\u001b[0;31mAssertionError\u001b[0m: "
     ]
    }
   ],
   "source": [
    "# Exemple 11\n",
    "\n",
    "var = 5\n",
    "assert var == 9"
   ]
  },
  {
   "cell_type": "markdown",
   "id": "17d7c2d0-c306-484f-8e60-87c1a24b607e",
   "metadata": {},
   "source": [
    "Le test est var == 9 . Le test est donc faux or var = 5 et une exception du type AssertionError est levée."
   ]
  },
  {
   "cell_type": "markdown",
   "id": "37d8bec2-cb5b-4e47-b080-233841b97977",
   "metadata": {},
   "source": [
    "## 5.4 Conception de classe\n",
    "\n",
    "Les classes introduisent un peu de nouvelle syntaxe, trois nouveaux types d'objets et quelques nouvelles sémantiques.\n",
    "\n",
    "## 5.5 Syntaxe de définition de classe\n",
    "\n",
    "class ClassName:\n",
    "<div style=\"margin-left:20px\">statement-1</div>\n",
    "<div style=\"margin-left:20px\">.</div>\n",
    "<div style=\"margin-left:20px\">.</div>\n",
    "<div style=\"margin-left:20px\">.</div>\n",
    "<div style=\"margin-left:20px\">statement-N</div>\n",
    "\n",
    "<br>\n",
    "Les définitions de classe, comme les définitions de fonction (instructions def ) doivent être exécutées avant d'avoir un\n",
    "effet. (Vous pouvez éventuellement placer une définition de classe dans une branche d'une instruction if , ou à\n",
    "l'intérieur d'une fonction.) Dans la pratique, les instructions à l'intérieur d'une définition de classe seront généralement\n",
    "des définitions de fonctions, mais d'autres instructions sont autorisées et parfois utiles - nous y reviendrons plus tard. Les\n",
    "définitions de fonctions à l'intérieur d'une classe ont normalement une forme particulière de liste d'arguments, dictée par\n",
    "les conventions d'appel des méthodes - encore une fois, cela est expliqué plus tard. Lorsqu'une définition de classe est\n",
    "entrée, un nouvel espace de noms est créé et utilisé comme étendue locale - ainsi, toutes les affectations aux variables\n",
    "locales vont dans ce nouvel espace de noms. En particulier, les définitions de fonction lient ici le nom de la nouvelle\n",
    "fonction. Lorsqu'une définition de classe est laissée normalement (via la fin), un objet de classe est créé. Il s'agit essentiellement d'un wrapper autour du contenu de l'espace de noms créé par la définition de classe. Nous en\n",
    "apprendrons davantage sur les objets de classe dans la section suivante. La portée locale d'origine (celle en vigueur juste\n",
    "avant la saisie de la définition de classe) est rétablie et l'objet classe est lié ici au nom de classe donné dans l'en-tête de\n",
    "définition de classe (ClassName dans l'exemple).\n",
    "\n",
    "## 5.6 Objets de classe\n",
    "\n",
    "Les objets de classe prennent en charge deux types d'opérations: les références d'attribut et l'instanciation.\n",
    "Les références d'attribut utilisent la syntaxe standard utilisée pour toutes les références d'attribut en Python: obj.name.\n",
    "Les noms d'attribut valides sont tous les noms qui se trouvaient dans l'espace de noms de la classe lorsque l'objet classe\n",
    "a été créé.\n",
    "\n",
    "Voici un exemple simple:"
   ]
  },
  {
   "cell_type": "code",
   "execution_count": 366,
   "id": "1bfc9eca-99d3-4ce5-b1d2-2a60eb3dad88",
   "metadata": {},
   "outputs": [],
   "source": [
    "class MyClass:\n",
    "    \"\"\"A simple example class\"\"\"\n",
    "    i = 12345\n",
    "    \n",
    "    def f(self):\n",
    "        return 'hello world'"
   ]
  },
  {
   "cell_type": "markdown",
   "id": "b55e3983-1ed5-4ee4-a811-3c4791b3aedb",
   "metadata": {},
   "source": [
    "alors MyClass.i et MyClass.f sont des références d'attribut valides, renvoyant un entier et un objet fonction,\n",
    "respectivement. Les attributs de classe peuvent également être attribués à, vous pouvez donc modifier la valeur de\n",
    "MyClass.i par affectation. doc est également un attribut valide, renvoyant la docstring appartenant à la classe: \"Un\n",
    "exemple simple de classe\".\n",
    "\n",
    "L'instanciation de classe utilise la notation de fonction. Imaginez simplement que l'objet classe est une fonction sans\n",
    "paramètre qui renvoie une nouvelle instance de la classe. Par exemple (en supposant la classe ci-dessus):"
   ]
  },
  {
   "cell_type": "code",
   "execution_count": 369,
   "id": "3d561dda-ba78-4536-8a03-d057b34c2799",
   "metadata": {},
   "outputs": [],
   "source": [
    "x = MyClass()"
   ]
  },
  {
   "cell_type": "markdown",
   "id": "af7ca589-b380-410a-aad5-9469b03ddcbf",
   "metadata": {},
   "source": [
    "Créer une nouvelle instance de la classe et affecte cet objet à la variable locale x.\n",
    "\n",
    "L'opération d'instanciation («appeler» un objet de classe) crée un objet vide. De nombreuses classes aiment créer des\n",
    "objets avec des instances personnalisées à un état initial spécifique. Par conséquent, une classe peut définir une méthode\n",
    "spéciale nommée __init __ () , comme ceci:"
   ]
  },
  {
   "cell_type": "code",
   "execution_count": 372,
   "id": "e96a308a-07ae-42c7-b15f-3988bb377134",
   "metadata": {},
   "outputs": [],
   "source": [
    "def __init__(self):\n",
    "    self.data = []"
   ]
  },
  {
   "cell_type": "markdown",
   "id": "0252d082-089b-4147-8472-aae492ef5db0",
   "metadata": {},
   "source": [
    "Lorsqu'une classe définit une méthode __init __ () , l'instanciation de classe appelle automatiquement __init __\n",
    "() pour l'instance de classe nouvellement créée. Nous verrons plus tard le détail de cette méthode.\n",
    "\n",
    "Bien sûr, la méthode __init __ () peut avoir des arguments pour une plus grande flexibilité. Dans ce cas, les\n",
    "arguments donnés à l'opérateur d'instanciation de classe sont transmis à __init __ () . Par exemple,"
   ]
  },
  {
   "cell_type": "code",
   "execution_count": 402,
   "id": "d41782d7-4e7a-4e5b-a8bb-70986288354d",
   "metadata": {},
   "outputs": [
    {
     "data": {
      "text/plain": [
       "(3.0, 4.5)"
      ]
     },
     "execution_count": 402,
     "metadata": {},
     "output_type": "execute_result"
    }
   ],
   "source": [
    "# Exemple 12\n",
    "\n",
    "class Complex:\n",
    "    def __init__(self, realpart, imagepart):\n",
    "        self.r = realpart\n",
    "        self.i = imagepart\n",
    "\n",
    "x = Complex(3.0, 4.5)\n",
    "\n",
    "x.r, x.i"
   ]
  },
  {
   "cell_type": "markdown",
   "id": "dac50d3b-3326-448f-8dfc-b1b6245aeeee",
   "metadata": {},
   "source": [
    "## 5.7 Un exemple simpliste - Matrices\n",
    "\n",
    "Par exemple, imaginons qu’on a besoin de manipuler des matrices 2 × 2\n"
   ]
  },
  {
   "cell_type": "code",
   "execution_count": 397,
   "id": "22f48cd3-d086-4422-91eb-f2904295787f",
   "metadata": {},
   "outputs": [
    {
     "data": {
      "image/png": "[encoded data removed]",
      "text/plain": [
       "<IPython.core.display.Image object>"
      ]
     },
     "execution_count": 397,
     "metadata": {},
     "output_type": "execute_result"
    }
   ],
   "source": [
    "from IPython.display import Image\n",
    "\n",
    "# Chemin vers l’image\n",
    "Image(\"matrice.png\")"
   ]
  },
  {
   "cell_type": "markdown",
   "id": "50fcffe6-f33a-4544-bce4-6e98def75f1d",
   "metadata": {},
   "source": [
    "Nous allons calculer le déterminant de cette matrice. Pour rappel, sur une matrice de ce type, le déterminant vaut :"
   ]
  },
  {
   "cell_type": "code",
   "execution_count": 399,
   "id": "e657ee99-18e5-4585-aa6d-0accd2c12ac5",
   "metadata": {},
   "outputs": [
    {
     "data": {
      "image/png": "[encoded data removed]",
      "text/plain": [
       "<IPython.core.display.Image object>"
      ]
     },
     "execution_count": 399,
     "metadata": {},
     "output_type": "execute_result"
    }
   ],
   "source": [
    "from IPython.display import Image\n",
    "\n",
    "# Chemin vers l’image\n",
    "Image(\"det_matrice.png\")"
   ]
  },
  {
   "cell_type": "markdown",
   "id": "2505e84a-b803-4729-aa43-852a153cbf5c",
   "metadata": {},
   "source": [
    "Dans la pratique, on utiliserait la classe matrix de numpy(Nous allons étudier cette classe plus en détail de ce module)\n",
    "qui est une bibliothèque de calcul scientifique très populaire et largement utilisée. Mais comme premier exemple de\n",
    "classe, nous allons écrire notre propre classe MatDeterminant2 pour mettre en action les mécanismes de base des classes\n",
    "de python."
   ]
  },
  {
   "cell_type": "code",
   "execution_count": 409,
   "id": "ec7c77c5-6602-4db5-ad4d-1e29e7f44235",
   "metadata": {},
   "outputs": [
    {
     "name": "stdout",
     "output_type": "stream",
     "text": [
      "<__main__.Matrix2 object at 0x14808aed0>\n"
     ]
    }
   ],
   "source": [
    "# Exemple 13\n",
    "\n",
    "class Matrix2:\n",
    "    def __init__(self, a11, a12, a21, a22):\n",
    "        self.a11 = a11\n",
    "        self.a12 = a12\n",
    "        self.a21 = a21\n",
    "        self.a22 = a22\n",
    "    def determinant(self):\n",
    "        return self.a11 * self.a22 - self.a12 * self.a21\n",
    "\n",
    "matrice = Matrix2(2,1,3,4)\n",
    "print(matrice)"
   ]
  },
  {
   "cell_type": "markdown",
   "id": "3a04bfc4-4e51-4f4e-9706-4cbe026c7686",
   "metadata": {},
   "source": [
    "La classe Matrix2 a définit la méthode determinant, qu’on utiliserait comme ceci :"
   ]
  },
  {
   "cell_type": "code",
   "execution_count": 411,
   "id": "f4838c2e-726c-49d0-b88a-404dede09328",
   "metadata": {},
   "outputs": [
    {
     "data": {
      "text/plain": [
       "5"
      ]
     },
     "execution_count": 411,
     "metadata": {},
     "output_type": "execute_result"
    }
   ],
   "source": [
    "matrice.determinant()"
   ]
  },
  {
   "cell_type": "markdown",
   "id": "a51afd60-a0d5-4e44-998f-8b34ee160494",
   "metadata": {},
   "source": [
    "### 5.7.1 help()\n",
    "\n",
    "La fonction help() python est utilisée pour afficher la documentation des modules, fonctions, classes, mots-clés, etc.\n",
    "\n",
    "La fonction d'aide a la syntaxe suivante:\n",
    "\n",
    "help([objet])\n",
    "\n",
    "Si la fonction d'aide est passée sans argument, l'utilitaire d'aide interactif démarre sur la console.\n",
    "\n",
    "Testons cette fonction à la matrice que nous venons de initialiser :"
   ]
  },
  {
   "cell_type": "code",
   "execution_count": 417,
   "id": "04f0b44c-2769-4d01-b971-371412a726f5",
   "metadata": {},
   "outputs": [
    {
     "name": "stdout",
     "output_type": "stream",
     "text": [
      "Help on Matrix2 in module __main__ object:\n",
      "\n",
      "class Matrix2(builtins.object)\n",
      " |  Matrix2(a11, a12, a21, a22)\n",
      " |\n",
      " |  Methods defined here:\n",
      " |\n",
      " |  __init__(self, a11, a12, a21, a22)\n",
      " |      Initialize self.  See help(type(self)) for accurate signature.\n",
      " |\n",
      " |  determinant(self)\n",
      " |\n",
      " |  ----------------------------------------------------------------------\n",
      " |  Data descriptors defined here:\n",
      " |\n",
      " |  __dict__\n",
      " |      dictionary for instance variables\n",
      " |\n",
      " |  __weakref__\n",
      " |      list of weak references to the object\n",
      "\n"
     ]
    }
   ],
   "source": [
    "help(matrice)"
   ]
  },
  {
   "cell_type": "markdown",
   "id": "38ffd082-f98d-44a2-8821-6c1cbffdf006",
   "metadata": {},
   "source": [
    "### 5.7.2 __repr__()\n",
    "\n",
    "Nous avons vu au dessus que si nous faisons directement un print(matrice) , le résultat que nous obtenons est :\n",
    "\n",
    "<__main__.Matrix2 object at 0x14808aed0>\n",
    "\n",
    "donc comme pouvons nous rendre ce résultat un peu plus lisible? Nous décidons de remplacer les 4 attributs nommés\n",
    "self.a11, self.a12, etc., qui n’étaient pas très extensibles, par un seul attribut a qui regroupe tous les coefficients de la\n",
    "matrice dans un seul tuple et vous proposer une deuxième implémentation de la classe Matrix2"
   ]
  },
  {
   "cell_type": "code",
   "execution_count": 431,
   "id": "1998fe81-6c91-4052-aa8d-3709d397e2a9",
   "metadata": {},
   "outputs": [],
   "source": [
    "class Matrix2:\n",
    "    #\"\"\"Une deuxième implémentation, tout aussi\n",
    "    #sommaire, mais différente, de matrice carrée 2x2\"\"\"\n",
    "    def __init__(self, a11, a12, a21, a22):\n",
    "        #\"construit une matrice à partir des 4 coefficients\"\n",
    "        # on décide d'utiliser un tuple plutôt que de ranger\n",
    "        # les coefficients individuellement\n",
    "        self.a = (a11,a12,a21,a22)\n",
    "    def determinant(self):\n",
    "        return self.a[0] * self.a[3] - self.a[1] * self.a[2]\n",
    "    def __repr__(self):\n",
    "        #\"comment présenter une matrice dans un print()\"\n",
    "        return f\"<<Matrice 2x2 {self.a}>>\""
   ]
  },
  {
   "cell_type": "markdown",
   "id": "f982132d-c6b0-40b3-8a19-334fe5b26d42",
   "metadata": {},
   "source": [
    "La fonction Python __repr __ () est une méthode spéciale qui renvoie la représentation de l'objet. Il peut s'agir de\n",
    "toute expression python valide telle que tuple, dictionnaire, chaîne, etc. Cette méthode est appelée lorsque la fonction\n",
    "__repr__() est invoquée sur l'objet, dans ce cas, la fonction __repr __ () doit renvoyer une chaîne sinon une\n",
    "erreur sera levée.\n",
    "\n",
    "Testons une autre fois le print(matrice) :"
   ]
  },
  {
   "cell_type": "code",
   "execution_count": 435,
   "id": "df84726a-456b-4386-84ca-27969dd129ba",
   "metadata": {},
   "outputs": [
    {
     "name": "stdout",
     "output_type": "stream",
     "text": [
      "Determinant de la matrice -1\n",
      "<<Matrice 2x2 (1, 3, 1, 2)>>\n"
     ]
    }
   ],
   "source": [
    "matrice = Matrix2(1,3,1,2)\n",
    "print(\"Determinant de la matrice\", matrice.determinant())\n",
    "print(matrice)"
   ]
  },
  {
   "cell_type": "code",
   "execution_count": null,
   "id": "c088d7e2-d15f-4345-8b33-604b0c9054a3",
   "metadata": {},
   "outputs": [],
   "source": []
  }
 ],
 "metadata": {
  "kernelspec": {
   "display_name": "Python [conda env:base] *",
   "language": "python",
   "name": "conda-base-py"
  },
  "language_info": {
   "codemirror_mode": {
    "name": "ipython",
    "version": 3
   },
   "file_extension": ".py",
   "mimetype": "text/x-python",
   "name": "python",
   "nbconvert_exporter": "python",
   "pygments_lexer": "ipython3",
   "version": "3.12.7"
  }
 },
 "nbformat": 4,
 "nbformat_minor": 5
}
